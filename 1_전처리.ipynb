{
 "cells": [
  {
   "cell_type": "markdown",
   "id": "1e470377",
   "metadata": {},
   "source": [
    "# Data Analysis using Machine Learning techniques - 2020105742 한지훈 "
   ]
  },
  {
   "cell_type": "markdown",
   "id": "06def8e4-a6fd-466b-ab29-46dbe56016a1",
   "metadata": {},
   "source": [
    "# 0. Exploratory Data Analysis"
   ]
  },
  {
   "cell_type": "markdown",
   "id": "d13cf53a",
   "metadata": {
    "toc-hr-collapsed": true
   },
   "source": [
    "## 프로젝트 개요"
   ]
  },
  {
   "cell_type": "markdown",
   "id": "652750fb",
   "metadata": {},
   "source": [
    "[주제]: 저출산 문제\n",
    "\n",
    "[목적]: \n",
    "\n",
    "1. 실제 데이터를 통해 대한민국 출산율의 심각성을 알리자.\n",
    "\n",
    "<img src=\"photos/1.png\" width=\"500\"/>\n",
    "출처: https://www.etoday.co.kr/news/view/2356928\n",
    "\n",
    "최근 출산율이 0.72로 역대 최저치를 기록했다는 기사들이 쏟아진다. 하지만 이정도의 언급이 있을 뿐이지, 전세계 국가들 출산율과 비교했을 때 어느 정도 위치에 있는지, 그래서 얼마나 심각한지에 대해서는 언급이 많이 되어있지 않다. 이 부분을 확실히 하기 위해서 Outlier 개념을 도입하여, z-score과 iqr 계산을 통해 \"한국의 출산율은 전세계 기준으로, outlier라 불릴 정도로 동떨어져 있나(심각한가)?\"에 대한 답을 하고자 한다.\n",
    "\n",
    "2. 출산율과 연관있는 의외의 factor들에는 무엇이 있을까?\n",
    "\n",
    "<img src=\"photos/2.png\" width=\"500\"/>\n",
    "출처: https://www.betterfuture.go.kr/front/policySpace/policyReferenceDetail.do?articleId=23&listLen=10&searchKeyword=&position=M\n",
    "\n",
    "2024 정부의 저출산 대책을 봐도, 대부분 비용 지원 차원(경제적 지원)의 방식으로 이루어진다. supervised, unsupervised 방식을 통해 경제적인 지원 말고, 출산율을 높일 수 있는 다른 factor들을 가려냄으로써, 정부가 좀 더 폭넓은 방향으로 정책을 만들도록 할 계획이다. \n",
    "\n",
    "3. 현재 시행중인 경제적 지원 중심 정책이 효과가 있는가?\n",
    "\n",
    "현재 시행 중인 경제적 지원 중심의 정책도 효과가 있는지 검증해야 지원량을 줄일지 늘릴지 등의 판단을 할 수 있을 것이다. t-test를 통해 경제력이 출산율에 유의미한 영향력을 미치는지 확인해보고자 한다.\n",
    "\n",
    "-> 이 사실들을 정부, 관련 기관, 국민들에게 알려 출산율 문제 해결에 기여하고자 한다."
   ]
  },
  {
   "cell_type": "markdown",
   "id": "0dd456ad",
   "metadata": {},
   "source": [
    "## 사용할 Data 종류, 설명"
   ]
  },
  {
   "cell_type": "markdown",
   "id": "d9141d25",
   "metadata": {},
   "source": [
    "1. List of countries by total fertility rate : https://tradingeconomics.com/country-list/fertility-rate-total-births-per-woman-wb-data.html\n",
    "\n",
    "2. List of countries by GDP : https://www.worldometers.info/gdp/gdp-by-country/\n",
    "\n",
    "3. List of countries by obesity rate : https://renewbariatrics.com/obesity-rank-by-countries/\n",
    "\n",
    "4. List of countries by sex ratio : https://statisticstimes.com/demographics/countries-by-sex-ratio.php\n",
    "\n",
    "5. List of countries by Literacy Rates: https://www.uscareerinstitute.edu/blog/which-countries-have-the-highest-and-lowest-literacy-rates\n",
    "\n",
    "6. List of countries by Healthcare : https://wisevoter.com/country-rankings/best-healthcare-in-the-world/\n",
    "\n",
    "7. List of countries by dependency ratio : https://www.indexmundi.com/facts/indicators/SP.POP.DPND.OL/rankings\n",
    "\n",
    "8. List of countries by female labor participation rate : https://www.indexmundi.com/facts/indicators/SL.TLF.CACT.FE.ZS/rankings"
   ]
  },
  {
   "cell_type": "markdown",
   "id": "a81c4427-13b4-4f7e-b02c-7ef060ef92f4",
   "metadata": {},
   "source": [
    "# 1. Data Pre-processing"
   ]
  },
  {
   "cell_type": "markdown",
   "id": "551f2207",
   "metadata": {},
   "source": [
    "## Data 웹크롤링 하기"
   ]
  },
  {
   "cell_type": "markdown",
   "id": "065a443e",
   "metadata": {},
   "source": [
    "먼저 1. List of countries by total fertility rate(국가별 출산율)을 제공하는 페이지에서 listly를 통해 웹크롤링을 하여 개요를 확인했다."
   ]
  },
  {
   "cell_type": "markdown",
   "id": "56a9ba6d",
   "metadata": {},
   "source": [
    "원본:\n",
    "<img src=\"photos/3.png\" width=\"600\"/>"
   ]
  },
  {
   "cell_type": "code",
   "execution_count": 1,
   "id": "d79cd92f",
   "metadata": {},
   "outputs": [
    {
     "data": {
      "text/html": [
       "<div>\n",
       "<style scoped>\n",
       "    .dataframe tbody tr th:only-of-type {\n",
       "        vertical-align: middle;\n",
       "    }\n",
       "\n",
       "    .dataframe tbody tr th {\n",
       "        vertical-align: top;\n",
       "    }\n",
       "\n",
       "    .dataframe thead th {\n",
       "        text-align: right;\n",
       "    }\n",
       "</style>\n",
       "<table border=\"1\" class=\"dataframe\">\n",
       "  <thead>\n",
       "    <tr style=\"text-align: right;\">\n",
       "      <th></th>\n",
       "      <th>LABEL-1</th>\n",
       "      <th>LABEL-2</th>\n",
       "      <th>LABEL-3</th>\n",
       "    </tr>\n",
       "  </thead>\n",
       "  <tbody>\n",
       "    <tr>\n",
       "      <th>0</th>\n",
       "      <td>Aruba</td>\n",
       "      <td>1.18</td>\n",
       "      <td>%</td>\n",
       "    </tr>\n",
       "    <tr>\n",
       "      <th>1</th>\n",
       "      <td>Afghanistan</td>\n",
       "      <td>4.64</td>\n",
       "      <td>%</td>\n",
       "    </tr>\n",
       "    <tr>\n",
       "      <th>2</th>\n",
       "      <td>Angola</td>\n",
       "      <td>5.30</td>\n",
       "      <td>%</td>\n",
       "    </tr>\n",
       "  </tbody>\n",
       "</table>\n",
       "</div>"
      ],
      "text/plain": [
       "       LABEL-1  LABEL-2 LABEL-3\n",
       "0        Aruba     1.18       %\n",
       "1  Afghanistan     4.64       %\n",
       "2       Angola     5.30       %"
      ]
     },
     "execution_count": 1,
     "metadata": {},
     "output_type": "execute_result"
    }
   ],
   "source": [
    "import pandas as pd\n",
    "\n",
    "fertility_rate_raw = pd.read_excel('raw_files/fertility_rate_raw.xlsx')\n",
    "fertility_rate_raw.head(3)"
   ]
  },
  {
   "cell_type": "markdown",
   "id": "6c7fd7c5",
   "metadata": {},
   "source": [
    "확인 결과 국가별 이름과 필요 attribute인 출산율이 모두 있다. 전처리 작업으로는 필요없는 %(LABEL-3)를 삭제해주고 label 이름들을 다시 붙여주면 될 것이다."
   ]
  },
  {
   "cell_type": "code",
   "execution_count": 2,
   "id": "37ffb54f",
   "metadata": {},
   "outputs": [
    {
     "data": {
      "text/html": [
       "<div>\n",
       "<style scoped>\n",
       "    .dataframe tbody tr th:only-of-type {\n",
       "        vertical-align: middle;\n",
       "    }\n",
       "\n",
       "    .dataframe tbody tr th {\n",
       "        vertical-align: top;\n",
       "    }\n",
       "\n",
       "    .dataframe thead th {\n",
       "        text-align: right;\n",
       "    }\n",
       "</style>\n",
       "<table border=\"1\" class=\"dataframe\">\n",
       "  <thead>\n",
       "    <tr style=\"text-align: right;\">\n",
       "      <th></th>\n",
       "      <th>Name</th>\n",
       "      <th>Fertility_rate</th>\n",
       "    </tr>\n",
       "  </thead>\n",
       "  <tbody>\n",
       "    <tr>\n",
       "      <th>0</th>\n",
       "      <td>Aruba</td>\n",
       "      <td>1.18</td>\n",
       "    </tr>\n",
       "    <tr>\n",
       "      <th>1</th>\n",
       "      <td>Afghanistan</td>\n",
       "      <td>4.64</td>\n",
       "    </tr>\n",
       "    <tr>\n",
       "      <th>2</th>\n",
       "      <td>Angola</td>\n",
       "      <td>5.30</td>\n",
       "    </tr>\n",
       "  </tbody>\n",
       "</table>\n",
       "</div>"
      ],
      "text/plain": [
       "          Name  Fertility_rate\n",
       "0        Aruba            1.18\n",
       "1  Afghanistan            4.64\n",
       "2       Angola            5.30"
      ]
     },
     "execution_count": 2,
     "metadata": {},
     "output_type": "execute_result"
    }
   ],
   "source": [
    "fertility_rate_raw = fertility_rate_raw.drop(labels=['LABEL-3'],axis=1)\n",
    "fertility_rate_raw.columns = ['Name', 'Fertility_rate'] \n",
    "\n",
    "fertility_rate_raw.head(3)"
   ]
  },
  {
   "cell_type": "markdown",
   "id": "d9fe7c3e",
   "metadata": {},
   "source": [
    "다음으로 나머지 애트리뷰트들을 제공하는 페이지들에서 listly를 통해 각각 웹크롤링을 하여 개요를 확인했다.\n",
    "\n",
    "2. GDP\n",
    "<img src=\"photos/4.png\" width=\"500\"/>"
   ]
  },
  {
   "cell_type": "code",
   "execution_count": 3,
   "id": "294fb5c0",
   "metadata": {},
   "outputs": [
    {
     "data": {
      "text/html": [
       "<div>\n",
       "<style scoped>\n",
       "    .dataframe tbody tr th:only-of-type {\n",
       "        vertical-align: middle;\n",
       "    }\n",
       "\n",
       "    .dataframe tbody tr th {\n",
       "        vertical-align: top;\n",
       "    }\n",
       "\n",
       "    .dataframe thead th {\n",
       "        text-align: right;\n",
       "    }\n",
       "</style>\n",
       "<table border=\"1\" class=\"dataframe\">\n",
       "  <thead>\n",
       "    <tr style=\"text-align: right;\">\n",
       "      <th></th>\n",
       "      <th>LABEL-1</th>\n",
       "      <th>LABEL-2</th>\n",
       "      <th>LABEL-3</th>\n",
       "      <th>LABEL-4</th>\n",
       "      <th>LABEL-5</th>\n",
       "      <th>LABEL-6</th>\n",
       "      <th>LABEL-7</th>\n",
       "      <th>LABEL-8</th>\n",
       "    </tr>\n",
       "  </thead>\n",
       "  <tbody>\n",
       "    <tr>\n",
       "      <th>0</th>\n",
       "      <td>1</td>\n",
       "      <td>United States</td>\n",
       "      <td>$25,462,700,000,000</td>\n",
       "      <td>$25.463 trillion</td>\n",
       "      <td>2.06%</td>\n",
       "      <td>338,289,857</td>\n",
       "      <td>$75,269</td>\n",
       "      <td>25.32%</td>\n",
       "    </tr>\n",
       "    <tr>\n",
       "      <th>1</th>\n",
       "      <td>2</td>\n",
       "      <td>China</td>\n",
       "      <td>$17,963,200,000,000</td>\n",
       "      <td>$17.963 trillion</td>\n",
       "      <td>2.99%</td>\n",
       "      <td>1,425,887,337</td>\n",
       "      <td>$12,598</td>\n",
       "      <td>17.86%</td>\n",
       "    </tr>\n",
       "    <tr>\n",
       "      <th>2</th>\n",
       "      <td>3</td>\n",
       "      <td>Japan</td>\n",
       "      <td>$4,231,140,000,000</td>\n",
       "      <td>$4.231 trillion</td>\n",
       "      <td>1.03%</td>\n",
       "      <td>123,951,692</td>\n",
       "      <td>$34,135</td>\n",
       "      <td>4.21%</td>\n",
       "    </tr>\n",
       "  </tbody>\n",
       "</table>\n",
       "</div>"
      ],
      "text/plain": [
       "   LABEL-1        LABEL-2              LABEL-3           LABEL-4 LABEL-5  \\\n",
       "0        1  United States  $25,462,700,000,000  $25.463 trillion   2.06%   \n",
       "1        2          China  $17,963,200,000,000  $17.963 trillion   2.99%   \n",
       "2        3          Japan   $4,231,140,000,000   $4.231 trillion   1.03%   \n",
       "\n",
       "         LABEL-6  LABEL-7 LABEL-8  \n",
       "0    338,289,857  $75,269  25.32%  \n",
       "1  1,425,887,337  $12,598  17.86%  \n",
       "2    123,951,692  $34,135   4.21%  "
      ]
     },
     "execution_count": 3,
     "metadata": {},
     "output_type": "execute_result"
    }
   ],
   "source": [
    "GDP_raw = pd.read_excel('raw_files/GDP_raw.xlsx')\n",
    "GDP_raw.head(3)"
   ]
  },
  {
   "cell_type": "markdown",
   "id": "f7c780fa",
   "metadata": {},
   "source": [
    "원본에서 GDP per capita(1인당 GDP)가 유의미하다고 판단하여 해당 애트리뷰트(LABEL-7)만 남겼다. 또한 실수값으로 활용하기 위해서 앞의 $ 표시를 삭제하고, label 이름들을 다시 붙여주었다."
   ]
  },
  {
   "cell_type": "code",
   "execution_count": 4,
   "id": "14c43e04",
   "metadata": {},
   "outputs": [
    {
     "data": {
      "text/html": [
       "<div>\n",
       "<style scoped>\n",
       "    .dataframe tbody tr th:only-of-type {\n",
       "        vertical-align: middle;\n",
       "    }\n",
       "\n",
       "    .dataframe tbody tr th {\n",
       "        vertical-align: top;\n",
       "    }\n",
       "\n",
       "    .dataframe thead th {\n",
       "        text-align: right;\n",
       "    }\n",
       "</style>\n",
       "<table border=\"1\" class=\"dataframe\">\n",
       "  <thead>\n",
       "    <tr style=\"text-align: right;\">\n",
       "      <th></th>\n",
       "      <th>Name</th>\n",
       "      <th>GDP</th>\n",
       "    </tr>\n",
       "  </thead>\n",
       "  <tbody>\n",
       "    <tr>\n",
       "      <th>0</th>\n",
       "      <td>United States</td>\n",
       "      <td>75269.0</td>\n",
       "    </tr>\n",
       "    <tr>\n",
       "      <th>1</th>\n",
       "      <td>China</td>\n",
       "      <td>12598.0</td>\n",
       "    </tr>\n",
       "    <tr>\n",
       "      <th>2</th>\n",
       "      <td>Japan</td>\n",
       "      <td>34135.0</td>\n",
       "    </tr>\n",
       "  </tbody>\n",
       "</table>\n",
       "</div>"
      ],
      "text/plain": [
       "            Name      GDP\n",
       "0  United States  75269.0\n",
       "1          China  12598.0\n",
       "2          Japan  34135.0"
      ]
     },
     "execution_count": 4,
     "metadata": {},
     "output_type": "execute_result"
    }
   ],
   "source": [
    "GDP = []\n",
    "for i in range(len(GDP_raw['LABEL-7'])):\n",
    "    f = GDP_raw['LABEL-7'][i][1:]\n",
    "    f = float(f.replace(',', ''))\n",
    "    GDP.append(f)\n",
    "\n",
    "GDP_raw.insert(3, \"GDP\", GDP)\n",
    "\n",
    "GDP_raw = GDP_raw.drop(labels=['LABEL-1','LABEL-3','LABEL-4','LABEL-5','LABEL-6','LABEL-7','LABEL-8'],axis=1)\n",
    "GDP_raw.columns = ['Name', 'GDP'] \n",
    "\n",
    "GDP_raw.head(3)"
   ]
  },
  {
   "cell_type": "markdown",
   "id": "c4124e12",
   "metadata": {},
   "source": [
    "3. obesity rate\n",
    "<img src=\"photos/5.png\" width=\"500\"/>"
   ]
  },
  {
   "cell_type": "code",
   "execution_count": 5,
   "id": "31a98059",
   "metadata": {},
   "outputs": [
    {
     "data": {
      "text/html": [
       "<div>\n",
       "<style scoped>\n",
       "    .dataframe tbody tr th:only-of-type {\n",
       "        vertical-align: middle;\n",
       "    }\n",
       "\n",
       "    .dataframe tbody tr th {\n",
       "        vertical-align: top;\n",
       "    }\n",
       "\n",
       "    .dataframe thead th {\n",
       "        text-align: right;\n",
       "    }\n",
       "</style>\n",
       "<table border=\"1\" class=\"dataframe\">\n",
       "  <thead>\n",
       "    <tr style=\"text-align: right;\">\n",
       "      <th></th>\n",
       "      <th>LABEL-1</th>\n",
       "      <th>LABEL-2</th>\n",
       "      <th>LABEL-3</th>\n",
       "      <th>LABEL-4</th>\n",
       "      <th>LABEL-5</th>\n",
       "      <th>LABEL-6</th>\n",
       "    </tr>\n",
       "  </thead>\n",
       "  <tbody>\n",
       "    <tr>\n",
       "      <th>0</th>\n",
       "      <td>1</td>\n",
       "      <td>Cook Islands</td>\n",
       "      <td>17,380</td>\n",
       "      <td>11,742</td>\n",
       "      <td>5,965</td>\n",
       "      <td>50.80%</td>\n",
       "    </tr>\n",
       "    <tr>\n",
       "      <th>1</th>\n",
       "      <td>2</td>\n",
       "      <td>Palau</td>\n",
       "      <td>18,055</td>\n",
       "      <td>12,198</td>\n",
       "      <td>5,806</td>\n",
       "      <td>47.60%</td>\n",
       "    </tr>\n",
       "    <tr>\n",
       "      <th>2</th>\n",
       "      <td>3</td>\n",
       "      <td>Nauru</td>\n",
       "      <td>12,668</td>\n",
       "      <td>8,559</td>\n",
       "      <td>3,903</td>\n",
       "      <td>45.60%</td>\n",
       "    </tr>\n",
       "    <tr>\n",
       "      <th>3</th>\n",
       "      <td>4</td>\n",
       "      <td>Samoa</td>\n",
       "      <td>222,382</td>\n",
       "      <td>150,241</td>\n",
       "      <td>65,205</td>\n",
       "      <td>43.40%</td>\n",
       "    </tr>\n",
       "    <tr>\n",
       "      <th>4</th>\n",
       "      <td>5</td>\n",
       "      <td>Tonga</td>\n",
       "      <td>106,858</td>\n",
       "      <td>72,193</td>\n",
       "      <td>31,260</td>\n",
       "      <td>43.30%</td>\n",
       "    </tr>\n",
       "  </tbody>\n",
       "</table>\n",
       "</div>"
      ],
      "text/plain": [
       "   LABEL-1       LABEL-2  LABEL-3  LABEL-4 LABEL-5 LABEL-6\n",
       "0        1  Cook Islands   17,380   11,742   5,965  50.80%\n",
       "1        2         Palau   18,055   12,198   5,806  47.60%\n",
       "2        3         Nauru   12,668    8,559   3,903  45.60%\n",
       "3        4         Samoa  222,382  150,241  65,205  43.40%\n",
       "4        5         Tonga  106,858   72,193  31,260  43.30%"
      ]
     },
     "execution_count": 5,
     "metadata": {},
     "output_type": "execute_result"
    }
   ],
   "source": [
    "obesity_rate_raw= pd.read_excel('raw_files/obesity_rate_raw.xlsx')\n",
    "obesity_rate_raw.head()"
   ]
  },
  {
   "cell_type": "markdown",
   "id": "f5960229-ba57-494b-aee5-4cc4222d2da6",
   "metadata": {},
   "source": [
    "비만인 사람들의 비만율(LABEL-6)만을 남기고, float값으로 활용하기 위해 %를 제거해주었다."
   ]
  },
  {
   "cell_type": "code",
   "execution_count": 6,
   "id": "12e22ac9-16ee-4863-9cb9-b5b9a5da5a5a",
   "metadata": {
    "tags": []
   },
   "outputs": [
    {
     "data": {
      "text/html": [
       "<div>\n",
       "<style scoped>\n",
       "    .dataframe tbody tr th:only-of-type {\n",
       "        vertical-align: middle;\n",
       "    }\n",
       "\n",
       "    .dataframe tbody tr th {\n",
       "        vertical-align: top;\n",
       "    }\n",
       "\n",
       "    .dataframe thead th {\n",
       "        text-align: right;\n",
       "    }\n",
       "</style>\n",
       "<table border=\"1\" class=\"dataframe\">\n",
       "  <thead>\n",
       "    <tr style=\"text-align: right;\">\n",
       "      <th></th>\n",
       "      <th>Name</th>\n",
       "      <th>obesity_rate</th>\n",
       "    </tr>\n",
       "  </thead>\n",
       "  <tbody>\n",
       "    <tr>\n",
       "      <th>0</th>\n",
       "      <td>Cook Islands</td>\n",
       "      <td>50.8</td>\n",
       "    </tr>\n",
       "    <tr>\n",
       "      <th>1</th>\n",
       "      <td>Palau</td>\n",
       "      <td>47.6</td>\n",
       "    </tr>\n",
       "    <tr>\n",
       "      <th>2</th>\n",
       "      <td>Nauru</td>\n",
       "      <td>45.6</td>\n",
       "    </tr>\n",
       "  </tbody>\n",
       "</table>\n",
       "</div>"
      ],
      "text/plain": [
       "           Name  obesity_rate\n",
       "0  Cook Islands          50.8\n",
       "1         Palau          47.6\n",
       "2         Nauru          45.6"
      ]
     },
     "execution_count": 6,
     "metadata": {},
     "output_type": "execute_result"
    }
   ],
   "source": [
    "obesity_rate = []\n",
    "for i in range(len(obesity_rate_raw['LABEL-6'])):\n",
    "    f = obesity_rate_raw['LABEL-6'][i][:-1]\n",
    "    f = float(f)\n",
    "    obesity_rate.append(f)\n",
    "\n",
    "obesity_rate_raw.insert(3, \"obesity_rate\", obesity_rate)\n",
    "\n",
    "obesity_rate_raw = obesity_rate_raw.drop(labels=['LABEL-1','LABEL-3','LABEL-4','LABEL-5','LABEL-6',],axis=1)\n",
    "obesity_rate_raw.columns = ['Name', 'obesity_rate'] \n",
    "\n",
    "obesity_rate_raw.head(3)"
   ]
  },
  {
   "cell_type": "markdown",
   "id": "43125c17",
   "metadata": {
    "tags": []
   },
   "source": [
    "4. sex ratio\n",
    "<img src=\"photos/6.png\" width=\"500\"/>"
   ]
  },
  {
   "cell_type": "code",
   "execution_count": 7,
   "id": "63342ee1",
   "metadata": {
    "tags": []
   },
   "outputs": [
    {
     "data": {
      "text/html": [
       "<div>\n",
       "<style scoped>\n",
       "    .dataframe tbody tr th:only-of-type {\n",
       "        vertical-align: middle;\n",
       "    }\n",
       "\n",
       "    .dataframe tbody tr th {\n",
       "        vertical-align: top;\n",
       "    }\n",
       "\n",
       "    .dataframe thead th {\n",
       "        text-align: right;\n",
       "    }\n",
       "</style>\n",
       "<table border=\"1\" class=\"dataframe\">\n",
       "  <thead>\n",
       "    <tr style=\"text-align: right;\">\n",
       "      <th></th>\n",
       "      <th>LABEL-1</th>\n",
       "      <th>LABEL-2</th>\n",
       "      <th>LABEL-3</th>\n",
       "      <th>LABEL-4</th>\n",
       "      <th>LABEL-5</th>\n",
       "      <th>LABEL-6</th>\n",
       "      <th>LABEL-7</th>\n",
       "      <th>LABEL-8</th>\n",
       "    </tr>\n",
       "  </thead>\n",
       "  <tbody>\n",
       "    <tr>\n",
       "      <th>0</th>\n",
       "      <td>Armenia</td>\n",
       "      <td>81.799</td>\n",
       "      <td>1</td>\n",
       "      <td>108.3</td>\n",
       "      <td>110.161</td>\n",
       "      <td>82.066</td>\n",
       "      <td>52.008</td>\n",
       "      <td>Asia</td>\n",
       "    </tr>\n",
       "    <tr>\n",
       "      <th>1</th>\n",
       "      <td>Guadeloupe</td>\n",
       "      <td>82.366</td>\n",
       "      <td>2</td>\n",
       "      <td>103.3</td>\n",
       "      <td>103.274</td>\n",
       "      <td>81.275</td>\n",
       "      <td>70.641</td>\n",
       "      <td>North America</td>\n",
       "    </tr>\n",
       "    <tr>\n",
       "      <th>2</th>\n",
       "      <td>Ukraine</td>\n",
       "      <td>84.353</td>\n",
       "      <td>3</td>\n",
       "      <td>106.2</td>\n",
       "      <td>106.811</td>\n",
       "      <td>93.979</td>\n",
       "      <td>48.510</td>\n",
       "      <td>Europe</td>\n",
       "    </tr>\n",
       "  </tbody>\n",
       "</table>\n",
       "</div>"
      ],
      "text/plain": [
       "      LABEL-1  LABEL-2  LABEL-3  LABEL-4  LABEL-5  LABEL-6  LABEL-7  \\\n",
       "0     Armenia   81.799        1    108.3  110.161   82.066   52.008   \n",
       "1  Guadeloupe   82.366        2    103.3  103.274   81.275   70.641   \n",
       "2     Ukraine   84.353        3    106.2  106.811   93.979   48.510   \n",
       "\n",
       "         LABEL-8  \n",
       "0           Asia  \n",
       "1  North America  \n",
       "2         Europe  "
      ]
     },
     "execution_count": 7,
     "metadata": {},
     "output_type": "execute_result"
    }
   ],
   "source": [
    "sex_ratio_raw = pd.read_excel('raw_files/sex_ratio_raw.xlsx')\n",
    "sex_ratio_raw.head(3)"
   ]
  },
  {
   "cell_type": "markdown",
   "id": "9e674016-c8cd-4c31-866c-855140e15846",
   "metadata": {},
   "source": [
    "여성 100명당 남성의 수를 나타내는 LABEL-2를 제외하고 모두 제거하였다."
   ]
  },
  {
   "cell_type": "code",
   "execution_count": 8,
   "id": "3e0189d4-2a08-430c-a930-0bdf09f94058",
   "metadata": {},
   "outputs": [
    {
     "data": {
      "text/html": [
       "<div>\n",
       "<style scoped>\n",
       "    .dataframe tbody tr th:only-of-type {\n",
       "        vertical-align: middle;\n",
       "    }\n",
       "\n",
       "    .dataframe tbody tr th {\n",
       "        vertical-align: top;\n",
       "    }\n",
       "\n",
       "    .dataframe thead th {\n",
       "        text-align: right;\n",
       "    }\n",
       "</style>\n",
       "<table border=\"1\" class=\"dataframe\">\n",
       "  <thead>\n",
       "    <tr style=\"text-align: right;\">\n",
       "      <th></th>\n",
       "      <th>Name</th>\n",
       "      <th>sex_ratio</th>\n",
       "    </tr>\n",
       "  </thead>\n",
       "  <tbody>\n",
       "    <tr>\n",
       "      <th>0</th>\n",
       "      <td>Armenia</td>\n",
       "      <td>81.799</td>\n",
       "    </tr>\n",
       "    <tr>\n",
       "      <th>1</th>\n",
       "      <td>Guadeloupe</td>\n",
       "      <td>82.366</td>\n",
       "    </tr>\n",
       "    <tr>\n",
       "      <th>2</th>\n",
       "      <td>Ukraine</td>\n",
       "      <td>84.353</td>\n",
       "    </tr>\n",
       "  </tbody>\n",
       "</table>\n",
       "</div>"
      ],
      "text/plain": [
       "         Name  sex_ratio\n",
       "0     Armenia     81.799\n",
       "1  Guadeloupe     82.366\n",
       "2     Ukraine     84.353"
      ]
     },
     "execution_count": 8,
     "metadata": {},
     "output_type": "execute_result"
    }
   ],
   "source": [
    "sex_ratio_raw = sex_ratio_raw.drop(labels=['LABEL-3','LABEL-4','LABEL-5','LABEL-6','LABEL-7','LABEL-8'],axis=1)\n",
    "sex_ratio_raw.columns = ['Name', 'sex_ratio'] \n",
    "\n",
    "sex_ratio_raw.head(3)"
   ]
  },
  {
   "cell_type": "markdown",
   "id": "6b7d3c1f",
   "metadata": {},
   "source": [
    "5. literacy rate\n",
    "<img src=\"photos/7.png\" width=\"500\"/>"
   ]
  },
  {
   "cell_type": "code",
   "execution_count": 9,
   "id": "493c099b",
   "metadata": {},
   "outputs": [
    {
     "data": {
      "text/html": [
       "<div>\n",
       "<style scoped>\n",
       "    .dataframe tbody tr th:only-of-type {\n",
       "        vertical-align: middle;\n",
       "    }\n",
       "\n",
       "    .dataframe tbody tr th {\n",
       "        vertical-align: top;\n",
       "    }\n",
       "\n",
       "    .dataframe thead th {\n",
       "        text-align: right;\n",
       "    }\n",
       "</style>\n",
       "<table border=\"1\" class=\"dataframe\">\n",
       "  <thead>\n",
       "    <tr style=\"text-align: right;\">\n",
       "      <th></th>\n",
       "      <th>LABEL-1</th>\n",
       "      <th>LABEL-2</th>\n",
       "      <th>LABEL-3</th>\n",
       "      <th>LABEL-4</th>\n",
       "    </tr>\n",
       "  </thead>\n",
       "  <tbody>\n",
       "    <tr>\n",
       "      <th>0</th>\n",
       "      <td>Country</td>\n",
       "      <td>NaN</td>\n",
       "      <td>Literacy rate</td>\n",
       "      <td>NaN</td>\n",
       "    </tr>\n",
       "    <tr>\n",
       "      <th>1</th>\n",
       "      <td>NaN</td>\n",
       "      <td>Andorra</td>\n",
       "      <td>NaN</td>\n",
       "      <td>100.0</td>\n",
       "    </tr>\n",
       "    <tr>\n",
       "      <th>2</th>\n",
       "      <td>NaN</td>\n",
       "      <td>Finland</td>\n",
       "      <td>NaN</td>\n",
       "      <td>100.0</td>\n",
       "    </tr>\n",
       "  </tbody>\n",
       "</table>\n",
       "</div>"
      ],
      "text/plain": [
       "   LABEL-1  LABEL-2        LABEL-3  LABEL-4\n",
       "0  Country      NaN  Literacy rate      NaN\n",
       "1      NaN  Andorra            NaN    100.0\n",
       "2      NaN  Finland            NaN    100.0"
      ]
     },
     "execution_count": 9,
     "metadata": {},
     "output_type": "execute_result"
    }
   ],
   "source": [
    "literacy_rate_raw = pd.read_excel('raw_files/literacy_rate_raw.xlsx')\n",
    "literacy_rate_raw.head(3)"
   ]
  },
  {
   "cell_type": "markdown",
   "id": "3d5ef697-1b48-4ea0-9dd7-ceca675adbaf",
   "metadata": {},
   "source": [
    "국가별 문맹률을 나타내는 LABEL-4을 제외하고 모두 제거하였다. 또한 첫 열은 attribute 이름을 가지고 있어서 제거하고 따로 이름을 지었다."
   ]
  },
  {
   "cell_type": "code",
   "execution_count": 10,
   "id": "606b7384-4a07-4861-8bdb-65284c1b45ee",
   "metadata": {},
   "outputs": [
    {
     "data": {
      "text/html": [
       "<div>\n",
       "<style scoped>\n",
       "    .dataframe tbody tr th:only-of-type {\n",
       "        vertical-align: middle;\n",
       "    }\n",
       "\n",
       "    .dataframe tbody tr th {\n",
       "        vertical-align: top;\n",
       "    }\n",
       "\n",
       "    .dataframe thead th {\n",
       "        text-align: right;\n",
       "    }\n",
       "</style>\n",
       "<table border=\"1\" class=\"dataframe\">\n",
       "  <thead>\n",
       "    <tr style=\"text-align: right;\">\n",
       "      <th></th>\n",
       "      <th>Name</th>\n",
       "      <th>literacy_rate</th>\n",
       "    </tr>\n",
       "  </thead>\n",
       "  <tbody>\n",
       "    <tr>\n",
       "      <th>1</th>\n",
       "      <td>Andorra</td>\n",
       "      <td>100.0</td>\n",
       "    </tr>\n",
       "    <tr>\n",
       "      <th>2</th>\n",
       "      <td>Finland</td>\n",
       "      <td>100.0</td>\n",
       "    </tr>\n",
       "    <tr>\n",
       "      <th>3</th>\n",
       "      <td>Greenland</td>\n",
       "      <td>100.0</td>\n",
       "    </tr>\n",
       "  </tbody>\n",
       "</table>\n",
       "</div>"
      ],
      "text/plain": [
       "        Name  literacy_rate\n",
       "1    Andorra          100.0\n",
       "2    Finland          100.0\n",
       "3  Greenland          100.0"
      ]
     },
     "execution_count": 10,
     "metadata": {},
     "output_type": "execute_result"
    }
   ],
   "source": [
    "literacy_rate_raw = literacy_rate_raw.drop(labels=['LABEL-1','LABEL-3'],axis=1)\n",
    "literacy_rate_raw = literacy_rate_raw.drop([0], axis=0)\n",
    "literacy_rate_raw.columns = ['Name', 'literacy_rate'] \n",
    "\n",
    "literacy_rate_raw.head(3)"
   ]
  },
  {
   "cell_type": "markdown",
   "id": "6cc91626",
   "metadata": {},
   "source": [
    "6. healthcare\n",
    "<img src=\"photos/8.png\" width=\"500\"/>"
   ]
  },
  {
   "cell_type": "code",
   "execution_count": 11,
   "id": "2476f782",
   "metadata": {},
   "outputs": [
    {
     "data": {
      "text/html": [
       "<div>\n",
       "<style scoped>\n",
       "    .dataframe tbody tr th:only-of-type {\n",
       "        vertical-align: middle;\n",
       "    }\n",
       "\n",
       "    .dataframe tbody tr th {\n",
       "        vertical-align: top;\n",
       "    }\n",
       "\n",
       "    .dataframe thead th {\n",
       "        text-align: right;\n",
       "    }\n",
       "</style>\n",
       "<table border=\"1\" class=\"dataframe\">\n",
       "  <thead>\n",
       "    <tr style=\"text-align: right;\">\n",
       "      <th></th>\n",
       "      <th>LABEL-1</th>\n",
       "      <th>LABEL-2</th>\n",
       "      <th>LABEL-3</th>\n",
       "      <th>LABEL-4</th>\n",
       "      <th>LABEL-5</th>\n",
       "    </tr>\n",
       "  </thead>\n",
       "  <tbody>\n",
       "    <tr>\n",
       "      <th>0</th>\n",
       "      <td>1</td>\n",
       "      <td>Belgium</td>\n",
       "      <td>83.8</td>\n",
       "      <td>80.6</td>\n",
       "      <td>NaN</td>\n",
       "    </tr>\n",
       "    <tr>\n",
       "      <th>1</th>\n",
       "      <td>2</td>\n",
       "      <td>Japan</td>\n",
       "      <td>83.2</td>\n",
       "      <td>86.6</td>\n",
       "      <td>NaN</td>\n",
       "    </tr>\n",
       "    <tr>\n",
       "      <th>2</th>\n",
       "      <td>3</td>\n",
       "      <td>Sweden</td>\n",
       "      <td>83.1</td>\n",
       "      <td>82.1</td>\n",
       "      <td>24%</td>\n",
       "    </tr>\n",
       "  </tbody>\n",
       "</table>\n",
       "</div>"
      ],
      "text/plain": [
       "   LABEL-1  LABEL-2  LABEL-3  LABEL-4 LABEL-5\n",
       "0        1  Belgium     83.8     80.6     NaN\n",
       "1        2    Japan     83.2     86.6     NaN\n",
       "2        3   Sweden     83.1     82.1     24%"
      ]
     },
     "execution_count": 11,
     "metadata": {},
     "output_type": "execute_result"
    }
   ],
   "source": [
    "healthcare_raw = pd.read_excel('raw_files/healthcare_raw.xlsx')\n",
    "healthcare_raw.head(3)"
   ]
  },
  {
   "cell_type": "markdown",
   "id": "3fcf00fc-a24e-490c-9fdf-5249a704307f",
   "metadata": {},
   "source": [
    "의료수준을 나타내는 health score(LABEL-4)를 제외하고 모두 제거하였다."
   ]
  },
  {
   "cell_type": "code",
   "execution_count": 12,
   "id": "dc19d384-fa51-4027-99ed-a8a839d79957",
   "metadata": {},
   "outputs": [
    {
     "data": {
      "text/html": [
       "<div>\n",
       "<style scoped>\n",
       "    .dataframe tbody tr th:only-of-type {\n",
       "        vertical-align: middle;\n",
       "    }\n",
       "\n",
       "    .dataframe tbody tr th {\n",
       "        vertical-align: top;\n",
       "    }\n",
       "\n",
       "    .dataframe thead th {\n",
       "        text-align: right;\n",
       "    }\n",
       "</style>\n",
       "<table border=\"1\" class=\"dataframe\">\n",
       "  <thead>\n",
       "    <tr style=\"text-align: right;\">\n",
       "      <th></th>\n",
       "      <th>Name</th>\n",
       "      <th>healthcare</th>\n",
       "    </tr>\n",
       "  </thead>\n",
       "  <tbody>\n",
       "    <tr>\n",
       "      <th>0</th>\n",
       "      <td>Belgium</td>\n",
       "      <td>80.6</td>\n",
       "    </tr>\n",
       "    <tr>\n",
       "      <th>1</th>\n",
       "      <td>Japan</td>\n",
       "      <td>86.6</td>\n",
       "    </tr>\n",
       "    <tr>\n",
       "      <th>2</th>\n",
       "      <td>Sweden</td>\n",
       "      <td>82.1</td>\n",
       "    </tr>\n",
       "  </tbody>\n",
       "</table>\n",
       "</div>"
      ],
      "text/plain": [
       "      Name  healthcare\n",
       "0  Belgium        80.6\n",
       "1    Japan        86.6\n",
       "2   Sweden        82.1"
      ]
     },
     "execution_count": 12,
     "metadata": {},
     "output_type": "execute_result"
    }
   ],
   "source": [
    "healthcare_raw = healthcare_raw.drop(labels=['LABEL-1','LABEL-3', 'LABEL-5'],axis=1)\n",
    "healthcare_raw.columns = ['Name', 'healthcare'] \n",
    "\n",
    "healthcare_raw.head(3)"
   ]
  },
  {
   "cell_type": "markdown",
   "id": "3eee89d9",
   "metadata": {},
   "source": [
    "7. dependency ratio\n",
    "<img src=\"photos/9.png\" width=\"200\"/>"
   ]
  },
  {
   "cell_type": "code",
   "execution_count": 13,
   "id": "715ec5ec",
   "metadata": {},
   "outputs": [
    {
     "data": {
      "text/html": [
       "<div>\n",
       "<style scoped>\n",
       "    .dataframe tbody tr th:only-of-type {\n",
       "        vertical-align: middle;\n",
       "    }\n",
       "\n",
       "    .dataframe tbody tr th {\n",
       "        vertical-align: top;\n",
       "    }\n",
       "\n",
       "    .dataframe thead th {\n",
       "        text-align: right;\n",
       "    }\n",
       "</style>\n",
       "<table border=\"1\" class=\"dataframe\">\n",
       "  <thead>\n",
       "    <tr style=\"text-align: right;\">\n",
       "      <th></th>\n",
       "      <th>LABEL-1</th>\n",
       "      <th>LABEL-2</th>\n",
       "      <th>LABEL-3</th>\n",
       "      <th>LABEL-4</th>\n",
       "      <th>LABEL-5</th>\n",
       "      <th>LABEL-6</th>\n",
       "      <th>LABEL-7</th>\n",
       "      <th>LABEL-8</th>\n",
       "    </tr>\n",
       "  </thead>\n",
       "  <tbody>\n",
       "    <tr>\n",
       "      <th>0</th>\n",
       "      <td>Rank</td>\n",
       "      <td>NaN</td>\n",
       "      <td>Country</td>\n",
       "      <td>NaN</td>\n",
       "      <td>Value</td>\n",
       "      <td>NaN</td>\n",
       "      <td>Year</td>\n",
       "      <td>NaN</td>\n",
       "    </tr>\n",
       "    <tr>\n",
       "      <th>1</th>\n",
       "      <td>NaN</td>\n",
       "      <td>1.0</td>\n",
       "      <td>NaN</td>\n",
       "      <td>Japan</td>\n",
       "      <td>NaN</td>\n",
       "      <td>48.01</td>\n",
       "      <td>NaN</td>\n",
       "      <td>2020.0</td>\n",
       "    </tr>\n",
       "    <tr>\n",
       "      <th>2</th>\n",
       "      <td>NaN</td>\n",
       "      <td>2.0</td>\n",
       "      <td>NaN</td>\n",
       "      <td>Finland</td>\n",
       "      <td>NaN</td>\n",
       "      <td>36.63</td>\n",
       "      <td>NaN</td>\n",
       "      <td>2020.0</td>\n",
       "    </tr>\n",
       "  </tbody>\n",
       "</table>\n",
       "</div>"
      ],
      "text/plain": [
       "  LABEL-1  LABEL-2  LABEL-3  LABEL-4 LABEL-5  LABEL-6 LABEL-7  LABEL-8\n",
       "0    Rank      NaN  Country      NaN   Value      NaN    Year      NaN\n",
       "1     NaN      1.0      NaN    Japan     NaN    48.01     NaN   2020.0\n",
       "2     NaN      2.0      NaN  Finland     NaN    36.63     NaN   2020.0"
      ]
     },
     "execution_count": 13,
     "metadata": {},
     "output_type": "execute_result"
    }
   ],
   "source": [
    "dependency_ratio_raw = pd.read_excel('raw_files/dependency_ratio_raw.xlsx')\n",
    "dependency_ratio_raw.head(3)"
   ]
  },
  {
   "cell_type": "markdown",
   "id": "37d5f405-fb75-4334-a549-907655963e17",
   "metadata": {},
   "source": [
    "dependency ratio를 나타내는 LABEL-6를 제외하고 모두 제거하였다. 또한 첫 열은 attribute 이름을 가지고 있어서 제거하고 따로 이름을 지었다."
   ]
  },
  {
   "cell_type": "code",
   "execution_count": 14,
   "id": "97d67443-c381-4a88-84c3-3e5b48d79e85",
   "metadata": {},
   "outputs": [
    {
     "data": {
      "text/html": [
       "<div>\n",
       "<style scoped>\n",
       "    .dataframe tbody tr th:only-of-type {\n",
       "        vertical-align: middle;\n",
       "    }\n",
       "\n",
       "    .dataframe tbody tr th {\n",
       "        vertical-align: top;\n",
       "    }\n",
       "\n",
       "    .dataframe thead th {\n",
       "        text-align: right;\n",
       "    }\n",
       "</style>\n",
       "<table border=\"1\" class=\"dataframe\">\n",
       "  <thead>\n",
       "    <tr style=\"text-align: right;\">\n",
       "      <th></th>\n",
       "      <th>Name</th>\n",
       "      <th>dependency_ratio</th>\n",
       "    </tr>\n",
       "  </thead>\n",
       "  <tbody>\n",
       "    <tr>\n",
       "      <th>1</th>\n",
       "      <td>Japan</td>\n",
       "      <td>48.01</td>\n",
       "    </tr>\n",
       "    <tr>\n",
       "      <th>2</th>\n",
       "      <td>Finland</td>\n",
       "      <td>36.63</td>\n",
       "    </tr>\n",
       "    <tr>\n",
       "      <th>3</th>\n",
       "      <td>Italy</td>\n",
       "      <td>36.57</td>\n",
       "    </tr>\n",
       "  </tbody>\n",
       "</table>\n",
       "</div>"
      ],
      "text/plain": [
       "      Name  dependency_ratio\n",
       "1    Japan             48.01\n",
       "2  Finland             36.63\n",
       "3    Italy             36.57"
      ]
     },
     "execution_count": 14,
     "metadata": {},
     "output_type": "execute_result"
    }
   ],
   "source": [
    "dependency_ratio_raw = dependency_ratio_raw.drop(labels=['LABEL-1','LABEL-2','LABEL-3','LABEL-5','LABEL-7','LABEL-8'],axis=1)\n",
    "dependency_ratio_raw = dependency_ratio_raw.drop([0], axis=0)\n",
    "dependency_ratio_raw.columns = ['Name', 'dependency_ratio'] \n",
    "\n",
    "dependency_ratio_raw.head(3)"
   ]
  },
  {
   "cell_type": "markdown",
   "id": "c20096c1-5a33-4d43-95ca-0354b2328bbd",
   "metadata": {},
   "source": [
    "8. female labor participation rate\n",
    "<img src=\"photos/10.png\" width=\"400\"/>"
   ]
  },
  {
   "cell_type": "code",
   "execution_count": 15,
   "id": "aa5d864b-daf5-4ed1-ae1a-cf7dcaf7f011",
   "metadata": {},
   "outputs": [
    {
     "data": {
      "text/html": [
       "<div>\n",
       "<style scoped>\n",
       "    .dataframe tbody tr th:only-of-type {\n",
       "        vertical-align: middle;\n",
       "    }\n",
       "\n",
       "    .dataframe tbody tr th {\n",
       "        vertical-align: top;\n",
       "    }\n",
       "\n",
       "    .dataframe thead th {\n",
       "        text-align: right;\n",
       "    }\n",
       "</style>\n",
       "<table border=\"1\" class=\"dataframe\">\n",
       "  <thead>\n",
       "    <tr style=\"text-align: right;\">\n",
       "      <th></th>\n",
       "      <th>LABEL-1</th>\n",
       "      <th>LABEL-2</th>\n",
       "      <th>LABEL-3</th>\n",
       "      <th>LABEL-4</th>\n",
       "      <th>LABEL-5</th>\n",
       "      <th>LABEL-6</th>\n",
       "      <th>LABEL-7</th>\n",
       "      <th>LABEL-8</th>\n",
       "    </tr>\n",
       "  </thead>\n",
       "  <tbody>\n",
       "    <tr>\n",
       "      <th>0</th>\n",
       "      <td>Rank</td>\n",
       "      <td>NaN</td>\n",
       "      <td>Country</td>\n",
       "      <td>NaN</td>\n",
       "      <td>Value</td>\n",
       "      <td>NaN</td>\n",
       "      <td>Year</td>\n",
       "      <td>NaN</td>\n",
       "    </tr>\n",
       "    <tr>\n",
       "      <th>1</th>\n",
       "      <td>NaN</td>\n",
       "      <td>1.0</td>\n",
       "      <td>NaN</td>\n",
       "      <td>Solomon Islands</td>\n",
       "      <td>NaN</td>\n",
       "      <td>83.06</td>\n",
       "      <td>NaN</td>\n",
       "      <td>2021.0</td>\n",
       "    </tr>\n",
       "    <tr>\n",
       "      <th>2</th>\n",
       "      <td>NaN</td>\n",
       "      <td>2.0</td>\n",
       "      <td>NaN</td>\n",
       "      <td>Rwanda</td>\n",
       "      <td>NaN</td>\n",
       "      <td>82.50</td>\n",
       "      <td>NaN</td>\n",
       "      <td>2021.0</td>\n",
       "    </tr>\n",
       "  </tbody>\n",
       "</table>\n",
       "</div>"
      ],
      "text/plain": [
       "  LABEL-1  LABEL-2  LABEL-3          LABEL-4 LABEL-5  LABEL-6 LABEL-7  LABEL-8\n",
       "0    Rank      NaN  Country              NaN   Value      NaN    Year      NaN\n",
       "1     NaN      1.0      NaN  Solomon Islands     NaN    83.06     NaN   2021.0\n",
       "2     NaN      2.0      NaN           Rwanda     NaN    82.50     NaN   2021.0"
      ]
     },
     "execution_count": 15,
     "metadata": {},
     "output_type": "execute_result"
    }
   ],
   "source": [
    "female_labor_raw = pd.read_excel('raw_files/female_labor_raw.xlsx')\n",
    "female_labor_raw.head(3)"
   ]
  },
  {
   "cell_type": "markdown",
   "id": "0bb78949-80ef-4cef-9423-6abfe073c3fb",
   "metadata": {},
   "source": [
    "female labor participation rate를 나타내는 LABEL-6를 제외하고 모두 제거하였다. 또한 첫 열은 attribute 이름을 가지고 있어서 제거하고 따로 이름을 지었다."
   ]
  },
  {
   "cell_type": "code",
   "execution_count": 16,
   "id": "fb5110c3-88b2-4b20-97bd-6c90ea8f84a4",
   "metadata": {},
   "outputs": [
    {
     "data": {
      "text/html": [
       "<div>\n",
       "<style scoped>\n",
       "    .dataframe tbody tr th:only-of-type {\n",
       "        vertical-align: middle;\n",
       "    }\n",
       "\n",
       "    .dataframe tbody tr th {\n",
       "        vertical-align: top;\n",
       "    }\n",
       "\n",
       "    .dataframe thead th {\n",
       "        text-align: right;\n",
       "    }\n",
       "</style>\n",
       "<table border=\"1\" class=\"dataframe\">\n",
       "  <thead>\n",
       "    <tr style=\"text-align: right;\">\n",
       "      <th></th>\n",
       "      <th>Name</th>\n",
       "      <th>female_labor</th>\n",
       "    </tr>\n",
       "  </thead>\n",
       "  <tbody>\n",
       "    <tr>\n",
       "      <th>1</th>\n",
       "      <td>Solomon Islands</td>\n",
       "      <td>83.06</td>\n",
       "    </tr>\n",
       "    <tr>\n",
       "      <th>2</th>\n",
       "      <td>Rwanda</td>\n",
       "      <td>82.50</td>\n",
       "    </tr>\n",
       "    <tr>\n",
       "      <th>3</th>\n",
       "      <td>Madagascar</td>\n",
       "      <td>81.53</td>\n",
       "    </tr>\n",
       "  </tbody>\n",
       "</table>\n",
       "</div>"
      ],
      "text/plain": [
       "              Name  female_labor\n",
       "1  Solomon Islands         83.06\n",
       "2           Rwanda         82.50\n",
       "3       Madagascar         81.53"
      ]
     },
     "execution_count": 16,
     "metadata": {},
     "output_type": "execute_result"
    }
   ],
   "source": [
    "female_labor_raw = female_labor_raw.drop(labels=['LABEL-1','LABEL-2','LABEL-3','LABEL-5','LABEL-7','LABEL-8'],axis=1)\n",
    "female_labor_raw = female_labor_raw.drop([0], axis=0)\n",
    "female_labor_raw.columns = ['Name', 'female_labor'] \n",
    "\n",
    "female_labor_raw.head(3)"
   ]
  },
  {
   "cell_type": "markdown",
   "id": "0eddcfe1-387d-4985-88d8-b4c04e9af7ad",
   "metadata": {},
   "source": [
    "## Data들 merge"
   ]
  },
  {
   "cell_type": "markdown",
   "id": "9ec02862-ecd7-4942-8d36-084d4afe473e",
   "metadata": {},
   "source": [
    "분석을 위해서 크롤링한 8개의 dataset을 하나로 합치는 작업을 할 것이다. 그런데 8개 dataset들을 합치는 과정에서 Null값들이 반드시 발생하게 된다. 그 이유는 8개 dataset의 출처가 각기 다르고, 포함된 국가들이 다 조금씩 다르기 때문이다. (ex) 국가 \"Aruba\"는 Fertility_rate에는 존재하지만, GDP에는 존재하지 않음) outer join을 하면 그 사실을 확인할 수 있다."
   ]
  },
  {
   "cell_type": "code",
   "execution_count": 17,
   "id": "d69c2044-38d0-4c73-930c-7f8c9226a01d",
   "metadata": {},
   "outputs": [],
   "source": [
    "a=fertility_rate_raw\n",
    "b=GDP_raw\n",
    "c=obesity_rate_raw\n",
    "d=sex_ratio_raw\n",
    "e=literacy_rate_raw\n",
    "f=healthcare_raw\n",
    "g=dependency_ratio_raw\n",
    "h=female_labor_raw"
   ]
  },
  {
   "cell_type": "code",
   "execution_count": 18,
   "id": "9a44cfae-a266-4b65-987f-88e18b765c56",
   "metadata": {},
   "outputs": [
    {
     "data": {
      "text/html": [
       "<div>\n",
       "<style scoped>\n",
       "    .dataframe tbody tr th:only-of-type {\n",
       "        vertical-align: middle;\n",
       "    }\n",
       "\n",
       "    .dataframe tbody tr th {\n",
       "        vertical-align: top;\n",
       "    }\n",
       "\n",
       "    .dataframe thead th {\n",
       "        text-align: right;\n",
       "    }\n",
       "</style>\n",
       "<table border=\"1\" class=\"dataframe\">\n",
       "  <thead>\n",
       "    <tr style=\"text-align: right;\">\n",
       "      <th></th>\n",
       "      <th>Name</th>\n",
       "      <th>Fertility_rate</th>\n",
       "      <th>GDP</th>\n",
       "      <th>obesity_rate</th>\n",
       "      <th>sex_ratio</th>\n",
       "      <th>literacy_rate</th>\n",
       "      <th>healthcare</th>\n",
       "      <th>dependency_ratio</th>\n",
       "      <th>female_labor</th>\n",
       "    </tr>\n",
       "  </thead>\n",
       "  <tbody>\n",
       "    <tr>\n",
       "      <th>0</th>\n",
       "      <td>Aruba</td>\n",
       "      <td>1.18</td>\n",
       "      <td>NaN</td>\n",
       "      <td>NaN</td>\n",
       "      <td>88.891</td>\n",
       "      <td>97.99</td>\n",
       "      <td>NaN</td>\n",
       "      <td>NaN</td>\n",
       "      <td>NaN</td>\n",
       "    </tr>\n",
       "    <tr>\n",
       "      <th>1</th>\n",
       "      <td>Afghanistan</td>\n",
       "      <td>4.64</td>\n",
       "      <td>NaN</td>\n",
       "      <td>2.9</td>\n",
       "      <td>101.847</td>\n",
       "      <td>37.27</td>\n",
       "      <td>51.0</td>\n",
       "      <td>4.77</td>\n",
       "      <td>14.85</td>\n",
       "    </tr>\n",
       "    <tr>\n",
       "      <th>2</th>\n",
       "      <td>Angola</td>\n",
       "      <td>5.30</td>\n",
       "      <td>2999.0</td>\n",
       "      <td>10.2</td>\n",
       "      <td>97.811</td>\n",
       "      <td>72.28</td>\n",
       "      <td>50.3</td>\n",
       "      <td>4.26</td>\n",
       "      <td>73.97</td>\n",
       "    </tr>\n",
       "    <tr>\n",
       "      <th>3</th>\n",
       "      <td>Albania</td>\n",
       "      <td>1.39</td>\n",
       "      <td>6643.0</td>\n",
       "      <td>17.6</td>\n",
       "      <td>99.032</td>\n",
       "      <td>98.45</td>\n",
       "      <td>73.8</td>\n",
       "      <td>21.61</td>\n",
       "      <td>50.73</td>\n",
       "    </tr>\n",
       "    <tr>\n",
       "      <th>4</th>\n",
       "      <td>United Arab Emirates</td>\n",
       "      <td>1.46</td>\n",
       "      <td>53758.0</td>\n",
       "      <td>37.2</td>\n",
       "      <td>222.664</td>\n",
       "      <td>98.13</td>\n",
       "      <td>77.8</td>\n",
       "      <td>1.51</td>\n",
       "      <td>46.54</td>\n",
       "    </tr>\n",
       "    <tr>\n",
       "      <th>5</th>\n",
       "      <td>Argentina</td>\n",
       "      <td>1.88</td>\n",
       "      <td>13904.0</td>\n",
       "      <td>26.3</td>\n",
       "      <td>98.088</td>\n",
       "      <td>98.09</td>\n",
       "      <td>77.2</td>\n",
       "      <td>17.71</td>\n",
       "      <td>50.01</td>\n",
       "    </tr>\n",
       "    <tr>\n",
       "      <th>6</th>\n",
       "      <td>Armenia</td>\n",
       "      <td>1.58</td>\n",
       "      <td>7014.0</td>\n",
       "      <td>19.5</td>\n",
       "      <td>81.799</td>\n",
       "      <td>99.79</td>\n",
       "      <td>74.5</td>\n",
       "      <td>17.52</td>\n",
       "      <td>42.66</td>\n",
       "    </tr>\n",
       "    <tr>\n",
       "      <th>7</th>\n",
       "      <td>Antigua and Barbuda</td>\n",
       "      <td>1.58</td>\n",
       "      <td>18745.0</td>\n",
       "      <td>30.9</td>\n",
       "      <td>91.536</td>\n",
       "      <td>98.95</td>\n",
       "      <td>NaN</td>\n",
       "      <td>13.56</td>\n",
       "      <td>NaN</td>\n",
       "    </tr>\n",
       "    <tr>\n",
       "      <th>8</th>\n",
       "      <td>Australia</td>\n",
       "      <td>1.70</td>\n",
       "      <td>64003.0</td>\n",
       "      <td>28.6</td>\n",
       "      <td>98.674</td>\n",
       "      <td>99.00</td>\n",
       "      <td>80.2</td>\n",
       "      <td>25.14</td>\n",
       "      <td>61.06</td>\n",
       "    </tr>\n",
       "    <tr>\n",
       "      <th>9</th>\n",
       "      <td>Austria</td>\n",
       "      <td>1.48</td>\n",
       "      <td>52732.0</td>\n",
       "      <td>18.4</td>\n",
       "      <td>97.135</td>\n",
       "      <td>98.00</td>\n",
       "      <td>79.6</td>\n",
       "      <td>28.93</td>\n",
       "      <td>55.51</td>\n",
       "    </tr>\n",
       "  </tbody>\n",
       "</table>\n",
       "</div>"
      ],
      "text/plain": [
       "                   Name  Fertility_rate      GDP  obesity_rate  sex_ratio  \\\n",
       "0                 Aruba            1.18      NaN           NaN     88.891   \n",
       "1           Afghanistan            4.64      NaN           2.9    101.847   \n",
       "2                Angola            5.30   2999.0          10.2     97.811   \n",
       "3               Albania            1.39   6643.0          17.6     99.032   \n",
       "4  United Arab Emirates            1.46  53758.0          37.2    222.664   \n",
       "5             Argentina            1.88  13904.0          26.3     98.088   \n",
       "6               Armenia            1.58   7014.0          19.5     81.799   \n",
       "7   Antigua and Barbuda            1.58  18745.0          30.9     91.536   \n",
       "8             Australia            1.70  64003.0          28.6     98.674   \n",
       "9               Austria            1.48  52732.0          18.4     97.135   \n",
       "\n",
       "   literacy_rate  healthcare  dependency_ratio  female_labor  \n",
       "0          97.99         NaN               NaN           NaN  \n",
       "1          37.27        51.0              4.77         14.85  \n",
       "2          72.28        50.3              4.26         73.97  \n",
       "3          98.45        73.8             21.61         50.73  \n",
       "4          98.13        77.8              1.51         46.54  \n",
       "5          98.09        77.2             17.71         50.01  \n",
       "6          99.79        74.5             17.52         42.66  \n",
       "7          98.95         NaN             13.56           NaN  \n",
       "8          99.00        80.2             25.14         61.06  \n",
       "9          98.00        79.6             28.93         55.51  "
      ]
     },
     "execution_count": 18,
     "metadata": {},
     "output_type": "execute_result"
    }
   ],
   "source": [
    "x = pd.merge(left = a , right = b, how = \"outer\", on = \"Name\")\n",
    "x = pd.merge(left = x , right = c, how = \"outer\", on = \"Name\")\n",
    "x = pd.merge(left = x , right = d, how = \"outer\", on = \"Name\")\n",
    "x = pd.merge(left = x , right = e, how = \"outer\", on = \"Name\")\n",
    "x = pd.merge(left = x , right = f, how = \"outer\", on = \"Name\")\n",
    "x = pd.merge(left = x , right = g, how = \"outer\", on = \"Name\")\n",
    "x = pd.merge(left = x , right = h, how = \"outer\", on = \"Name\")\n",
    "x.head(10)"
   ]
  },
  {
   "cell_type": "markdown",
   "id": "5c7d0ac2-f6ee-4919-9e37-f2caefc8ccaf",
   "metadata": {},
   "source": [
    "## Missing data processing"
   ]
  },
  {
   "cell_type": "markdown",
   "id": "e698af80-1847-4829-8809-c07a44577be1",
   "metadata": {},
   "source": [
    "Null값들에 대처하기 위해 3가지 방법을 고민해볼 수 있다.\n",
    "\n",
    "1. Retention: 만일 결측치가 그 자체로 의미가 있다면, 남겨두는 것도 방법일 것이다. 하지만 여기서 결측치가 발생한 이유는 단순히 data간 국가의 집합이 일치하지 않아서 발생한 것으로, 의미가 없기 때문에 남겨둘 이유가 없다.\n",
    "\n",
    "2. Imputation\n",
    "    - cold deck: 해당 결측치들에 대해서, 외부 도메인 지식으로 채우는 것은 어려움이 있다. 예를 들어 도메인 지식으로 아프가니스탄의 GDP를 알기는 어렵다.\n",
    "    - hot deck: 국가 지표는 다른 국가 지표와 연관된 값이 아니기 때문에 mean, fill, KNN 등을 사용해서 채우기에는 어려움이 있다.    \n",
    "    \n",
    "3. Deletion: 앞선 2개 방법의 사용이 어렵고, 또한 결측치를 제거함으로써 결정을 더 빠르게 할 수 있기 때문에 삭제하기로 하였다. drop의 방법으로는 inner join을 함으로써, 7개의 지표를 모두 가지고 있는 국가만 남게 하였다."
   ]
  },
  {
   "cell_type": "code",
   "execution_count": 19,
   "id": "3e8d1b2a-0a58-4c2e-9f95-185eaadd9c9f",
   "metadata": {},
   "outputs": [
    {
     "data": {
      "text/html": [
       "<div>\n",
       "<style scoped>\n",
       "    .dataframe tbody tr th:only-of-type {\n",
       "        vertical-align: middle;\n",
       "    }\n",
       "\n",
       "    .dataframe tbody tr th {\n",
       "        vertical-align: top;\n",
       "    }\n",
       "\n",
       "    .dataframe thead th {\n",
       "        text-align: right;\n",
       "    }\n",
       "</style>\n",
       "<table border=\"1\" class=\"dataframe\">\n",
       "  <thead>\n",
       "    <tr style=\"text-align: right;\">\n",
       "      <th></th>\n",
       "      <th>Name</th>\n",
       "      <th>Fertility_rate</th>\n",
       "      <th>GDP</th>\n",
       "      <th>obesity_rate</th>\n",
       "      <th>sex_ratio</th>\n",
       "      <th>literacy_rate</th>\n",
       "      <th>healthcare</th>\n",
       "      <th>dependency_ratio</th>\n",
       "      <th>female_labor</th>\n",
       "    </tr>\n",
       "  </thead>\n",
       "  <tbody>\n",
       "    <tr>\n",
       "      <th>0</th>\n",
       "      <td>Angola</td>\n",
       "      <td>5.30</td>\n",
       "      <td>2999.0</td>\n",
       "      <td>10.2</td>\n",
       "      <td>97.811</td>\n",
       "      <td>72.28</td>\n",
       "      <td>50.3</td>\n",
       "      <td>4.26</td>\n",
       "      <td>73.97</td>\n",
       "    </tr>\n",
       "    <tr>\n",
       "      <th>1</th>\n",
       "      <td>Albania</td>\n",
       "      <td>1.39</td>\n",
       "      <td>6643.0</td>\n",
       "      <td>17.6</td>\n",
       "      <td>99.032</td>\n",
       "      <td>98.45</td>\n",
       "      <td>73.8</td>\n",
       "      <td>21.61</td>\n",
       "      <td>50.73</td>\n",
       "    </tr>\n",
       "    <tr>\n",
       "      <th>2</th>\n",
       "      <td>United Arab Emirates</td>\n",
       "      <td>1.46</td>\n",
       "      <td>53758.0</td>\n",
       "      <td>37.2</td>\n",
       "      <td>222.664</td>\n",
       "      <td>98.13</td>\n",
       "      <td>77.8</td>\n",
       "      <td>1.51</td>\n",
       "      <td>46.54</td>\n",
       "    </tr>\n",
       "    <tr>\n",
       "      <th>3</th>\n",
       "      <td>Argentina</td>\n",
       "      <td>1.88</td>\n",
       "      <td>13904.0</td>\n",
       "      <td>26.3</td>\n",
       "      <td>98.088</td>\n",
       "      <td>98.09</td>\n",
       "      <td>77.2</td>\n",
       "      <td>17.71</td>\n",
       "      <td>50.01</td>\n",
       "    </tr>\n",
       "    <tr>\n",
       "      <th>4</th>\n",
       "      <td>Armenia</td>\n",
       "      <td>1.58</td>\n",
       "      <td>7014.0</td>\n",
       "      <td>19.5</td>\n",
       "      <td>81.799</td>\n",
       "      <td>99.79</td>\n",
       "      <td>74.5</td>\n",
       "      <td>17.52</td>\n",
       "      <td>42.66</td>\n",
       "    </tr>\n",
       "    <tr>\n",
       "      <th>...</th>\n",
       "      <td>...</td>\n",
       "      <td>...</td>\n",
       "      <td>...</td>\n",
       "      <td>...</td>\n",
       "      <td>...</td>\n",
       "      <td>...</td>\n",
       "      <td>...</td>\n",
       "      <td>...</td>\n",
       "      <td>...</td>\n",
       "    </tr>\n",
       "    <tr>\n",
       "      <th>124</th>\n",
       "      <td>Uruguay</td>\n",
       "      <td>1.49</td>\n",
       "      <td>20795.0</td>\n",
       "      <td>26.7</td>\n",
       "      <td>94.116</td>\n",
       "      <td>98.77</td>\n",
       "      <td>78.1</td>\n",
       "      <td>23.36</td>\n",
       "      <td>54.78</td>\n",
       "    </tr>\n",
       "    <tr>\n",
       "      <th>125</th>\n",
       "      <td>Uzbekistan</td>\n",
       "      <td>3.17</td>\n",
       "      <td>2322.0</td>\n",
       "      <td>15.5</td>\n",
       "      <td>100.215</td>\n",
       "      <td>100.00</td>\n",
       "      <td>76.3</td>\n",
       "      <td>7.21</td>\n",
       "      <td>44.90</td>\n",
       "    </tr>\n",
       "    <tr>\n",
       "      <th>126</th>\n",
       "      <td>South Africa</td>\n",
       "      <td>2.37</td>\n",
       "      <td>6776.0</td>\n",
       "      <td>26.8</td>\n",
       "      <td>95.281</td>\n",
       "      <td>95.02</td>\n",
       "      <td>56.6</td>\n",
       "      <td>8.39</td>\n",
       "      <td>46.21</td>\n",
       "    </tr>\n",
       "    <tr>\n",
       "      <th>127</th>\n",
       "      <td>Zambia</td>\n",
       "      <td>4.31</td>\n",
       "      <td>1488.0</td>\n",
       "      <td>8.9</td>\n",
       "      <td>97.367</td>\n",
       "      <td>87.50</td>\n",
       "      <td>59.8</td>\n",
       "      <td>3.96</td>\n",
       "      <td>69.23</td>\n",
       "    </tr>\n",
       "    <tr>\n",
       "      <th>128</th>\n",
       "      <td>Zimbabwe</td>\n",
       "      <td>3.49</td>\n",
       "      <td>1267.0</td>\n",
       "      <td>10.5</td>\n",
       "      <td>89.922</td>\n",
       "      <td>89.70</td>\n",
       "      <td>54.8</td>\n",
       "      <td>5.47</td>\n",
       "      <td>79.31</td>\n",
       "    </tr>\n",
       "  </tbody>\n",
       "</table>\n",
       "<p>129 rows × 9 columns</p>\n",
       "</div>"
      ],
      "text/plain": [
       "                     Name  Fertility_rate      GDP  obesity_rate  sex_ratio  \\\n",
       "0                  Angola            5.30   2999.0          10.2     97.811   \n",
       "1                 Albania            1.39   6643.0          17.6     99.032   \n",
       "2    United Arab Emirates            1.46  53758.0          37.2    222.664   \n",
       "3               Argentina            1.88  13904.0          26.3     98.088   \n",
       "4                 Armenia            1.58   7014.0          19.5     81.799   \n",
       "..                    ...             ...      ...           ...        ...   \n",
       "124               Uruguay            1.49  20795.0          26.7     94.116   \n",
       "125            Uzbekistan            3.17   2322.0          15.5    100.215   \n",
       "126          South Africa            2.37   6776.0          26.8     95.281   \n",
       "127                Zambia            4.31   1488.0           8.9     97.367   \n",
       "128              Zimbabwe            3.49   1267.0          10.5     89.922   \n",
       "\n",
       "     literacy_rate  healthcare  dependency_ratio  female_labor  \n",
       "0            72.28        50.3              4.26         73.97  \n",
       "1            98.45        73.8             21.61         50.73  \n",
       "2            98.13        77.8              1.51         46.54  \n",
       "3            98.09        77.2             17.71         50.01  \n",
       "4            99.79        74.5             17.52         42.66  \n",
       "..             ...         ...               ...           ...  \n",
       "124          98.77        78.1             23.36         54.78  \n",
       "125         100.00        76.3              7.21         44.90  \n",
       "126          95.02        56.6              8.39         46.21  \n",
       "127          87.50        59.8              3.96         69.23  \n",
       "128          89.70        54.8              5.47         79.31  \n",
       "\n",
       "[129 rows x 9 columns]"
      ]
     },
     "execution_count": 19,
     "metadata": {},
     "output_type": "execute_result"
    }
   ],
   "source": [
    "x = pd.merge(left = a , right = b, how = \"inner\", on = \"Name\")\n",
    "x = pd.merge(left = x , right = c, how = \"inner\", on = \"Name\")\n",
    "x = pd.merge(left = x , right = d, how = \"inner\", on = \"Name\")\n",
    "x = pd.merge(left = x , right = e, how = \"inner\", on = \"Name\")\n",
    "x = pd.merge(left = x , right = f, how = \"inner\", on = \"Name\")\n",
    "x = pd.merge(left = x , right = g, how = \"inner\", on = \"Name\")\n",
    "x = pd.merge(left = x , right = h, how = \"inner\", on = \"Name\")\n",
    "x"
   ]
  },
  {
   "cell_type": "markdown",
   "id": "aa7d3076-f3f0-4bcf-a4ab-12a54af2c804",
   "metadata": {},
   "source": [
    "join 결과, 129개 국가에 대해 이름 제외 8개의 attribute로, 최종적으로 도합 129 * 8 = 1032개의 data point를 수집하였다. 최종 파일을 엑셀파일로 변환하여 활용하려 한다."
   ]
  },
  {
   "cell_type": "code",
   "execution_count": 20,
   "id": "f404e05d-9cc0-4397-8901-3dd4a5eb5b67",
   "metadata": {},
   "outputs": [],
   "source": [
    "raw_data = x\n",
    "raw_data.to_excel(\"raw_data.xlsx\")"
   ]
  },
  {
   "cell_type": "code",
   "execution_count": 21,
   "id": "2273c3c7-4414-426e-9776-566c35a26a23",
   "metadata": {},
   "outputs": [
    {
     "name": "stdout",
     "output_type": "stream",
     "text": [
      "<class 'pandas.core.frame.DataFrame'>\n",
      "Int64Index: 129 entries, 0 to 128\n",
      "Data columns (total 9 columns):\n",
      " #   Column            Non-Null Count  Dtype  \n",
      "---  ------            --------------  -----  \n",
      " 0   Name              129 non-null    object \n",
      " 1   Fertility_rate    129 non-null    float64\n",
      " 2   GDP               129 non-null    float64\n",
      " 3   obesity_rate      129 non-null    float64\n",
      " 4   sex_ratio         129 non-null    float64\n",
      " 5   literacy_rate     129 non-null    float64\n",
      " 6   healthcare        129 non-null    float64\n",
      " 7   dependency_ratio  129 non-null    float64\n",
      " 8   female_labor      129 non-null    float64\n",
      "dtypes: float64(8), object(1)\n",
      "memory usage: 10.1+ KB\n"
     ]
    }
   ],
   "source": [
    "raw_data.info()"
   ]
  },
  {
   "cell_type": "markdown",
   "id": "8b3458ad-dfba-44f6-b202-8639474e27b5",
   "metadata": {},
   "source": [
    "## Outlier processing(한국)"
   ]
  },
  {
   "cell_type": "markdown",
   "id": "d6b82db2-8b17-4c3b-b34c-dfde72fc0f0c",
   "metadata": {},
   "source": [
    "해당 dataset에서 outlier는 의미가 있다. outlier가 있다고 해도, 오류가 아니고 그 국가의 다양한 요인들 때문에 다른 국가들과 출산율, GDP 등의 차이가 많이 나게 되는 것이기 때문에 삭제하거나 수정하지 않고, Retention(그냥 두기)가 좋아보인다. 모델에게 유의미한 정보를 전달할 수 있기 때문이다.\n",
    "\n",
    "다만, 개요에서 언급한 것 처럼, 한국의 출산율이 \"outlier\"이라고 불릴 정도로 적은지, 즉 심각한 상황인지를 검증해보고자 한다. 출산율만 봐도 되기 때문에 fertility_rate_raw를 사용하였다."
   ]
  },
  {
   "cell_type": "code",
   "execution_count": 22,
   "id": "1706d350-b0fb-4d55-9bb9-913cb5f9c081",
   "metadata": {},
   "outputs": [
    {
     "data": {
      "text/html": [
       "<div>\n",
       "<style scoped>\n",
       "    .dataframe tbody tr th:only-of-type {\n",
       "        vertical-align: middle;\n",
       "    }\n",
       "\n",
       "    .dataframe tbody tr th {\n",
       "        vertical-align: top;\n",
       "    }\n",
       "\n",
       "    .dataframe thead th {\n",
       "        text-align: right;\n",
       "    }\n",
       "</style>\n",
       "<table border=\"1\" class=\"dataframe\">\n",
       "  <thead>\n",
       "    <tr style=\"text-align: right;\">\n",
       "      <th></th>\n",
       "      <th>Name</th>\n",
       "      <th>Fertility_rate</th>\n",
       "    </tr>\n",
       "  </thead>\n",
       "  <tbody>\n",
       "    <tr>\n",
       "      <th>100</th>\n",
       "      <td>South Korea</td>\n",
       "      <td>0.808</td>\n",
       "    </tr>\n",
       "  </tbody>\n",
       "</table>\n",
       "</div>"
      ],
      "text/plain": [
       "            Name  Fertility_rate\n",
       "100  South Korea           0.808"
      ]
     },
     "execution_count": 22,
     "metadata": {},
     "output_type": "execute_result"
    }
   ],
   "source": [
    "fertility_rate_raw.loc[fertility_rate_raw['Name'] == 'South Korea']"
   ]
  },
  {
   "cell_type": "code",
   "execution_count": 23,
   "id": "6576bfb8-4241-4599-9f49-9b5a5eb7ae4d",
   "metadata": {},
   "outputs": [
    {
     "data": {
      "text/html": [
       "<div>\n",
       "<style scoped>\n",
       "    .dataframe tbody tr th:only-of-type {\n",
       "        vertical-align: middle;\n",
       "    }\n",
       "\n",
       "    .dataframe tbody tr th {\n",
       "        vertical-align: top;\n",
       "    }\n",
       "\n",
       "    .dataframe thead th {\n",
       "        text-align: right;\n",
       "    }\n",
       "</style>\n",
       "<table border=\"1\" class=\"dataframe\">\n",
       "  <thead>\n",
       "    <tr style=\"text-align: right;\">\n",
       "      <th></th>\n",
       "      <th>Fertility_rate</th>\n",
       "    </tr>\n",
       "  </thead>\n",
       "  <tbody>\n",
       "    <tr>\n",
       "      <th>count</th>\n",
       "      <td>206.000000</td>\n",
       "    </tr>\n",
       "    <tr>\n",
       "      <th>mean</th>\n",
       "      <td>2.511733</td>\n",
       "    </tr>\n",
       "    <tr>\n",
       "      <th>std</th>\n",
       "      <td>1.249751</td>\n",
       "    </tr>\n",
       "    <tr>\n",
       "      <th>min</th>\n",
       "      <td>0.772000</td>\n",
       "    </tr>\n",
       "    <tr>\n",
       "      <th>25%</th>\n",
       "      <td>1.580000</td>\n",
       "    </tr>\n",
       "    <tr>\n",
       "      <th>50%</th>\n",
       "      <td>2.030000</td>\n",
       "    </tr>\n",
       "    <tr>\n",
       "      <th>75%</th>\n",
       "      <td>3.235000</td>\n",
       "    </tr>\n",
       "    <tr>\n",
       "      <th>max</th>\n",
       "      <td>6.820000</td>\n",
       "    </tr>\n",
       "  </tbody>\n",
       "</table>\n",
       "</div>"
      ],
      "text/plain": [
       "       Fertility_rate\n",
       "count      206.000000\n",
       "mean         2.511733\n",
       "std          1.249751\n",
       "min          0.772000\n",
       "25%          1.580000\n",
       "50%          2.030000\n",
       "75%          3.235000\n",
       "max          6.820000"
      ]
     },
     "execution_count": 23,
     "metadata": {},
     "output_type": "execute_result"
    }
   ],
   "source": [
    "fertility_rate_raw.describe()"
   ]
  },
  {
   "cell_type": "markdown",
   "id": "78652e7e-0ef4-4236-92a0-4d84e12fd511",
   "metadata": {},
   "source": [
    "lower bound Q1 = 1.58, upper bound Q3 = 3.235임을 알 수 있다. 한국의 출산율 0.808은 이 범위에 속하지 않기 때문에, outlier이라고 가정할 수 있다. 게다가 꽤 차이가 많이 나기 때문에 심각한 지표라고 볼 수 있다. "
   ]
  },
  {
   "cell_type": "markdown",
   "id": "9b1c4498-822c-453c-b61d-1c54633fe79e",
   "metadata": {},
   "source": [
    "# 2. Regression"
   ]
  },
  {
   "cell_type": "markdown",
   "id": "84ecf904-65d9-48ce-adcf-ceed2e3741ce",
   "metadata": {},
   "source": [
    "출산율과 연관있는 의외의 factor 찾기"
   ]
  },
  {
   "cell_type": "code",
   "execution_count": 24,
   "id": "b69e11c3-83ed-43d5-9278-16ce5a23b3ee",
   "metadata": {},
   "outputs": [],
   "source": [
    "import numpy as np\n",
    "import matplotlib.pyplot as plt\n",
    "\n",
    "from sklearn.metrics import mean_absolute_error\n",
    "from sklearn.metrics import mean_squared_error\n",
    "from sklearn.metrics import r2_score"
   ]
  },
  {
   "cell_type": "code",
   "execution_count": null,
   "id": "ee29f672-e467-4bd1-ad42-1036110bcd4b",
   "metadata": {},
   "outputs": [],
   "source": []
  }
 ],
 "metadata": {
  "kernelspec": {
   "display_name": "Python 3 (ipykernel)",
   "language": "python",
   "name": "python3"
  },
  "language_info": {
   "codemirror_mode": {
    "name": "ipython",
    "version": 3
   },
   "file_extension": ".py",
   "mimetype": "text/x-python",
   "name": "python",
   "nbconvert_exporter": "python",
   "pygments_lexer": "ipython3",
   "version": "3.10.11"
  }
 },
 "nbformat": 4,
 "nbformat_minor": 5
}
