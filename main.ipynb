{
 "cells": [
  {
   "cell_type": "markdown",
   "id": "1e470377",
   "metadata": {
    "tags": []
   },
   "source": [
    "# Data Analysis using Machine Learning techniques - 2020105742 한지훈 "
   ]
  },
  {
   "cell_type": "markdown",
   "id": "06def8e4-a6fd-466b-ab29-46dbe56016a1",
   "metadata": {
    "tags": []
   },
   "source": [
    "# [0-A. EDA]"
   ]
  },
  {
   "cell_type": "markdown",
   "id": "d13cf53a",
   "metadata": {},
   "source": [
    "### - 프로젝트 개요"
   ]
  },
  {
   "cell_type": "markdown",
   "id": "03c070af-651e-460c-8ac5-a5ca1a33e4fe",
   "metadata": {},
   "source": [
    "[주제]"
   ]
  },
  {
   "cell_type": "markdown",
   "id": "5f81206d-53a0-43e7-bb58-ed743152503c",
   "metadata": {},
   "source": [
    "<img src=\"photos/1.png\" width=\"500\"/>https://www.etoday.co.kr/news/view/2356928"
   ]
  },
  {
   "cell_type": "markdown",
   "id": "1ec9485e-7fdb-448c-9cf0-f7fe2e62480a",
   "metadata": {},
   "source": [
    "기사에서도 볼 수 있듯이, 현재 한국에서는 저출산 문제가 심각하며, 2023년의 합계 출산율은 0.72로 역대 최저치를 기록했다고 한다. 이대로 가면 국가 소멸 가능성까지 제시되고 있는 상황이다. 하지만 정부의 2024 저출산 대책을 보면, 대부분 경제적 지원의 방식으로 이루어지는 것을 볼 수 있다."
   ]
  },
  {
   "cell_type": "markdown",
   "id": "d5b14ba7-ca96-4384-9c15-6781f9f0fa40",
   "metadata": {},
   "source": [
    "<img src=\"photos/2.png\" width=\"500\"/>https://www.betterfuture.go.kr/front/policySpace/policyReferenceDetail.do?articleId=23&listLen=10&searchKeyword=&position=M"
   ]
  },
  {
   "cell_type": "markdown",
   "id": "24a8294c-3ee8-4cb9-89a8-90b0f47c75fd",
   "metadata": {},
   "source": [
    "이번 프로젝트에서는 다음의 세가지 가설을 세우고, 검증하는 과정을 통해 정부의 현재 경제적 지원 중심의 저출산 정책을 평가하고, 저출산 정책을 더 포괄적으로, 더 효율적으로 만들기 위한 방법들을 제시할 것이다."
   ]
  },
  {
   "cell_type": "markdown",
   "id": "e3a81136-5018-416d-a2d8-fbe4c396dd84",
   "metadata": {},
   "source": [
    "[가설]"
   ]
  },
  {
   "cell_type": "markdown",
   "id": "652750fb",
   "metadata": {},
   "source": [
    "1. Supervised Learning - 출산율과 연관있는 다른 factor들에는 무엇이 있고, 각각 어느 정도 연관이 있을까?\n",
    "\n",
    " - 사용 기법: Various models(LinearRegression, VotingRegressor, AdaBoostRegressor, ... 등 7개) + PCA\n",
    "\n",
    " - 개요: 앞서 언급한 것처럼, 정부의 저출산 지원 정책은 대부분 비용 지원 차원(경제적 지원)의 방식으로 이루어진다. 이외에 요인이 될 수 있는 6가지 factor(국가별 비만율, 성비, 문해율, 의료 수준, 부양비, 여성 근로 참여율)과 출산율 간의 관계를 확인할 것이다. 이를 통해 경제적인 지원 말고, 출산율을 높일 수 있는 다른 factor들을 가려냄으로써 정부가 그 factor에도 집중하도록 하고, 좀 더 폭넓은 방향으로 정책을 만들 수 있도록 할 계획이다. "
   ]
  },
  {
   "cell_type": "markdown",
   "id": "73f60997-ffe4-49c7-b592-d55ccdbf017b",
   "metadata": {},
   "source": [
    "2. Unsupervised Learning - 한국과 비슷한 상황에 놓여있는 국가들은 어떤 정책을 시행하고 있을까?\n",
    "\n",
    " - 사용 기법: k-means\n",
    "\n",
    " - 개요: 1번 가설에서 출산율과 가장 연관있는 2개의 factor들을 찾아, 그 factor에 대해 클러스터링(k-means)을 할 계획이다. 클러스터링을 통해 현재 한국과 유사한 상황에 놓여있는 국가들의 군집을 찾고, 그 군집 중에서도 한국과 상황이 가장 비슷한 5개국 정도를 찾을 것이다. 한국과 가장 유사한 5개국이 저출산을 해결하기 위해 어떤 정책들을 시행하고 있는지 참고하면, 한국의 실정에 맞는 해결책을 찾기 위한 영감을 찾을 수 있을 것이다.  "
   ]
  },
  {
   "cell_type": "markdown",
   "id": "f4177e9a-187e-4bfc-a326-a79e76ac7363",
   "metadata": {},
   "source": [
    "3. Statistics - 현재 시행중인 경제적 지원 중심 정책은 효과가 있을까?\n",
    "\n",
    " - 사용 기법: Independent t-test\n",
    "\n",
    " - 개요: 현재 시행 중인 경제적 지원 중심의 정책도 효과가 있는지 검증해야 지원량을 줄일지 늘릴지 등의 판단을 할 수 있을 것이다. 효과를 검증하기 위해 국가들을 GDP가 높은 국가/GDP가 낮은 국가로 구분한 샘플로 나눠서 t-test를 할 것이다. 이를 통해 경제력의 차이가 출산율에 유의미한 영향력을 미치는지 확인해보고자 한다. 만일 경제력이 높은 국가들에서 출산율이 높게 나타난다면, 경제적 지원 중심 정책의 효과가 있을 것이라 예상할 수 있을 것이다."
   ]
  },
  {
   "cell_type": "markdown",
   "id": "3eb6423f-3605-4ae3-81db-abf2575492ef",
   "metadata": {},
   "source": [
    "[결론]"
   ]
  },
  {
   "cell_type": "markdown",
   "id": "3f3e647c-9a90-45ea-86f6-39116e88ef5e",
   "metadata": {},
   "source": [
    "결론적으로 도출한 결과들을 정부 및 관련 기관에게 전달하여  출산율 문제 해결을 위한 정책 insight 제공에 기여하고자 한다."
   ]
  },
  {
   "cell_type": "markdown",
   "id": "0dd456ad",
   "metadata": {},
   "source": [
    "### - Data 종류, 설명"
   ]
  },
  {
   "cell_type": "markdown",
   "id": "d9141d25",
   "metadata": {},
   "source": [
    "[Target attrribute]\n",
    "\n",
    "1. List of countries by total fertility rate : 국가별 출산율(출산아 수/여성수)를 정리한 자료이다.\n",
    "\n",
    "    https://tradingeconomics.com/country-list/fertility-rate-total-births-per-woman-wb-data.html\n",
    "\n",
    "[가설 1, 2 - Independent variables]\n",
    "\n",
    "2. List of countries by obesity rate : 국가별 비만율(BMI 수치가 30 이상인 사람들의 비율)을 정리한 자료이다. \n",
    "\n",
    "    https://renewbariatrics.com/obesity-rank-by-countries/\n",
    "\n",
    "3. List of countries by sex ratio : 국가별 성비(여성 100명당 남성의 수)를 정리한 자료이다.\n",
    "\n",
    "    https://statisticstimes.com/demographics/countries-by-sex-ratio.php\n",
    "\n",
    "4. List of countries by Literacy Rates: 국가별 문해율(15세 이상 인구 중 글을 읽고 쓸 수 있는 인구의 비율)을 정리한 자료이다.\n",
    "\n",
    "    https://www.uscareerinstitute.edu/blog/which-countries-have-the-highest-and-lowest-literacy-rates\n",
    "\n",
    "5. List of countries by Healthcare : 국가별 의료 수준(WHO가 시스템 효율성, 대기 시간 등의 요소를 고려하여 평가)을 정리한 자료이다.\n",
    "\n",
    "    https://wisevoter.com/country-rankings/best-healthcare-in-the-world/\n",
    "\n",
    "6. List of countries by dependency ratio : 국가별 부양비(65세 이상 인구/15~64세 인구)를 정리한 자료이다.\n",
    "\n",
    "    https://www.indexmundi.com/facts/indicators/SP.POP.DPND.OL/rankings\n",
    "\n",
    "7. List of countries by female labor participation rate : 국가별 여성 근로 참여율(15세 이상 여성 중 경제활동을 하는 여성의 비율)을 정리한 자료이다.\n",
    "\n",
    "    https://www.indexmundi.com/facts/indicators/SL.TLF.CACT.FE.ZS/rankings\n",
    "    \n",
    "[가설 3 - sampling의 조건]\n",
    "\n",
    "8. List of countries by GDP : 국가별 GDP(국내 총생산)을 정리한 자료이다. 가설 3에서 한국이 시행중인 경제적 지원 정책이 효과가 있는지 검증하기 위해 사용한다.\n",
    "\n",
    "    https://www.worldometers.info/gdp/gdp-by-country/\n",
    "\n"
   ]
  },
  {
   "cell_type": "markdown",
   "id": "a81c4427-13b4-4f7e-b02c-7ef060ef92f4",
   "metadata": {
    "tags": []
   },
   "source": [
    "# [0-B. Pre-processing]"
   ]
  },
  {
   "cell_type": "markdown",
   "id": "551f2207",
   "metadata": {},
   "source": [
    "### - web crawling"
   ]
  },
  {
   "cell_type": "markdown",
   "id": "065a443e",
   "metadata": {},
   "source": [
    "먼저 1. List of countries by total fertility rate(국가별 출산율)을 제공하는 페이지에서 listly를 통해 웹크롤링을 하여 개요를 확인했다."
   ]
  },
  {
   "cell_type": "markdown",
   "id": "56a9ba6d",
   "metadata": {},
   "source": [
    "원본:\n",
    "<img src=\"photos/3.png\" width=\"600\"/>"
   ]
  },
  {
   "cell_type": "code",
   "execution_count": 1,
   "id": "d79cd92f",
   "metadata": {},
   "outputs": [
    {
     "data": {
      "text/html": [
       "<div>\n",
       "<style scoped>\n",
       "    .dataframe tbody tr th:only-of-type {\n",
       "        vertical-align: middle;\n",
       "    }\n",
       "\n",
       "    .dataframe tbody tr th {\n",
       "        vertical-align: top;\n",
       "    }\n",
       "\n",
       "    .dataframe thead th {\n",
       "        text-align: right;\n",
       "    }\n",
       "</style>\n",
       "<table border=\"1\" class=\"dataframe\">\n",
       "  <thead>\n",
       "    <tr style=\"text-align: right;\">\n",
       "      <th></th>\n",
       "      <th>LABEL-1</th>\n",
       "      <th>LABEL-2</th>\n",
       "      <th>LABEL-3</th>\n",
       "    </tr>\n",
       "  </thead>\n",
       "  <tbody>\n",
       "    <tr>\n",
       "      <th>0</th>\n",
       "      <td>Aruba</td>\n",
       "      <td>1.18</td>\n",
       "      <td>%</td>\n",
       "    </tr>\n",
       "    <tr>\n",
       "      <th>1</th>\n",
       "      <td>Afghanistan</td>\n",
       "      <td>4.64</td>\n",
       "      <td>%</td>\n",
       "    </tr>\n",
       "    <tr>\n",
       "      <th>2</th>\n",
       "      <td>Angola</td>\n",
       "      <td>5.30</td>\n",
       "      <td>%</td>\n",
       "    </tr>\n",
       "  </tbody>\n",
       "</table>\n",
       "</div>"
      ],
      "text/plain": [
       "       LABEL-1  LABEL-2 LABEL-3\n",
       "0        Aruba     1.18       %\n",
       "1  Afghanistan     4.64       %\n",
       "2       Angola     5.30       %"
      ]
     },
     "execution_count": 1,
     "metadata": {},
     "output_type": "execute_result"
    }
   ],
   "source": [
    "import pandas as pd\n",
    "\n",
    "fertility_rate_raw = pd.read_excel('raw_files/fertility_rate_raw.xlsx')\n",
    "fertility_rate_raw.head(3)"
   ]
  },
  {
   "cell_type": "markdown",
   "id": "6c7fd7c5",
   "metadata": {},
   "source": [
    "확인 결과 국가별 이름과 필요 attribute인 출산율이 모두 있다. 전처리 작업으로는 필요없는 %(LABEL-3)를 삭제해주고 label 이름들을 다시 붙여주면 될 것이다."
   ]
  },
  {
   "cell_type": "code",
   "execution_count": 2,
   "id": "37ffb54f",
   "metadata": {},
   "outputs": [
    {
     "data": {
      "text/html": [
       "<div>\n",
       "<style scoped>\n",
       "    .dataframe tbody tr th:only-of-type {\n",
       "        vertical-align: middle;\n",
       "    }\n",
       "\n",
       "    .dataframe tbody tr th {\n",
       "        vertical-align: top;\n",
       "    }\n",
       "\n",
       "    .dataframe thead th {\n",
       "        text-align: right;\n",
       "    }\n",
       "</style>\n",
       "<table border=\"1\" class=\"dataframe\">\n",
       "  <thead>\n",
       "    <tr style=\"text-align: right;\">\n",
       "      <th></th>\n",
       "      <th>Name</th>\n",
       "      <th>Fertility_rate</th>\n",
       "    </tr>\n",
       "  </thead>\n",
       "  <tbody>\n",
       "    <tr>\n",
       "      <th>0</th>\n",
       "      <td>Aruba</td>\n",
       "      <td>1.18</td>\n",
       "    </tr>\n",
       "    <tr>\n",
       "      <th>1</th>\n",
       "      <td>Afghanistan</td>\n",
       "      <td>4.64</td>\n",
       "    </tr>\n",
       "    <tr>\n",
       "      <th>2</th>\n",
       "      <td>Angola</td>\n",
       "      <td>5.30</td>\n",
       "    </tr>\n",
       "  </tbody>\n",
       "</table>\n",
       "</div>"
      ],
      "text/plain": [
       "          Name  Fertility_rate\n",
       "0        Aruba            1.18\n",
       "1  Afghanistan            4.64\n",
       "2       Angola            5.30"
      ]
     },
     "execution_count": 2,
     "metadata": {},
     "output_type": "execute_result"
    }
   ],
   "source": [
    "fertility_rate_raw = fertility_rate_raw.drop(labels=['LABEL-3'],axis=1)\n",
    "fertility_rate_raw.columns = ['Name', 'Fertility_rate'] \n",
    "\n",
    "fertility_rate_raw.head(3)"
   ]
  },
  {
   "cell_type": "markdown",
   "id": "d9fe7c3e",
   "metadata": {},
   "source": [
    "다음으로 나머지 애트리뷰트들을 제공하는 페이지들에서 listly를 통해 각각 웹크롤링을 하여 개요를 확인했다.\n",
    "\n",
    "2. GDP\n",
    "<img src=\"photos/4.png\" width=\"500\"/>"
   ]
  },
  {
   "cell_type": "code",
   "execution_count": 3,
   "id": "294fb5c0",
   "metadata": {},
   "outputs": [
    {
     "data": {
      "text/html": [
       "<div>\n",
       "<style scoped>\n",
       "    .dataframe tbody tr th:only-of-type {\n",
       "        vertical-align: middle;\n",
       "    }\n",
       "\n",
       "    .dataframe tbody tr th {\n",
       "        vertical-align: top;\n",
       "    }\n",
       "\n",
       "    .dataframe thead th {\n",
       "        text-align: right;\n",
       "    }\n",
       "</style>\n",
       "<table border=\"1\" class=\"dataframe\">\n",
       "  <thead>\n",
       "    <tr style=\"text-align: right;\">\n",
       "      <th></th>\n",
       "      <th>LABEL-1</th>\n",
       "      <th>LABEL-2</th>\n",
       "      <th>LABEL-3</th>\n",
       "      <th>LABEL-4</th>\n",
       "      <th>LABEL-5</th>\n",
       "      <th>LABEL-6</th>\n",
       "      <th>LABEL-7</th>\n",
       "      <th>LABEL-8</th>\n",
       "    </tr>\n",
       "  </thead>\n",
       "  <tbody>\n",
       "    <tr>\n",
       "      <th>0</th>\n",
       "      <td>1</td>\n",
       "      <td>United States</td>\n",
       "      <td>$25,462,700,000,000</td>\n",
       "      <td>$25.463 trillion</td>\n",
       "      <td>2.06%</td>\n",
       "      <td>338,289,857</td>\n",
       "      <td>$75,269</td>\n",
       "      <td>25.32%</td>\n",
       "    </tr>\n",
       "    <tr>\n",
       "      <th>1</th>\n",
       "      <td>2</td>\n",
       "      <td>China</td>\n",
       "      <td>$17,963,200,000,000</td>\n",
       "      <td>$17.963 trillion</td>\n",
       "      <td>2.99%</td>\n",
       "      <td>1,425,887,337</td>\n",
       "      <td>$12,598</td>\n",
       "      <td>17.86%</td>\n",
       "    </tr>\n",
       "    <tr>\n",
       "      <th>2</th>\n",
       "      <td>3</td>\n",
       "      <td>Japan</td>\n",
       "      <td>$4,231,140,000,000</td>\n",
       "      <td>$4.231 trillion</td>\n",
       "      <td>1.03%</td>\n",
       "      <td>123,951,692</td>\n",
       "      <td>$34,135</td>\n",
       "      <td>4.21%</td>\n",
       "    </tr>\n",
       "  </tbody>\n",
       "</table>\n",
       "</div>"
      ],
      "text/plain": [
       "   LABEL-1        LABEL-2              LABEL-3           LABEL-4 LABEL-5  \\\n",
       "0        1  United States  $25,462,700,000,000  $25.463 trillion   2.06%   \n",
       "1        2          China  $17,963,200,000,000  $17.963 trillion   2.99%   \n",
       "2        3          Japan   $4,231,140,000,000   $4.231 trillion   1.03%   \n",
       "\n",
       "         LABEL-6  LABEL-7 LABEL-8  \n",
       "0    338,289,857  $75,269  25.32%  \n",
       "1  1,425,887,337  $12,598  17.86%  \n",
       "2    123,951,692  $34,135   4.21%  "
      ]
     },
     "execution_count": 3,
     "metadata": {},
     "output_type": "execute_result"
    }
   ],
   "source": [
    "GDP_raw = pd.read_excel('raw_files/GDP_raw.xlsx')\n",
    "GDP_raw.head(3)"
   ]
  },
  {
   "cell_type": "markdown",
   "id": "f7c780fa",
   "metadata": {},
   "source": [
    "원본에서 GDP per capita(1인당 GDP)가 유의미하다고 판단하여 해당 애트리뷰트(LABEL-7)만 남겼다. 또한 실수값으로 활용하기 위해서 앞의 $ 표시를 삭제하고, label 이름들을 다시 붙여주었다."
   ]
  },
  {
   "cell_type": "code",
   "execution_count": 4,
   "id": "14c43e04",
   "metadata": {},
   "outputs": [
    {
     "data": {
      "text/html": [
       "<div>\n",
       "<style scoped>\n",
       "    .dataframe tbody tr th:only-of-type {\n",
       "        vertical-align: middle;\n",
       "    }\n",
       "\n",
       "    .dataframe tbody tr th {\n",
       "        vertical-align: top;\n",
       "    }\n",
       "\n",
       "    .dataframe thead th {\n",
       "        text-align: right;\n",
       "    }\n",
       "</style>\n",
       "<table border=\"1\" class=\"dataframe\">\n",
       "  <thead>\n",
       "    <tr style=\"text-align: right;\">\n",
       "      <th></th>\n",
       "      <th>Name</th>\n",
       "      <th>GDP</th>\n",
       "    </tr>\n",
       "  </thead>\n",
       "  <tbody>\n",
       "    <tr>\n",
       "      <th>0</th>\n",
       "      <td>United States</td>\n",
       "      <td>75269.0</td>\n",
       "    </tr>\n",
       "    <tr>\n",
       "      <th>1</th>\n",
       "      <td>China</td>\n",
       "      <td>12598.0</td>\n",
       "    </tr>\n",
       "    <tr>\n",
       "      <th>2</th>\n",
       "      <td>Japan</td>\n",
       "      <td>34135.0</td>\n",
       "    </tr>\n",
       "  </tbody>\n",
       "</table>\n",
       "</div>"
      ],
      "text/plain": [
       "            Name      GDP\n",
       "0  United States  75269.0\n",
       "1          China  12598.0\n",
       "2          Japan  34135.0"
      ]
     },
     "execution_count": 4,
     "metadata": {},
     "output_type": "execute_result"
    }
   ],
   "source": [
    "GDP = []\n",
    "for i in range(len(GDP_raw['LABEL-7'])):\n",
    "    f = GDP_raw['LABEL-7'][i][1:]\n",
    "    f = float(f.replace(',', ''))\n",
    "    GDP.append(f)\n",
    "\n",
    "GDP_raw.insert(3, \"GDP\", GDP)\n",
    "\n",
    "GDP_raw = GDP_raw.drop(labels=['LABEL-1','LABEL-3','LABEL-4','LABEL-5','LABEL-6','LABEL-7','LABEL-8'],axis=1)\n",
    "GDP_raw.columns = ['Name', 'GDP'] \n",
    "\n",
    "GDP_raw.head(3)"
   ]
  },
  {
   "cell_type": "markdown",
   "id": "c4124e12",
   "metadata": {},
   "source": [
    "3. obesity rate\n",
    "<img src=\"photos/5.png\" width=\"500\"/>"
   ]
  },
  {
   "cell_type": "code",
   "execution_count": 5,
   "id": "31a98059",
   "metadata": {},
   "outputs": [
    {
     "data": {
      "text/html": [
       "<div>\n",
       "<style scoped>\n",
       "    .dataframe tbody tr th:only-of-type {\n",
       "        vertical-align: middle;\n",
       "    }\n",
       "\n",
       "    .dataframe tbody tr th {\n",
       "        vertical-align: top;\n",
       "    }\n",
       "\n",
       "    .dataframe thead th {\n",
       "        text-align: right;\n",
       "    }\n",
       "</style>\n",
       "<table border=\"1\" class=\"dataframe\">\n",
       "  <thead>\n",
       "    <tr style=\"text-align: right;\">\n",
       "      <th></th>\n",
       "      <th>LABEL-1</th>\n",
       "      <th>LABEL-2</th>\n",
       "      <th>LABEL-3</th>\n",
       "      <th>LABEL-4</th>\n",
       "      <th>LABEL-5</th>\n",
       "      <th>LABEL-6</th>\n",
       "    </tr>\n",
       "  </thead>\n",
       "  <tbody>\n",
       "    <tr>\n",
       "      <th>0</th>\n",
       "      <td>1</td>\n",
       "      <td>Cook Islands</td>\n",
       "      <td>17,380</td>\n",
       "      <td>11,742</td>\n",
       "      <td>5,965</td>\n",
       "      <td>50.80%</td>\n",
       "    </tr>\n",
       "    <tr>\n",
       "      <th>1</th>\n",
       "      <td>2</td>\n",
       "      <td>Palau</td>\n",
       "      <td>18,055</td>\n",
       "      <td>12,198</td>\n",
       "      <td>5,806</td>\n",
       "      <td>47.60%</td>\n",
       "    </tr>\n",
       "    <tr>\n",
       "      <th>2</th>\n",
       "      <td>3</td>\n",
       "      <td>Nauru</td>\n",
       "      <td>12,668</td>\n",
       "      <td>8,559</td>\n",
       "      <td>3,903</td>\n",
       "      <td>45.60%</td>\n",
       "    </tr>\n",
       "    <tr>\n",
       "      <th>3</th>\n",
       "      <td>4</td>\n",
       "      <td>Samoa</td>\n",
       "      <td>222,382</td>\n",
       "      <td>150,241</td>\n",
       "      <td>65,205</td>\n",
       "      <td>43.40%</td>\n",
       "    </tr>\n",
       "    <tr>\n",
       "      <th>4</th>\n",
       "      <td>5</td>\n",
       "      <td>Tonga</td>\n",
       "      <td>106,858</td>\n",
       "      <td>72,193</td>\n",
       "      <td>31,260</td>\n",
       "      <td>43.30%</td>\n",
       "    </tr>\n",
       "  </tbody>\n",
       "</table>\n",
       "</div>"
      ],
      "text/plain": [
       "   LABEL-1       LABEL-2  LABEL-3  LABEL-4 LABEL-5 LABEL-6\n",
       "0        1  Cook Islands   17,380   11,742   5,965  50.80%\n",
       "1        2         Palau   18,055   12,198   5,806  47.60%\n",
       "2        3         Nauru   12,668    8,559   3,903  45.60%\n",
       "3        4         Samoa  222,382  150,241  65,205  43.40%\n",
       "4        5         Tonga  106,858   72,193  31,260  43.30%"
      ]
     },
     "execution_count": 5,
     "metadata": {},
     "output_type": "execute_result"
    }
   ],
   "source": [
    "obesity_rate_raw= pd.read_excel('raw_files/obesity_rate_raw.xlsx')\n",
    "obesity_rate_raw.head()"
   ]
  },
  {
   "cell_type": "markdown",
   "id": "f5960229-ba57-494b-aee5-4cc4222d2da6",
   "metadata": {},
   "source": [
    "비만인 사람들의 비만율(LABEL-6)만을 남기고, float값으로 활용하기 위해 %를 제거해주었다."
   ]
  },
  {
   "cell_type": "code",
   "execution_count": 6,
   "id": "12e22ac9-16ee-4863-9cb9-b5b9a5da5a5a",
   "metadata": {
    "tags": []
   },
   "outputs": [
    {
     "data": {
      "text/html": [
       "<div>\n",
       "<style scoped>\n",
       "    .dataframe tbody tr th:only-of-type {\n",
       "        vertical-align: middle;\n",
       "    }\n",
       "\n",
       "    .dataframe tbody tr th {\n",
       "        vertical-align: top;\n",
       "    }\n",
       "\n",
       "    .dataframe thead th {\n",
       "        text-align: right;\n",
       "    }\n",
       "</style>\n",
       "<table border=\"1\" class=\"dataframe\">\n",
       "  <thead>\n",
       "    <tr style=\"text-align: right;\">\n",
       "      <th></th>\n",
       "      <th>Name</th>\n",
       "      <th>obesity_rate</th>\n",
       "    </tr>\n",
       "  </thead>\n",
       "  <tbody>\n",
       "    <tr>\n",
       "      <th>0</th>\n",
       "      <td>Cook Islands</td>\n",
       "      <td>50.8</td>\n",
       "    </tr>\n",
       "    <tr>\n",
       "      <th>1</th>\n",
       "      <td>Palau</td>\n",
       "      <td>47.6</td>\n",
       "    </tr>\n",
       "    <tr>\n",
       "      <th>2</th>\n",
       "      <td>Nauru</td>\n",
       "      <td>45.6</td>\n",
       "    </tr>\n",
       "  </tbody>\n",
       "</table>\n",
       "</div>"
      ],
      "text/plain": [
       "           Name  obesity_rate\n",
       "0  Cook Islands          50.8\n",
       "1         Palau          47.6\n",
       "2         Nauru          45.6"
      ]
     },
     "execution_count": 6,
     "metadata": {},
     "output_type": "execute_result"
    }
   ],
   "source": [
    "obesity_rate = []\n",
    "for i in range(len(obesity_rate_raw['LABEL-6'])):\n",
    "    f = obesity_rate_raw['LABEL-6'][i][:-1]\n",
    "    f = float(f)\n",
    "    obesity_rate.append(f)\n",
    "\n",
    "obesity_rate_raw.insert(3, \"obesity_rate\", obesity_rate)\n",
    "\n",
    "obesity_rate_raw = obesity_rate_raw.drop(labels=['LABEL-1','LABEL-3','LABEL-4','LABEL-5','LABEL-6',],axis=1)\n",
    "obesity_rate_raw.columns = ['Name', 'obesity_rate'] \n",
    "\n",
    "obesity_rate_raw.head(3)"
   ]
  },
  {
   "cell_type": "markdown",
   "id": "43125c17",
   "metadata": {
    "tags": []
   },
   "source": [
    "4. sex ratio\n",
    "<img src=\"photos/6.png\" width=\"500\"/>"
   ]
  },
  {
   "cell_type": "code",
   "execution_count": 7,
   "id": "63342ee1",
   "metadata": {
    "tags": []
   },
   "outputs": [
    {
     "data": {
      "text/html": [
       "<div>\n",
       "<style scoped>\n",
       "    .dataframe tbody tr th:only-of-type {\n",
       "        vertical-align: middle;\n",
       "    }\n",
       "\n",
       "    .dataframe tbody tr th {\n",
       "        vertical-align: top;\n",
       "    }\n",
       "\n",
       "    .dataframe thead th {\n",
       "        text-align: right;\n",
       "    }\n",
       "</style>\n",
       "<table border=\"1\" class=\"dataframe\">\n",
       "  <thead>\n",
       "    <tr style=\"text-align: right;\">\n",
       "      <th></th>\n",
       "      <th>LABEL-1</th>\n",
       "      <th>LABEL-2</th>\n",
       "      <th>LABEL-3</th>\n",
       "      <th>LABEL-4</th>\n",
       "      <th>LABEL-5</th>\n",
       "      <th>LABEL-6</th>\n",
       "      <th>LABEL-7</th>\n",
       "      <th>LABEL-8</th>\n",
       "    </tr>\n",
       "  </thead>\n",
       "  <tbody>\n",
       "    <tr>\n",
       "      <th>0</th>\n",
       "      <td>Armenia</td>\n",
       "      <td>81.799</td>\n",
       "      <td>1</td>\n",
       "      <td>108.3</td>\n",
       "      <td>110.161</td>\n",
       "      <td>82.066</td>\n",
       "      <td>52.008</td>\n",
       "      <td>Asia</td>\n",
       "    </tr>\n",
       "    <tr>\n",
       "      <th>1</th>\n",
       "      <td>Guadeloupe</td>\n",
       "      <td>82.366</td>\n",
       "      <td>2</td>\n",
       "      <td>103.3</td>\n",
       "      <td>103.274</td>\n",
       "      <td>81.275</td>\n",
       "      <td>70.641</td>\n",
       "      <td>North America</td>\n",
       "    </tr>\n",
       "    <tr>\n",
       "      <th>2</th>\n",
       "      <td>Ukraine</td>\n",
       "      <td>84.353</td>\n",
       "      <td>3</td>\n",
       "      <td>106.2</td>\n",
       "      <td>106.811</td>\n",
       "      <td>93.979</td>\n",
       "      <td>48.510</td>\n",
       "      <td>Europe</td>\n",
       "    </tr>\n",
       "  </tbody>\n",
       "</table>\n",
       "</div>"
      ],
      "text/plain": [
       "      LABEL-1  LABEL-2  LABEL-3  LABEL-4  LABEL-5  LABEL-6  LABEL-7  \\\n",
       "0     Armenia   81.799        1    108.3  110.161   82.066   52.008   \n",
       "1  Guadeloupe   82.366        2    103.3  103.274   81.275   70.641   \n",
       "2     Ukraine   84.353        3    106.2  106.811   93.979   48.510   \n",
       "\n",
       "         LABEL-8  \n",
       "0           Asia  \n",
       "1  North America  \n",
       "2         Europe  "
      ]
     },
     "execution_count": 7,
     "metadata": {},
     "output_type": "execute_result"
    }
   ],
   "source": [
    "sex_ratio_raw = pd.read_excel('raw_files/sex_ratio_raw.xlsx')\n",
    "sex_ratio_raw.head(3)"
   ]
  },
  {
   "cell_type": "markdown",
   "id": "9e674016-c8cd-4c31-866c-855140e15846",
   "metadata": {},
   "source": [
    "여성 100명당 남성의 수를 나타내는 LABEL-2를 제외하고 모두 제거하였다."
   ]
  },
  {
   "cell_type": "code",
   "execution_count": 8,
   "id": "3e0189d4-2a08-430c-a930-0bdf09f94058",
   "metadata": {},
   "outputs": [
    {
     "data": {
      "text/html": [
       "<div>\n",
       "<style scoped>\n",
       "    .dataframe tbody tr th:only-of-type {\n",
       "        vertical-align: middle;\n",
       "    }\n",
       "\n",
       "    .dataframe tbody tr th {\n",
       "        vertical-align: top;\n",
       "    }\n",
       "\n",
       "    .dataframe thead th {\n",
       "        text-align: right;\n",
       "    }\n",
       "</style>\n",
       "<table border=\"1\" class=\"dataframe\">\n",
       "  <thead>\n",
       "    <tr style=\"text-align: right;\">\n",
       "      <th></th>\n",
       "      <th>Name</th>\n",
       "      <th>sex_ratio</th>\n",
       "    </tr>\n",
       "  </thead>\n",
       "  <tbody>\n",
       "    <tr>\n",
       "      <th>0</th>\n",
       "      <td>Armenia</td>\n",
       "      <td>81.799</td>\n",
       "    </tr>\n",
       "    <tr>\n",
       "      <th>1</th>\n",
       "      <td>Guadeloupe</td>\n",
       "      <td>82.366</td>\n",
       "    </tr>\n",
       "    <tr>\n",
       "      <th>2</th>\n",
       "      <td>Ukraine</td>\n",
       "      <td>84.353</td>\n",
       "    </tr>\n",
       "  </tbody>\n",
       "</table>\n",
       "</div>"
      ],
      "text/plain": [
       "         Name  sex_ratio\n",
       "0     Armenia     81.799\n",
       "1  Guadeloupe     82.366\n",
       "2     Ukraine     84.353"
      ]
     },
     "execution_count": 8,
     "metadata": {},
     "output_type": "execute_result"
    }
   ],
   "source": [
    "sex_ratio_raw = sex_ratio_raw.drop(labels=['LABEL-3','LABEL-4','LABEL-5','LABEL-6','LABEL-7','LABEL-8'],axis=1)\n",
    "sex_ratio_raw.columns = ['Name', 'sex_ratio'] \n",
    "\n",
    "sex_ratio_raw.head(3)"
   ]
  },
  {
   "cell_type": "markdown",
   "id": "6b7d3c1f",
   "metadata": {},
   "source": [
    "5. literacy rate\n",
    "<img src=\"photos/7.png\" width=\"500\"/>"
   ]
  },
  {
   "cell_type": "code",
   "execution_count": 9,
   "id": "493c099b",
   "metadata": {},
   "outputs": [
    {
     "data": {
      "text/html": [
       "<div>\n",
       "<style scoped>\n",
       "    .dataframe tbody tr th:only-of-type {\n",
       "        vertical-align: middle;\n",
       "    }\n",
       "\n",
       "    .dataframe tbody tr th {\n",
       "        vertical-align: top;\n",
       "    }\n",
       "\n",
       "    .dataframe thead th {\n",
       "        text-align: right;\n",
       "    }\n",
       "</style>\n",
       "<table border=\"1\" class=\"dataframe\">\n",
       "  <thead>\n",
       "    <tr style=\"text-align: right;\">\n",
       "      <th></th>\n",
       "      <th>LABEL-1</th>\n",
       "      <th>LABEL-2</th>\n",
       "      <th>LABEL-3</th>\n",
       "      <th>LABEL-4</th>\n",
       "    </tr>\n",
       "  </thead>\n",
       "  <tbody>\n",
       "    <tr>\n",
       "      <th>0</th>\n",
       "      <td>Country</td>\n",
       "      <td>NaN</td>\n",
       "      <td>Literacy rate</td>\n",
       "      <td>NaN</td>\n",
       "    </tr>\n",
       "    <tr>\n",
       "      <th>1</th>\n",
       "      <td>NaN</td>\n",
       "      <td>Andorra</td>\n",
       "      <td>NaN</td>\n",
       "      <td>100.0</td>\n",
       "    </tr>\n",
       "    <tr>\n",
       "      <th>2</th>\n",
       "      <td>NaN</td>\n",
       "      <td>Finland</td>\n",
       "      <td>NaN</td>\n",
       "      <td>100.0</td>\n",
       "    </tr>\n",
       "  </tbody>\n",
       "</table>\n",
       "</div>"
      ],
      "text/plain": [
       "   LABEL-1  LABEL-2        LABEL-3  LABEL-4\n",
       "0  Country      NaN  Literacy rate      NaN\n",
       "1      NaN  Andorra            NaN    100.0\n",
       "2      NaN  Finland            NaN    100.0"
      ]
     },
     "execution_count": 9,
     "metadata": {},
     "output_type": "execute_result"
    }
   ],
   "source": [
    "literacy_rate_raw = pd.read_excel('raw_files/literacy_rate_raw.xlsx')\n",
    "literacy_rate_raw.head(3)"
   ]
  },
  {
   "cell_type": "markdown",
   "id": "3d5ef697-1b48-4ea0-9dd7-ceca675adbaf",
   "metadata": {},
   "source": [
    "국가별 문맹률을 나타내는 LABEL-4을 제외하고 모두 제거하였다. 또한 첫 열은 attribute 이름을 가지고 있어서 제거하고 따로 이름을 지었다."
   ]
  },
  {
   "cell_type": "code",
   "execution_count": 10,
   "id": "606b7384-4a07-4861-8bdb-65284c1b45ee",
   "metadata": {},
   "outputs": [
    {
     "data": {
      "text/html": [
       "<div>\n",
       "<style scoped>\n",
       "    .dataframe tbody tr th:only-of-type {\n",
       "        vertical-align: middle;\n",
       "    }\n",
       "\n",
       "    .dataframe tbody tr th {\n",
       "        vertical-align: top;\n",
       "    }\n",
       "\n",
       "    .dataframe thead th {\n",
       "        text-align: right;\n",
       "    }\n",
       "</style>\n",
       "<table border=\"1\" class=\"dataframe\">\n",
       "  <thead>\n",
       "    <tr style=\"text-align: right;\">\n",
       "      <th></th>\n",
       "      <th>Name</th>\n",
       "      <th>literacy_rate</th>\n",
       "    </tr>\n",
       "  </thead>\n",
       "  <tbody>\n",
       "    <tr>\n",
       "      <th>1</th>\n",
       "      <td>Andorra</td>\n",
       "      <td>100.0</td>\n",
       "    </tr>\n",
       "    <tr>\n",
       "      <th>2</th>\n",
       "      <td>Finland</td>\n",
       "      <td>100.0</td>\n",
       "    </tr>\n",
       "    <tr>\n",
       "      <th>3</th>\n",
       "      <td>Greenland</td>\n",
       "      <td>100.0</td>\n",
       "    </tr>\n",
       "  </tbody>\n",
       "</table>\n",
       "</div>"
      ],
      "text/plain": [
       "        Name  literacy_rate\n",
       "1    Andorra          100.0\n",
       "2    Finland          100.0\n",
       "3  Greenland          100.0"
      ]
     },
     "execution_count": 10,
     "metadata": {},
     "output_type": "execute_result"
    }
   ],
   "source": [
    "literacy_rate_raw = literacy_rate_raw.drop(labels=['LABEL-1','LABEL-3'],axis=1)\n",
    "literacy_rate_raw = literacy_rate_raw.drop([0], axis=0)\n",
    "literacy_rate_raw.columns = ['Name', 'literacy_rate'] \n",
    "\n",
    "literacy_rate_raw.head(3)"
   ]
  },
  {
   "cell_type": "markdown",
   "id": "6cc91626",
   "metadata": {},
   "source": [
    "6. healthcare\n",
    "<img src=\"photos/8.png\" width=\"500\"/>"
   ]
  },
  {
   "cell_type": "code",
   "execution_count": 11,
   "id": "2476f782",
   "metadata": {},
   "outputs": [
    {
     "data": {
      "text/html": [
       "<div>\n",
       "<style scoped>\n",
       "    .dataframe tbody tr th:only-of-type {\n",
       "        vertical-align: middle;\n",
       "    }\n",
       "\n",
       "    .dataframe tbody tr th {\n",
       "        vertical-align: top;\n",
       "    }\n",
       "\n",
       "    .dataframe thead th {\n",
       "        text-align: right;\n",
       "    }\n",
       "</style>\n",
       "<table border=\"1\" class=\"dataframe\">\n",
       "  <thead>\n",
       "    <tr style=\"text-align: right;\">\n",
       "      <th></th>\n",
       "      <th>LABEL-1</th>\n",
       "      <th>LABEL-2</th>\n",
       "      <th>LABEL-3</th>\n",
       "      <th>LABEL-4</th>\n",
       "      <th>LABEL-5</th>\n",
       "    </tr>\n",
       "  </thead>\n",
       "  <tbody>\n",
       "    <tr>\n",
       "      <th>0</th>\n",
       "      <td>1</td>\n",
       "      <td>Belgium</td>\n",
       "      <td>83.8</td>\n",
       "      <td>80.6</td>\n",
       "      <td>NaN</td>\n",
       "    </tr>\n",
       "    <tr>\n",
       "      <th>1</th>\n",
       "      <td>2</td>\n",
       "      <td>Japan</td>\n",
       "      <td>83.2</td>\n",
       "      <td>86.6</td>\n",
       "      <td>NaN</td>\n",
       "    </tr>\n",
       "    <tr>\n",
       "      <th>2</th>\n",
       "      <td>3</td>\n",
       "      <td>Sweden</td>\n",
       "      <td>83.1</td>\n",
       "      <td>82.1</td>\n",
       "      <td>24%</td>\n",
       "    </tr>\n",
       "  </tbody>\n",
       "</table>\n",
       "</div>"
      ],
      "text/plain": [
       "   LABEL-1  LABEL-2  LABEL-3  LABEL-4 LABEL-5\n",
       "0        1  Belgium     83.8     80.6     NaN\n",
       "1        2    Japan     83.2     86.6     NaN\n",
       "2        3   Sweden     83.1     82.1     24%"
      ]
     },
     "execution_count": 11,
     "metadata": {},
     "output_type": "execute_result"
    }
   ],
   "source": [
    "healthcare_raw = pd.read_excel('raw_files/healthcare_raw.xlsx')\n",
    "healthcare_raw.head(3)"
   ]
  },
  {
   "cell_type": "markdown",
   "id": "3fcf00fc-a24e-490c-9fdf-5249a704307f",
   "metadata": {},
   "source": [
    "의료수준을 나타내는 health score(LABEL-4)를 제외하고 모두 제거하였다."
   ]
  },
  {
   "cell_type": "code",
   "execution_count": 12,
   "id": "dc19d384-fa51-4027-99ed-a8a839d79957",
   "metadata": {},
   "outputs": [
    {
     "data": {
      "text/html": [
       "<div>\n",
       "<style scoped>\n",
       "    .dataframe tbody tr th:only-of-type {\n",
       "        vertical-align: middle;\n",
       "    }\n",
       "\n",
       "    .dataframe tbody tr th {\n",
       "        vertical-align: top;\n",
       "    }\n",
       "\n",
       "    .dataframe thead th {\n",
       "        text-align: right;\n",
       "    }\n",
       "</style>\n",
       "<table border=\"1\" class=\"dataframe\">\n",
       "  <thead>\n",
       "    <tr style=\"text-align: right;\">\n",
       "      <th></th>\n",
       "      <th>Name</th>\n",
       "      <th>healthcare</th>\n",
       "    </tr>\n",
       "  </thead>\n",
       "  <tbody>\n",
       "    <tr>\n",
       "      <th>0</th>\n",
       "      <td>Belgium</td>\n",
       "      <td>80.6</td>\n",
       "    </tr>\n",
       "    <tr>\n",
       "      <th>1</th>\n",
       "      <td>Japan</td>\n",
       "      <td>86.6</td>\n",
       "    </tr>\n",
       "    <tr>\n",
       "      <th>2</th>\n",
       "      <td>Sweden</td>\n",
       "      <td>82.1</td>\n",
       "    </tr>\n",
       "  </tbody>\n",
       "</table>\n",
       "</div>"
      ],
      "text/plain": [
       "      Name  healthcare\n",
       "0  Belgium        80.6\n",
       "1    Japan        86.6\n",
       "2   Sweden        82.1"
      ]
     },
     "execution_count": 12,
     "metadata": {},
     "output_type": "execute_result"
    }
   ],
   "source": [
    "healthcare_raw = healthcare_raw.drop(labels=['LABEL-1','LABEL-3', 'LABEL-5'],axis=1)\n",
    "healthcare_raw.columns = ['Name', 'healthcare'] \n",
    "\n",
    "healthcare_raw.head(3)"
   ]
  },
  {
   "cell_type": "markdown",
   "id": "3eee89d9",
   "metadata": {},
   "source": [
    "7. dependency ratio\n",
    "<img src=\"photos/9.png\" width=\"200\"/>"
   ]
  },
  {
   "cell_type": "code",
   "execution_count": 13,
   "id": "715ec5ec",
   "metadata": {},
   "outputs": [
    {
     "data": {
      "text/html": [
       "<div>\n",
       "<style scoped>\n",
       "    .dataframe tbody tr th:only-of-type {\n",
       "        vertical-align: middle;\n",
       "    }\n",
       "\n",
       "    .dataframe tbody tr th {\n",
       "        vertical-align: top;\n",
       "    }\n",
       "\n",
       "    .dataframe thead th {\n",
       "        text-align: right;\n",
       "    }\n",
       "</style>\n",
       "<table border=\"1\" class=\"dataframe\">\n",
       "  <thead>\n",
       "    <tr style=\"text-align: right;\">\n",
       "      <th></th>\n",
       "      <th>LABEL-1</th>\n",
       "      <th>LABEL-2</th>\n",
       "      <th>LABEL-3</th>\n",
       "      <th>LABEL-4</th>\n",
       "      <th>LABEL-5</th>\n",
       "      <th>LABEL-6</th>\n",
       "      <th>LABEL-7</th>\n",
       "      <th>LABEL-8</th>\n",
       "    </tr>\n",
       "  </thead>\n",
       "  <tbody>\n",
       "    <tr>\n",
       "      <th>0</th>\n",
       "      <td>Rank</td>\n",
       "      <td>NaN</td>\n",
       "      <td>Country</td>\n",
       "      <td>NaN</td>\n",
       "      <td>Value</td>\n",
       "      <td>NaN</td>\n",
       "      <td>Year</td>\n",
       "      <td>NaN</td>\n",
       "    </tr>\n",
       "    <tr>\n",
       "      <th>1</th>\n",
       "      <td>NaN</td>\n",
       "      <td>1.0</td>\n",
       "      <td>NaN</td>\n",
       "      <td>Japan</td>\n",
       "      <td>NaN</td>\n",
       "      <td>48.01</td>\n",
       "      <td>NaN</td>\n",
       "      <td>2020.0</td>\n",
       "    </tr>\n",
       "    <tr>\n",
       "      <th>2</th>\n",
       "      <td>NaN</td>\n",
       "      <td>2.0</td>\n",
       "      <td>NaN</td>\n",
       "      <td>Finland</td>\n",
       "      <td>NaN</td>\n",
       "      <td>36.63</td>\n",
       "      <td>NaN</td>\n",
       "      <td>2020.0</td>\n",
       "    </tr>\n",
       "  </tbody>\n",
       "</table>\n",
       "</div>"
      ],
      "text/plain": [
       "  LABEL-1  LABEL-2  LABEL-3  LABEL-4 LABEL-5  LABEL-6 LABEL-7  LABEL-8\n",
       "0    Rank      NaN  Country      NaN   Value      NaN    Year      NaN\n",
       "1     NaN      1.0      NaN    Japan     NaN    48.01     NaN   2020.0\n",
       "2     NaN      2.0      NaN  Finland     NaN    36.63     NaN   2020.0"
      ]
     },
     "execution_count": 13,
     "metadata": {},
     "output_type": "execute_result"
    }
   ],
   "source": [
    "dependency_ratio_raw = pd.read_excel('raw_files/dependency_ratio_raw.xlsx')\n",
    "dependency_ratio_raw.head(3)"
   ]
  },
  {
   "cell_type": "markdown",
   "id": "37d5f405-fb75-4334-a549-907655963e17",
   "metadata": {},
   "source": [
    "dependency ratio를 나타내는 LABEL-6를 제외하고 모두 제거하였다. 또한 첫 열은 attribute 이름을 가지고 있어서 제거하고 따로 이름을 지었다."
   ]
  },
  {
   "cell_type": "code",
   "execution_count": 14,
   "id": "97d67443-c381-4a88-84c3-3e5b48d79e85",
   "metadata": {},
   "outputs": [
    {
     "data": {
      "text/html": [
       "<div>\n",
       "<style scoped>\n",
       "    .dataframe tbody tr th:only-of-type {\n",
       "        vertical-align: middle;\n",
       "    }\n",
       "\n",
       "    .dataframe tbody tr th {\n",
       "        vertical-align: top;\n",
       "    }\n",
       "\n",
       "    .dataframe thead th {\n",
       "        text-align: right;\n",
       "    }\n",
       "</style>\n",
       "<table border=\"1\" class=\"dataframe\">\n",
       "  <thead>\n",
       "    <tr style=\"text-align: right;\">\n",
       "      <th></th>\n",
       "      <th>Name</th>\n",
       "      <th>dependency_ratio</th>\n",
       "    </tr>\n",
       "  </thead>\n",
       "  <tbody>\n",
       "    <tr>\n",
       "      <th>1</th>\n",
       "      <td>Japan</td>\n",
       "      <td>48.01</td>\n",
       "    </tr>\n",
       "    <tr>\n",
       "      <th>2</th>\n",
       "      <td>Finland</td>\n",
       "      <td>36.63</td>\n",
       "    </tr>\n",
       "    <tr>\n",
       "      <th>3</th>\n",
       "      <td>Italy</td>\n",
       "      <td>36.57</td>\n",
       "    </tr>\n",
       "  </tbody>\n",
       "</table>\n",
       "</div>"
      ],
      "text/plain": [
       "      Name  dependency_ratio\n",
       "1    Japan             48.01\n",
       "2  Finland             36.63\n",
       "3    Italy             36.57"
      ]
     },
     "execution_count": 14,
     "metadata": {},
     "output_type": "execute_result"
    }
   ],
   "source": [
    "dependency_ratio_raw = dependency_ratio_raw.drop(labels=['LABEL-1','LABEL-2','LABEL-3','LABEL-5','LABEL-7','LABEL-8'],axis=1)\n",
    "dependency_ratio_raw = dependency_ratio_raw.drop([0], axis=0)\n",
    "dependency_ratio_raw.columns = ['Name', 'dependency_ratio'] \n",
    "\n",
    "dependency_ratio_raw.head(3)"
   ]
  },
  {
   "cell_type": "markdown",
   "id": "c20096c1-5a33-4d43-95ca-0354b2328bbd",
   "metadata": {},
   "source": [
    "8. female labor participation rate\n",
    "<img src=\"photos/10.png\" width=\"400\"/>"
   ]
  },
  {
   "cell_type": "code",
   "execution_count": 15,
   "id": "aa5d864b-daf5-4ed1-ae1a-cf7dcaf7f011",
   "metadata": {},
   "outputs": [
    {
     "data": {
      "text/html": [
       "<div>\n",
       "<style scoped>\n",
       "    .dataframe tbody tr th:only-of-type {\n",
       "        vertical-align: middle;\n",
       "    }\n",
       "\n",
       "    .dataframe tbody tr th {\n",
       "        vertical-align: top;\n",
       "    }\n",
       "\n",
       "    .dataframe thead th {\n",
       "        text-align: right;\n",
       "    }\n",
       "</style>\n",
       "<table border=\"1\" class=\"dataframe\">\n",
       "  <thead>\n",
       "    <tr style=\"text-align: right;\">\n",
       "      <th></th>\n",
       "      <th>LABEL-1</th>\n",
       "      <th>LABEL-2</th>\n",
       "      <th>LABEL-3</th>\n",
       "      <th>LABEL-4</th>\n",
       "      <th>LABEL-5</th>\n",
       "      <th>LABEL-6</th>\n",
       "      <th>LABEL-7</th>\n",
       "      <th>LABEL-8</th>\n",
       "    </tr>\n",
       "  </thead>\n",
       "  <tbody>\n",
       "    <tr>\n",
       "      <th>0</th>\n",
       "      <td>Rank</td>\n",
       "      <td>NaN</td>\n",
       "      <td>Country</td>\n",
       "      <td>NaN</td>\n",
       "      <td>Value</td>\n",
       "      <td>NaN</td>\n",
       "      <td>Year</td>\n",
       "      <td>NaN</td>\n",
       "    </tr>\n",
       "    <tr>\n",
       "      <th>1</th>\n",
       "      <td>NaN</td>\n",
       "      <td>1.0</td>\n",
       "      <td>NaN</td>\n",
       "      <td>Solomon Islands</td>\n",
       "      <td>NaN</td>\n",
       "      <td>83.06</td>\n",
       "      <td>NaN</td>\n",
       "      <td>2021.0</td>\n",
       "    </tr>\n",
       "    <tr>\n",
       "      <th>2</th>\n",
       "      <td>NaN</td>\n",
       "      <td>2.0</td>\n",
       "      <td>NaN</td>\n",
       "      <td>Rwanda</td>\n",
       "      <td>NaN</td>\n",
       "      <td>82.50</td>\n",
       "      <td>NaN</td>\n",
       "      <td>2021.0</td>\n",
       "    </tr>\n",
       "  </tbody>\n",
       "</table>\n",
       "</div>"
      ],
      "text/plain": [
       "  LABEL-1  LABEL-2  LABEL-3          LABEL-4 LABEL-5  LABEL-6 LABEL-7  LABEL-8\n",
       "0    Rank      NaN  Country              NaN   Value      NaN    Year      NaN\n",
       "1     NaN      1.0      NaN  Solomon Islands     NaN    83.06     NaN   2021.0\n",
       "2     NaN      2.0      NaN           Rwanda     NaN    82.50     NaN   2021.0"
      ]
     },
     "execution_count": 15,
     "metadata": {},
     "output_type": "execute_result"
    }
   ],
   "source": [
    "female_labor_raw = pd.read_excel('raw_files/female_labor_raw.xlsx')\n",
    "female_labor_raw.head(3)"
   ]
  },
  {
   "cell_type": "markdown",
   "id": "0bb78949-80ef-4cef-9423-6abfe073c3fb",
   "metadata": {},
   "source": [
    "female labor participation rate를 나타내는 LABEL-6를 제외하고 모두 제거하였다. 또한 첫 열은 attribute 이름을 가지고 있어서 제거하고 따로 이름을 지었다."
   ]
  },
  {
   "cell_type": "code",
   "execution_count": 16,
   "id": "fb5110c3-88b2-4b20-97bd-6c90ea8f84a4",
   "metadata": {},
   "outputs": [
    {
     "data": {
      "text/html": [
       "<div>\n",
       "<style scoped>\n",
       "    .dataframe tbody tr th:only-of-type {\n",
       "        vertical-align: middle;\n",
       "    }\n",
       "\n",
       "    .dataframe tbody tr th {\n",
       "        vertical-align: top;\n",
       "    }\n",
       "\n",
       "    .dataframe thead th {\n",
       "        text-align: right;\n",
       "    }\n",
       "</style>\n",
       "<table border=\"1\" class=\"dataframe\">\n",
       "  <thead>\n",
       "    <tr style=\"text-align: right;\">\n",
       "      <th></th>\n",
       "      <th>Name</th>\n",
       "      <th>female_labor</th>\n",
       "    </tr>\n",
       "  </thead>\n",
       "  <tbody>\n",
       "    <tr>\n",
       "      <th>1</th>\n",
       "      <td>Solomon Islands</td>\n",
       "      <td>83.06</td>\n",
       "    </tr>\n",
       "    <tr>\n",
       "      <th>2</th>\n",
       "      <td>Rwanda</td>\n",
       "      <td>82.50</td>\n",
       "    </tr>\n",
       "    <tr>\n",
       "      <th>3</th>\n",
       "      <td>Madagascar</td>\n",
       "      <td>81.53</td>\n",
       "    </tr>\n",
       "  </tbody>\n",
       "</table>\n",
       "</div>"
      ],
      "text/plain": [
       "              Name  female_labor\n",
       "1  Solomon Islands         83.06\n",
       "2           Rwanda         82.50\n",
       "3       Madagascar         81.53"
      ]
     },
     "execution_count": 16,
     "metadata": {},
     "output_type": "execute_result"
    }
   ],
   "source": [
    "female_labor_raw = female_labor_raw.drop(labels=['LABEL-1','LABEL-2','LABEL-3','LABEL-5','LABEL-7','LABEL-8'],axis=1)\n",
    "female_labor_raw = female_labor_raw.drop([0], axis=0)\n",
    "female_labor_raw.columns = ['Name', 'female_labor'] \n",
    "\n",
    "female_labor_raw.head(3)"
   ]
  },
  {
   "cell_type": "markdown",
   "id": "9ec02862-ecd7-4942-8d36-084d4afe473e",
   "metadata": {},
   "source": [
    "분석을 위해서 크롤링한 8개의 dataset을 하나로 합치는 작업을 할 것이다. 그런데 8개 dataset들을 합치는 과정에서 Null값들이 반드시 발생하게 된다. 그 이유는 8개 dataset의 출처가 각기 다르고, 포함된 국가들이 다 조금씩 다르기 때문이다. (ex) 국가 \"Aruba\"는 Fertility_rate에는 존재하지만, GDP에는 존재하지 않음) outer join을 하면 그 사실을 확인할 수 있다."
   ]
  },
  {
   "cell_type": "code",
   "execution_count": 17,
   "id": "d69c2044-38d0-4c73-930c-7f8c9226a01d",
   "metadata": {},
   "outputs": [],
   "source": [
    "a=fertility_rate_raw\n",
    "b=GDP_raw\n",
    "c=obesity_rate_raw\n",
    "d=sex_ratio_raw\n",
    "e=literacy_rate_raw\n",
    "f=healthcare_raw\n",
    "g=dependency_ratio_raw\n",
    "h=female_labor_raw"
   ]
  },
  {
   "cell_type": "code",
   "execution_count": 18,
   "id": "9a44cfae-a266-4b65-987f-88e18b765c56",
   "metadata": {},
   "outputs": [
    {
     "data": {
      "text/html": [
       "<div>\n",
       "<style scoped>\n",
       "    .dataframe tbody tr th:only-of-type {\n",
       "        vertical-align: middle;\n",
       "    }\n",
       "\n",
       "    .dataframe tbody tr th {\n",
       "        vertical-align: top;\n",
       "    }\n",
       "\n",
       "    .dataframe thead th {\n",
       "        text-align: right;\n",
       "    }\n",
       "</style>\n",
       "<table border=\"1\" class=\"dataframe\">\n",
       "  <thead>\n",
       "    <tr style=\"text-align: right;\">\n",
       "      <th></th>\n",
       "      <th>Name</th>\n",
       "      <th>Fertility_rate</th>\n",
       "      <th>GDP</th>\n",
       "      <th>obesity_rate</th>\n",
       "      <th>sex_ratio</th>\n",
       "      <th>literacy_rate</th>\n",
       "      <th>healthcare</th>\n",
       "      <th>dependency_ratio</th>\n",
       "      <th>female_labor</th>\n",
       "    </tr>\n",
       "  </thead>\n",
       "  <tbody>\n",
       "    <tr>\n",
       "      <th>0</th>\n",
       "      <td>Aruba</td>\n",
       "      <td>1.18</td>\n",
       "      <td>NaN</td>\n",
       "      <td>NaN</td>\n",
       "      <td>88.891</td>\n",
       "      <td>97.99</td>\n",
       "      <td>NaN</td>\n",
       "      <td>NaN</td>\n",
       "      <td>NaN</td>\n",
       "    </tr>\n",
       "    <tr>\n",
       "      <th>1</th>\n",
       "      <td>Afghanistan</td>\n",
       "      <td>4.64</td>\n",
       "      <td>NaN</td>\n",
       "      <td>2.9</td>\n",
       "      <td>101.847</td>\n",
       "      <td>37.27</td>\n",
       "      <td>51.0</td>\n",
       "      <td>4.77</td>\n",
       "      <td>14.85</td>\n",
       "    </tr>\n",
       "    <tr>\n",
       "      <th>2</th>\n",
       "      <td>Angola</td>\n",
       "      <td>5.30</td>\n",
       "      <td>2999.0</td>\n",
       "      <td>10.2</td>\n",
       "      <td>97.811</td>\n",
       "      <td>72.28</td>\n",
       "      <td>50.3</td>\n",
       "      <td>4.26</td>\n",
       "      <td>73.97</td>\n",
       "    </tr>\n",
       "    <tr>\n",
       "      <th>3</th>\n",
       "      <td>Albania</td>\n",
       "      <td>1.39</td>\n",
       "      <td>6643.0</td>\n",
       "      <td>17.6</td>\n",
       "      <td>99.032</td>\n",
       "      <td>98.45</td>\n",
       "      <td>73.8</td>\n",
       "      <td>21.61</td>\n",
       "      <td>50.73</td>\n",
       "    </tr>\n",
       "    <tr>\n",
       "      <th>4</th>\n",
       "      <td>United Arab Emirates</td>\n",
       "      <td>1.46</td>\n",
       "      <td>53758.0</td>\n",
       "      <td>37.2</td>\n",
       "      <td>222.664</td>\n",
       "      <td>98.13</td>\n",
       "      <td>77.8</td>\n",
       "      <td>1.51</td>\n",
       "      <td>46.54</td>\n",
       "    </tr>\n",
       "    <tr>\n",
       "      <th>5</th>\n",
       "      <td>Argentina</td>\n",
       "      <td>1.88</td>\n",
       "      <td>13904.0</td>\n",
       "      <td>26.3</td>\n",
       "      <td>98.088</td>\n",
       "      <td>98.09</td>\n",
       "      <td>77.2</td>\n",
       "      <td>17.71</td>\n",
       "      <td>50.01</td>\n",
       "    </tr>\n",
       "    <tr>\n",
       "      <th>6</th>\n",
       "      <td>Armenia</td>\n",
       "      <td>1.58</td>\n",
       "      <td>7014.0</td>\n",
       "      <td>19.5</td>\n",
       "      <td>81.799</td>\n",
       "      <td>99.79</td>\n",
       "      <td>74.5</td>\n",
       "      <td>17.52</td>\n",
       "      <td>42.66</td>\n",
       "    </tr>\n",
       "    <tr>\n",
       "      <th>7</th>\n",
       "      <td>Antigua and Barbuda</td>\n",
       "      <td>1.58</td>\n",
       "      <td>18745.0</td>\n",
       "      <td>30.9</td>\n",
       "      <td>91.536</td>\n",
       "      <td>98.95</td>\n",
       "      <td>NaN</td>\n",
       "      <td>13.56</td>\n",
       "      <td>NaN</td>\n",
       "    </tr>\n",
       "    <tr>\n",
       "      <th>8</th>\n",
       "      <td>Australia</td>\n",
       "      <td>1.70</td>\n",
       "      <td>64003.0</td>\n",
       "      <td>28.6</td>\n",
       "      <td>98.674</td>\n",
       "      <td>99.00</td>\n",
       "      <td>80.2</td>\n",
       "      <td>25.14</td>\n",
       "      <td>61.06</td>\n",
       "    </tr>\n",
       "    <tr>\n",
       "      <th>9</th>\n",
       "      <td>Austria</td>\n",
       "      <td>1.48</td>\n",
       "      <td>52732.0</td>\n",
       "      <td>18.4</td>\n",
       "      <td>97.135</td>\n",
       "      <td>98.00</td>\n",
       "      <td>79.6</td>\n",
       "      <td>28.93</td>\n",
       "      <td>55.51</td>\n",
       "    </tr>\n",
       "  </tbody>\n",
       "</table>\n",
       "</div>"
      ],
      "text/plain": [
       "                   Name  Fertility_rate      GDP  obesity_rate  sex_ratio  \\\n",
       "0                 Aruba            1.18      NaN           NaN     88.891   \n",
       "1           Afghanistan            4.64      NaN           2.9    101.847   \n",
       "2                Angola            5.30   2999.0          10.2     97.811   \n",
       "3               Albania            1.39   6643.0          17.6     99.032   \n",
       "4  United Arab Emirates            1.46  53758.0          37.2    222.664   \n",
       "5             Argentina            1.88  13904.0          26.3     98.088   \n",
       "6               Armenia            1.58   7014.0          19.5     81.799   \n",
       "7   Antigua and Barbuda            1.58  18745.0          30.9     91.536   \n",
       "8             Australia            1.70  64003.0          28.6     98.674   \n",
       "9               Austria            1.48  52732.0          18.4     97.135   \n",
       "\n",
       "   literacy_rate  healthcare  dependency_ratio  female_labor  \n",
       "0          97.99         NaN               NaN           NaN  \n",
       "1          37.27        51.0              4.77         14.85  \n",
       "2          72.28        50.3              4.26         73.97  \n",
       "3          98.45        73.8             21.61         50.73  \n",
       "4          98.13        77.8              1.51         46.54  \n",
       "5          98.09        77.2             17.71         50.01  \n",
       "6          99.79        74.5             17.52         42.66  \n",
       "7          98.95         NaN             13.56           NaN  \n",
       "8          99.00        80.2             25.14         61.06  \n",
       "9          98.00        79.6             28.93         55.51  "
      ]
     },
     "execution_count": 18,
     "metadata": {},
     "output_type": "execute_result"
    }
   ],
   "source": [
    "# 수집한 data들 outer join\n",
    "x = pd.merge(left = a , right = b, how = \"outer\", on = \"Name\")\n",
    "x = pd.merge(left = x , right = c, how = \"outer\", on = \"Name\")\n",
    "x = pd.merge(left = x , right = d, how = \"outer\", on = \"Name\")\n",
    "x = pd.merge(left = x , right = e, how = \"outer\", on = \"Name\")\n",
    "x = pd.merge(left = x , right = f, how = \"outer\", on = \"Name\")\n",
    "x = pd.merge(left = x , right = g, how = \"outer\", on = \"Name\")\n",
    "x = pd.merge(left = x , right = h, how = \"outer\", on = \"Name\")\n",
    "x.head(10)"
   ]
  },
  {
   "cell_type": "markdown",
   "id": "5c7d0ac2-f6ee-4919-9e37-f2caefc8ccaf",
   "metadata": {},
   "source": [
    "### - Missing data processing"
   ]
  },
  {
   "cell_type": "markdown",
   "id": "e698af80-1847-4829-8809-c07a44577be1",
   "metadata": {},
   "source": [
    "Null값들에 대처하기 위해 3가지 방법을 고민해볼 수 있다.\n",
    "\n",
    "1. Retention: 만일 결측치가 그 자체로 의미가 있다면, 남겨두는 것도 방법일 것이다. 하지만 여기서 결측치가 발생한 이유는 단순히 data간 국가의 집합이 일치하지 않아서 발생한 것으로, 의미가 없기 때문에 남겨둘 이유가 없다.\n",
    "\n",
    "2. Imputation\n",
    "    - cold deck: 해당 결측치들에 대해서, 모든 값을 일일이 찾아서 채우는 것은 시간이 오래 걸리기 때문에 쉽지 않다. 하지만 한국의 경우에는 clustering 분석에 필요하기 때문에 한국에 대한 결측치들은 직접 찾아서 넣기로 하였다."
   ]
  },
  {
   "cell_type": "code",
   "execution_count": 19,
   "id": "69bbb3e1-a895-4b6e-a23b-3edaa4db80d1",
   "metadata": {},
   "outputs": [
    {
     "data": {
      "text/html": [
       "<div>\n",
       "<style scoped>\n",
       "    .dataframe tbody tr th:only-of-type {\n",
       "        vertical-align: middle;\n",
       "    }\n",
       "\n",
       "    .dataframe tbody tr th {\n",
       "        vertical-align: top;\n",
       "    }\n",
       "\n",
       "    .dataframe thead th {\n",
       "        text-align: right;\n",
       "    }\n",
       "</style>\n",
       "<table border=\"1\" class=\"dataframe\">\n",
       "  <thead>\n",
       "    <tr style=\"text-align: right;\">\n",
       "      <th></th>\n",
       "      <th>Name</th>\n",
       "      <th>Fertility_rate</th>\n",
       "      <th>GDP</th>\n",
       "      <th>obesity_rate</th>\n",
       "      <th>sex_ratio</th>\n",
       "      <th>literacy_rate</th>\n",
       "      <th>healthcare</th>\n",
       "      <th>dependency_ratio</th>\n",
       "      <th>female_labor</th>\n",
       "    </tr>\n",
       "  </thead>\n",
       "  <tbody>\n",
       "    <tr>\n",
       "      <th>100</th>\n",
       "      <td>South Korea</td>\n",
       "      <td>0.808</td>\n",
       "      <td>32138.0</td>\n",
       "      <td>6.9</td>\n",
       "      <td>NaN</td>\n",
       "      <td>98.8</td>\n",
       "      <td>84.1</td>\n",
       "      <td>NaN</td>\n",
       "      <td>NaN</td>\n",
       "    </tr>\n",
       "  </tbody>\n",
       "</table>\n",
       "</div>"
      ],
      "text/plain": [
       "            Name  Fertility_rate      GDP  obesity_rate  sex_ratio  \\\n",
       "100  South Korea           0.808  32138.0           6.9        NaN   \n",
       "\n",
       "     literacy_rate  healthcare  dependency_ratio  female_labor  \n",
       "100           98.8        84.1               NaN           NaN  "
      ]
     },
     "execution_count": 19,
     "metadata": {},
     "output_type": "execute_result"
    }
   ],
   "source": [
    "# 확인해보니 한국은 sex_ratio, dependency_ratio, female_labor 값이 없음을 알 수 있다.\n",
    "x.loc[x['Name'] == 'South Korea']"
   ]
  },
  {
   "cell_type": "markdown",
   "id": "9dad7c32-97a1-4280-9537-8aaab928f27c",
   "metadata": {},
   "source": [
    "흥미롭게도 이 값들은 없었던 것이 아니고, 한국을 data마다 다르게 표기했기 때문이다. \"South Korea\"가 아닌 \"Dem. People's Republic of Korea\", \"Korea\" 등으로 말이다."
   ]
  },
  {
   "cell_type": "code",
   "execution_count": 20,
   "id": "4a2e16c2-db79-4bcc-8a57-e0958157d216",
   "metadata": {},
   "outputs": [
    {
     "data": {
      "text/html": [
       "<div>\n",
       "<style scoped>\n",
       "    .dataframe tbody tr th:only-of-type {\n",
       "        vertical-align: middle;\n",
       "    }\n",
       "\n",
       "    .dataframe tbody tr th {\n",
       "        vertical-align: top;\n",
       "    }\n",
       "\n",
       "    .dataframe thead th {\n",
       "        text-align: right;\n",
       "    }\n",
       "</style>\n",
       "<table border=\"1\" class=\"dataframe\">\n",
       "  <thead>\n",
       "    <tr style=\"text-align: right;\">\n",
       "      <th></th>\n",
       "      <th>Name</th>\n",
       "      <th>sex_ratio</th>\n",
       "    </tr>\n",
       "  </thead>\n",
       "  <tbody>\n",
       "    <tr>\n",
       "      <th>112</th>\n",
       "      <td>Dem. People's Republic of Korea</td>\n",
       "      <td>98.324</td>\n",
       "    </tr>\n",
       "  </tbody>\n",
       "</table>\n",
       "</div>"
      ],
      "text/plain": [
       "                                Name  sex_ratio\n",
       "112  Dem. People's Republic of Korea     98.324"
      ]
     },
     "execution_count": 20,
     "metadata": {},
     "output_type": "execute_result"
    }
   ],
   "source": [
    "sex_ratio_raw.loc[sex_ratio_raw['Name'] == \"Dem. People's Republic of Korea\"]"
   ]
  },
  {
   "cell_type": "code",
   "execution_count": 21,
   "id": "5d7cf80a-9066-474f-bd06-1d510b56e80c",
   "metadata": {},
   "outputs": [
    {
     "data": {
      "text/html": [
       "<div>\n",
       "<style scoped>\n",
       "    .dataframe tbody tr th:only-of-type {\n",
       "        vertical-align: middle;\n",
       "    }\n",
       "\n",
       "    .dataframe tbody tr th {\n",
       "        vertical-align: top;\n",
       "    }\n",
       "\n",
       "    .dataframe thead th {\n",
       "        text-align: right;\n",
       "    }\n",
       "</style>\n",
       "<table border=\"1\" class=\"dataframe\">\n",
       "  <thead>\n",
       "    <tr style=\"text-align: right;\">\n",
       "      <th></th>\n",
       "      <th>Name</th>\n",
       "      <th>dependency_ratio</th>\n",
       "    </tr>\n",
       "  </thead>\n",
       "  <tbody>\n",
       "    <tr>\n",
       "      <th>47</th>\n",
       "      <td>Korea</td>\n",
       "      <td>22.03</td>\n",
       "    </tr>\n",
       "  </tbody>\n",
       "</table>\n",
       "</div>"
      ],
      "text/plain": [
       "     Name  dependency_ratio\n",
       "47  Korea             22.03"
      ]
     },
     "execution_count": 21,
     "metadata": {},
     "output_type": "execute_result"
    }
   ],
   "source": [
    "dependency_ratio_raw.loc[dependency_ratio_raw['Name'] == \"Korea\"] "
   ]
  },
  {
   "cell_type": "code",
   "execution_count": 22,
   "id": "3f6f7fe8-7600-48d9-81fe-739f16338e25",
   "metadata": {},
   "outputs": [
    {
     "data": {
      "text/html": [
       "<div>\n",
       "<style scoped>\n",
       "    .dataframe tbody tr th:only-of-type {\n",
       "        vertical-align: middle;\n",
       "    }\n",
       "\n",
       "    .dataframe tbody tr th {\n",
       "        vertical-align: top;\n",
       "    }\n",
       "\n",
       "    .dataframe thead th {\n",
       "        text-align: right;\n",
       "    }\n",
       "</style>\n",
       "<table border=\"1\" class=\"dataframe\">\n",
       "  <thead>\n",
       "    <tr style=\"text-align: right;\">\n",
       "      <th></th>\n",
       "      <th>Name</th>\n",
       "      <th>female_labor</th>\n",
       "    </tr>\n",
       "  </thead>\n",
       "  <tbody>\n",
       "    <tr>\n",
       "      <th>85</th>\n",
       "      <td>Korea</td>\n",
       "      <td>53.39</td>\n",
       "    </tr>\n",
       "  </tbody>\n",
       "</table>\n",
       "</div>"
      ],
      "text/plain": [
       "     Name  female_labor\n",
       "85  Korea         53.39"
      ]
     },
     "execution_count": 22,
     "metadata": {},
     "output_type": "execute_result"
    }
   ],
   "source": [
    "female_labor_raw.loc[female_labor_raw['Name'] == \"Korea\"] "
   ]
  },
  {
   "cell_type": "markdown",
   "id": "c158d2fe-6bde-4876-84a6-1924320fbcf6",
   "metadata": {},
   "source": [
    "한국의 표기 방식을 \"South Korea\"로 통일하여 한국이 포함될 수 있도록 하였다."
   ]
  },
  {
   "cell_type": "code",
   "execution_count": 23,
   "id": "4165e1c5-fc0e-424a-83e4-d4b69adfa30f",
   "metadata": {},
   "outputs": [],
   "source": [
    "sex_ratio_raw['Name'] = sex_ratio_raw['Name'].replace([\"Dem. People's Republic of Korea\"], 'South Korea')\n",
    "dependency_ratio_raw['Name'] = dependency_ratio_raw['Name'].replace([\"Korea\"], 'South Korea')\n",
    "female_labor_raw['Name'] = female_labor_raw['Name'].replace([\"Korea\"], 'South Korea')\n",
    "\n",
    "d=sex_ratio_raw\n",
    "g=dependency_ratio_raw\n",
    "h=female_labor_raw"
   ]
  },
  {
   "cell_type": "markdown",
   "id": "7ed6cf47-3830-4b27-b39a-00b9e21e4606",
   "metadata": {},
   "source": [
    "    - hot deck: 국가 지표는 다른 국가 지표와 연관된 값이 아니기 때문에 mean, fill, KNN 등을 사용해서 채우기에는 어려움이 있다.    \n",
    "    \n",
    "3. Deletion: 앞선 2개 방법의 사용이 어렵고, 또한 결측치를 제거함으로써 결정을 더 빠르게 할 수 있기 때문에 한국을 제외한 국가들의 결측치는 삭제하기로 하였다. drop의 방법으로는 inner join을 함으로써, 7개의 지표를 모두 가지고 있는 국가만 남게 하였다."
   ]
  },
  {
   "cell_type": "code",
   "execution_count": 24,
   "id": "3e8d1b2a-0a58-4c2e-9f95-185eaadd9c9f",
   "metadata": {},
   "outputs": [
    {
     "data": {
      "text/html": [
       "<div>\n",
       "<style scoped>\n",
       "    .dataframe tbody tr th:only-of-type {\n",
       "        vertical-align: middle;\n",
       "    }\n",
       "\n",
       "    .dataframe tbody tr th {\n",
       "        vertical-align: top;\n",
       "    }\n",
       "\n",
       "    .dataframe thead th {\n",
       "        text-align: right;\n",
       "    }\n",
       "</style>\n",
       "<table border=\"1\" class=\"dataframe\">\n",
       "  <thead>\n",
       "    <tr style=\"text-align: right;\">\n",
       "      <th></th>\n",
       "      <th>Name</th>\n",
       "      <th>Fertility_rate</th>\n",
       "      <th>GDP</th>\n",
       "      <th>obesity_rate</th>\n",
       "      <th>sex_ratio</th>\n",
       "      <th>literacy_rate</th>\n",
       "      <th>healthcare</th>\n",
       "      <th>dependency_ratio</th>\n",
       "      <th>female_labor</th>\n",
       "    </tr>\n",
       "  </thead>\n",
       "  <tbody>\n",
       "    <tr>\n",
       "      <th>0</th>\n",
       "      <td>Angola</td>\n",
       "      <td>5.30</td>\n",
       "      <td>2999.0</td>\n",
       "      <td>10.2</td>\n",
       "      <td>97.811</td>\n",
       "      <td>72.28</td>\n",
       "      <td>50.3</td>\n",
       "      <td>4.26</td>\n",
       "      <td>73.97</td>\n",
       "    </tr>\n",
       "    <tr>\n",
       "      <th>1</th>\n",
       "      <td>Albania</td>\n",
       "      <td>1.39</td>\n",
       "      <td>6643.0</td>\n",
       "      <td>17.6</td>\n",
       "      <td>99.032</td>\n",
       "      <td>98.45</td>\n",
       "      <td>73.8</td>\n",
       "      <td>21.61</td>\n",
       "      <td>50.73</td>\n",
       "    </tr>\n",
       "    <tr>\n",
       "      <th>2</th>\n",
       "      <td>United Arab Emirates</td>\n",
       "      <td>1.46</td>\n",
       "      <td>53758.0</td>\n",
       "      <td>37.2</td>\n",
       "      <td>222.664</td>\n",
       "      <td>98.13</td>\n",
       "      <td>77.8</td>\n",
       "      <td>1.51</td>\n",
       "      <td>46.54</td>\n",
       "    </tr>\n",
       "    <tr>\n",
       "      <th>3</th>\n",
       "      <td>Argentina</td>\n",
       "      <td>1.88</td>\n",
       "      <td>13904.0</td>\n",
       "      <td>26.3</td>\n",
       "      <td>98.088</td>\n",
       "      <td>98.09</td>\n",
       "      <td>77.2</td>\n",
       "      <td>17.71</td>\n",
       "      <td>50.01</td>\n",
       "    </tr>\n",
       "    <tr>\n",
       "      <th>4</th>\n",
       "      <td>Armenia</td>\n",
       "      <td>1.58</td>\n",
       "      <td>7014.0</td>\n",
       "      <td>19.5</td>\n",
       "      <td>81.799</td>\n",
       "      <td>99.79</td>\n",
       "      <td>74.5</td>\n",
       "      <td>17.52</td>\n",
       "      <td>42.66</td>\n",
       "    </tr>\n",
       "    <tr>\n",
       "      <th>...</th>\n",
       "      <td>...</td>\n",
       "      <td>...</td>\n",
       "      <td>...</td>\n",
       "      <td>...</td>\n",
       "      <td>...</td>\n",
       "      <td>...</td>\n",
       "      <td>...</td>\n",
       "      <td>...</td>\n",
       "      <td>...</td>\n",
       "    </tr>\n",
       "    <tr>\n",
       "      <th>125</th>\n",
       "      <td>Uruguay</td>\n",
       "      <td>1.49</td>\n",
       "      <td>20795.0</td>\n",
       "      <td>26.7</td>\n",
       "      <td>94.116</td>\n",
       "      <td>98.77</td>\n",
       "      <td>78.1</td>\n",
       "      <td>23.36</td>\n",
       "      <td>54.78</td>\n",
       "    </tr>\n",
       "    <tr>\n",
       "      <th>126</th>\n",
       "      <td>Uzbekistan</td>\n",
       "      <td>3.17</td>\n",
       "      <td>2322.0</td>\n",
       "      <td>15.5</td>\n",
       "      <td>100.215</td>\n",
       "      <td>100.00</td>\n",
       "      <td>76.3</td>\n",
       "      <td>7.21</td>\n",
       "      <td>44.90</td>\n",
       "    </tr>\n",
       "    <tr>\n",
       "      <th>127</th>\n",
       "      <td>South Africa</td>\n",
       "      <td>2.37</td>\n",
       "      <td>6776.0</td>\n",
       "      <td>26.8</td>\n",
       "      <td>95.281</td>\n",
       "      <td>95.02</td>\n",
       "      <td>56.6</td>\n",
       "      <td>8.39</td>\n",
       "      <td>46.21</td>\n",
       "    </tr>\n",
       "    <tr>\n",
       "      <th>128</th>\n",
       "      <td>Zambia</td>\n",
       "      <td>4.31</td>\n",
       "      <td>1488.0</td>\n",
       "      <td>8.9</td>\n",
       "      <td>97.367</td>\n",
       "      <td>87.50</td>\n",
       "      <td>59.8</td>\n",
       "      <td>3.96</td>\n",
       "      <td>69.23</td>\n",
       "    </tr>\n",
       "    <tr>\n",
       "      <th>129</th>\n",
       "      <td>Zimbabwe</td>\n",
       "      <td>3.49</td>\n",
       "      <td>1267.0</td>\n",
       "      <td>10.5</td>\n",
       "      <td>89.922</td>\n",
       "      <td>89.70</td>\n",
       "      <td>54.8</td>\n",
       "      <td>5.47</td>\n",
       "      <td>79.31</td>\n",
       "    </tr>\n",
       "  </tbody>\n",
       "</table>\n",
       "<p>130 rows × 9 columns</p>\n",
       "</div>"
      ],
      "text/plain": [
       "                     Name  Fertility_rate      GDP  obesity_rate  sex_ratio  \\\n",
       "0                  Angola            5.30   2999.0          10.2     97.811   \n",
       "1                 Albania            1.39   6643.0          17.6     99.032   \n",
       "2    United Arab Emirates            1.46  53758.0          37.2    222.664   \n",
       "3               Argentina            1.88  13904.0          26.3     98.088   \n",
       "4                 Armenia            1.58   7014.0          19.5     81.799   \n",
       "..                    ...             ...      ...           ...        ...   \n",
       "125               Uruguay            1.49  20795.0          26.7     94.116   \n",
       "126            Uzbekistan            3.17   2322.0          15.5    100.215   \n",
       "127          South Africa            2.37   6776.0          26.8     95.281   \n",
       "128                Zambia            4.31   1488.0           8.9     97.367   \n",
       "129              Zimbabwe            3.49   1267.0          10.5     89.922   \n",
       "\n",
       "     literacy_rate  healthcare  dependency_ratio  female_labor  \n",
       "0            72.28        50.3              4.26         73.97  \n",
       "1            98.45        73.8             21.61         50.73  \n",
       "2            98.13        77.8              1.51         46.54  \n",
       "3            98.09        77.2             17.71         50.01  \n",
       "4            99.79        74.5             17.52         42.66  \n",
       "..             ...         ...               ...           ...  \n",
       "125          98.77        78.1             23.36         54.78  \n",
       "126         100.00        76.3              7.21         44.90  \n",
       "127          95.02        56.6              8.39         46.21  \n",
       "128          87.50        59.8              3.96         69.23  \n",
       "129          89.70        54.8              5.47         79.31  \n",
       "\n",
       "[130 rows x 9 columns]"
      ]
     },
     "execution_count": 24,
     "metadata": {},
     "output_type": "execute_result"
    }
   ],
   "source": [
    "x = pd.merge(left = a , right = b, how = \"inner\", on = \"Name\")\n",
    "x = pd.merge(left = x , right = c, how = \"inner\", on = \"Name\")\n",
    "x = pd.merge(left = x , right = d, how = \"inner\", on = \"Name\")\n",
    "x = pd.merge(left = x , right = e, how = \"inner\", on = \"Name\")\n",
    "x = pd.merge(left = x , right = f, how = \"inner\", on = \"Name\")\n",
    "x = pd.merge(left = x , right = g, how = \"inner\", on = \"Name\")\n",
    "x = pd.merge(left = x , right = h, how = \"inner\", on = \"Name\")\n",
    "raw_data = x\n",
    "raw_data"
   ]
  },
  {
   "cell_type": "markdown",
   "id": "aa7d3076-f3f0-4bcf-a4ab-12a54af2c804",
   "metadata": {},
   "source": [
    "join 결과, 130개 국가에 대해 이름 제외 8개의 attribute로, 최종적으로 도합 130 * 8 = 1040개의 data point를 수집하였다."
   ]
  },
  {
   "cell_type": "code",
   "execution_count": 25,
   "id": "2273c3c7-4414-426e-9776-566c35a26a23",
   "metadata": {},
   "outputs": [
    {
     "name": "stdout",
     "output_type": "stream",
     "text": [
      "<class 'pandas.core.frame.DataFrame'>\n",
      "Int64Index: 130 entries, 0 to 129\n",
      "Data columns (total 9 columns):\n",
      " #   Column            Non-Null Count  Dtype  \n",
      "---  ------            --------------  -----  \n",
      " 0   Name              130 non-null    object \n",
      " 1   Fertility_rate    130 non-null    float64\n",
      " 2   GDP               130 non-null    float64\n",
      " 3   obesity_rate      130 non-null    float64\n",
      " 4   sex_ratio         130 non-null    float64\n",
      " 5   literacy_rate     130 non-null    float64\n",
      " 6   healthcare        130 non-null    float64\n",
      " 7   dependency_ratio  130 non-null    float64\n",
      " 8   female_labor      130 non-null    float64\n",
      "dtypes: float64(8), object(1)\n",
      "memory usage: 10.2+ KB\n"
     ]
    }
   ],
   "source": [
    "raw_data.info()"
   ]
  },
  {
   "cell_type": "markdown",
   "id": "8b3458ad-dfba-44f6-b202-8639474e27b5",
   "metadata": {},
   "source": [
    "### - Outlier processing(한국)"
   ]
  },
  {
   "cell_type": "markdown",
   "id": "d6b82db2-8b17-4c3b-b34c-dfde72fc0f0c",
   "metadata": {},
   "source": [
    "해당 dataset에서 outlier는 의미가 있다. outlier가 있다고 해도, 오류가 아니고 그 국가의 다양한 요인들 때문에 다른 국가들과 출산율, GDP 등의 차이가 많이 나게 되는 것이기 때문에 삭제하거나 수정하지 않고, Retention(그냥 두기)가 좋아보인다. 모델에게 유의미한 정보를 전달할 수 있기 때문이다.\n",
    "\n",
    "다만, IQR을 통해 한국의 출산율이 \"outlier\"이라고 불릴 정도로 적은지, 즉 심각한 상황인지를 검증해보고자 한다. 출산율만 봐도 되기 때문에 fertility_rate_raw를 사용하였다."
   ]
  },
  {
   "cell_type": "code",
   "execution_count": 26,
   "id": "1706d350-b0fb-4d55-9bb9-913cb5f9c081",
   "metadata": {},
   "outputs": [
    {
     "data": {
      "text/html": [
       "<div>\n",
       "<style scoped>\n",
       "    .dataframe tbody tr th:only-of-type {\n",
       "        vertical-align: middle;\n",
       "    }\n",
       "\n",
       "    .dataframe tbody tr th {\n",
       "        vertical-align: top;\n",
       "    }\n",
       "\n",
       "    .dataframe thead th {\n",
       "        text-align: right;\n",
       "    }\n",
       "</style>\n",
       "<table border=\"1\" class=\"dataframe\">\n",
       "  <thead>\n",
       "    <tr style=\"text-align: right;\">\n",
       "      <th></th>\n",
       "      <th>Name</th>\n",
       "      <th>Fertility_rate</th>\n",
       "    </tr>\n",
       "  </thead>\n",
       "  <tbody>\n",
       "    <tr>\n",
       "      <th>100</th>\n",
       "      <td>South Korea</td>\n",
       "      <td>0.808</td>\n",
       "    </tr>\n",
       "  </tbody>\n",
       "</table>\n",
       "</div>"
      ],
      "text/plain": [
       "            Name  Fertility_rate\n",
       "100  South Korea           0.808"
      ]
     },
     "execution_count": 26,
     "metadata": {},
     "output_type": "execute_result"
    }
   ],
   "source": [
    "fertility_rate_raw.loc[fertility_rate_raw['Name'] == 'South Korea']"
   ]
  },
  {
   "cell_type": "code",
   "execution_count": 27,
   "id": "6576bfb8-4241-4599-9f49-9b5a5eb7ae4d",
   "metadata": {},
   "outputs": [
    {
     "data": {
      "text/html": [
       "<div>\n",
       "<style scoped>\n",
       "    .dataframe tbody tr th:only-of-type {\n",
       "        vertical-align: middle;\n",
       "    }\n",
       "\n",
       "    .dataframe tbody tr th {\n",
       "        vertical-align: top;\n",
       "    }\n",
       "\n",
       "    .dataframe thead th {\n",
       "        text-align: right;\n",
       "    }\n",
       "</style>\n",
       "<table border=\"1\" class=\"dataframe\">\n",
       "  <thead>\n",
       "    <tr style=\"text-align: right;\">\n",
       "      <th></th>\n",
       "      <th>Fertility_rate</th>\n",
       "    </tr>\n",
       "  </thead>\n",
       "  <tbody>\n",
       "    <tr>\n",
       "      <th>count</th>\n",
       "      <td>206.000000</td>\n",
       "    </tr>\n",
       "    <tr>\n",
       "      <th>mean</th>\n",
       "      <td>2.511733</td>\n",
       "    </tr>\n",
       "    <tr>\n",
       "      <th>std</th>\n",
       "      <td>1.249751</td>\n",
       "    </tr>\n",
       "    <tr>\n",
       "      <th>min</th>\n",
       "      <td>0.772000</td>\n",
       "    </tr>\n",
       "    <tr>\n",
       "      <th>25%</th>\n",
       "      <td>1.580000</td>\n",
       "    </tr>\n",
       "    <tr>\n",
       "      <th>50%</th>\n",
       "      <td>2.030000</td>\n",
       "    </tr>\n",
       "    <tr>\n",
       "      <th>75%</th>\n",
       "      <td>3.235000</td>\n",
       "    </tr>\n",
       "    <tr>\n",
       "      <th>max</th>\n",
       "      <td>6.820000</td>\n",
       "    </tr>\n",
       "  </tbody>\n",
       "</table>\n",
       "</div>"
      ],
      "text/plain": [
       "       Fertility_rate\n",
       "count      206.000000\n",
       "mean         2.511733\n",
       "std          1.249751\n",
       "min          0.772000\n",
       "25%          1.580000\n",
       "50%          2.030000\n",
       "75%          3.235000\n",
       "max          6.820000"
      ]
     },
     "execution_count": 27,
     "metadata": {},
     "output_type": "execute_result"
    }
   ],
   "source": [
    "fertility_rate_raw.describe()"
   ]
  },
  {
   "cell_type": "markdown",
   "id": "78652e7e-0ef4-4236-92a0-4d84e12fd511",
   "metadata": {},
   "source": [
    "lower bound Q1 = 1.58, upper bound Q3 = 3.235임을 알 수 있다. 한국의 출산율 0.808은 이 범위에 속하지 않기 때문에, outlier이라고 가정할 수 있다. 게다가 꽤 차이가 많이 나기 때문에 심각한 지표라고 볼 수 있다. "
   ]
  },
  {
   "cell_type": "markdown",
   "id": "09d5bec2-81db-4df5-a440-87da9fb0e123",
   "metadata": {
    "tags": []
   },
   "source": [
    "# [1. Models + PCA]"
   ]
  },
  {
   "cell_type": "markdown",
   "id": "e0307346-9b0f-4dd6-962c-ddf2d421faef",
   "metadata": {},
   "source": [
    "1. Supervised Learning - 출산율과 연관있는 다른 factor들에는 무엇이 있고, 각각 어느 정도 연관이 있을까?\n",
    "\n",
    " - 사용 기법: Various models(LinearRegression, VotingRegressor, AdaBoostRegressor, ... 등 7개) + PCA\n",
    "\n",
    " - 개요: 앞서 언급한 것처럼, 정부의 저출산 지원 정책은 대부분 비용 지원 차원(경제적 지원)의 방식으로 이루어진다. 이외에 요인이 될 수 있는 6가지 factor(국가별 비만율, 성비, 문해율, 의료 수준, 부양비, 여성 근로 참여율)과 출산율 간의 관계를 확인할 것이다. 이를 통해 경제적인 지원 말고, 출산율을 높일 수 있는 다른 factor들을 가려냄으로써 정부가 그 factor에도 집중하도록 하고, 좀 더 폭넓은 방향으로 정책을 만들 수 있도록 할 계획이다."
   ]
  },
  {
   "cell_type": "code",
   "execution_count": 28,
   "id": "ed680948-76fd-4608-8be3-59e701508805",
   "metadata": {},
   "outputs": [],
   "source": [
    "import numpy as np\n",
    "import matplotlib.pyplot as plt\n",
    "import seaborn as sns"
   ]
  },
  {
   "cell_type": "code",
   "execution_count": 29,
   "id": "183a0542-eedb-43cc-8638-5d3be1e4c7e6",
   "metadata": {
    "tags": []
   },
   "outputs": [
    {
     "data": {
      "text/html": [
       "<div>\n",
       "<style scoped>\n",
       "    .dataframe tbody tr th:only-of-type {\n",
       "        vertical-align: middle;\n",
       "    }\n",
       "\n",
       "    .dataframe tbody tr th {\n",
       "        vertical-align: top;\n",
       "    }\n",
       "\n",
       "    .dataframe thead th {\n",
       "        text-align: right;\n",
       "    }\n",
       "</style>\n",
       "<table border=\"1\" class=\"dataframe\">\n",
       "  <thead>\n",
       "    <tr style=\"text-align: right;\">\n",
       "      <th></th>\n",
       "      <th>Name</th>\n",
       "      <th>Fertility_rate</th>\n",
       "      <th>GDP</th>\n",
       "      <th>obesity_rate</th>\n",
       "      <th>sex_ratio</th>\n",
       "      <th>literacy_rate</th>\n",
       "      <th>healthcare</th>\n",
       "      <th>dependency_ratio</th>\n",
       "      <th>female_labor</th>\n",
       "    </tr>\n",
       "  </thead>\n",
       "  <tbody>\n",
       "    <tr>\n",
       "      <th>0</th>\n",
       "      <td>Angola</td>\n",
       "      <td>5.30</td>\n",
       "      <td>2999.0</td>\n",
       "      <td>10.2</td>\n",
       "      <td>97.811</td>\n",
       "      <td>72.28</td>\n",
       "      <td>50.3</td>\n",
       "      <td>4.26</td>\n",
       "      <td>73.97</td>\n",
       "    </tr>\n",
       "    <tr>\n",
       "      <th>1</th>\n",
       "      <td>Albania</td>\n",
       "      <td>1.39</td>\n",
       "      <td>6643.0</td>\n",
       "      <td>17.6</td>\n",
       "      <td>99.032</td>\n",
       "      <td>98.45</td>\n",
       "      <td>73.8</td>\n",
       "      <td>21.61</td>\n",
       "      <td>50.73</td>\n",
       "    </tr>\n",
       "    <tr>\n",
       "      <th>2</th>\n",
       "      <td>United Arab Emirates</td>\n",
       "      <td>1.46</td>\n",
       "      <td>53758.0</td>\n",
       "      <td>37.2</td>\n",
       "      <td>222.664</td>\n",
       "      <td>98.13</td>\n",
       "      <td>77.8</td>\n",
       "      <td>1.51</td>\n",
       "      <td>46.54</td>\n",
       "    </tr>\n",
       "  </tbody>\n",
       "</table>\n",
       "</div>"
      ],
      "text/plain": [
       "                   Name  Fertility_rate      GDP  obesity_rate  sex_ratio  \\\n",
       "0                Angola            5.30   2999.0          10.2     97.811   \n",
       "1               Albania            1.39   6643.0          17.6     99.032   \n",
       "2  United Arab Emirates            1.46  53758.0          37.2    222.664   \n",
       "\n",
       "   literacy_rate  healthcare  dependency_ratio  female_labor  \n",
       "0          72.28        50.3              4.26         73.97  \n",
       "1          98.45        73.8             21.61         50.73  \n",
       "2          98.13        77.8              1.51         46.54  "
      ]
     },
     "execution_count": 29,
     "metadata": {},
     "output_type": "execute_result"
    }
   ],
   "source": [
    "raw_data.head(3)"
   ]
  },
  {
   "cell_type": "markdown",
   "id": "91374148-3eec-4876-9e86-f5d6df79b077",
   "metadata": {},
   "source": [
    "###  - data scaling"
   ]
  },
  {
   "cell_type": "code",
   "execution_count": 30,
   "id": "138f5cd6-5227-4493-bca2-77d6888a7086",
   "metadata": {},
   "outputs": [
    {
     "data": {
      "text/html": [
       "<div>\n",
       "<style scoped>\n",
       "    .dataframe tbody tr th:only-of-type {\n",
       "        vertical-align: middle;\n",
       "    }\n",
       "\n",
       "    .dataframe tbody tr th {\n",
       "        vertical-align: top;\n",
       "    }\n",
       "\n",
       "    .dataframe thead th {\n",
       "        text-align: right;\n",
       "    }\n",
       "</style>\n",
       "<table border=\"1\" class=\"dataframe\">\n",
       "  <thead>\n",
       "    <tr style=\"text-align: right;\">\n",
       "      <th></th>\n",
       "      <th>Name</th>\n",
       "      <th>Fertility_rate</th>\n",
       "      <th>GDP</th>\n",
       "      <th>obesity_rate</th>\n",
       "      <th>sex_ratio</th>\n",
       "      <th>literacy_rate</th>\n",
       "      <th>healthcare</th>\n",
       "      <th>dependency_ratio</th>\n",
       "      <th>female_labor</th>\n",
       "    </tr>\n",
       "  </thead>\n",
       "  <tbody>\n",
       "    <tr>\n",
       "      <th>0</th>\n",
       "      <td>Angola</td>\n",
       "      <td>5.30</td>\n",
       "      <td>-0.621446</td>\n",
       "      <td>-0.858918</td>\n",
       "      <td>-0.195551</td>\n",
       "      <td>-0.790655</td>\n",
       "      <td>-1.780959</td>\n",
       "      <td>-1.012930</td>\n",
       "      <td>1.602023</td>\n",
       "    </tr>\n",
       "    <tr>\n",
       "      <th>1</th>\n",
       "      <td>Albania</td>\n",
       "      <td>1.39</td>\n",
       "      <td>-0.476198</td>\n",
       "      <td>-0.047408</td>\n",
       "      <td>-0.135495</td>\n",
       "      <td>0.675911</td>\n",
       "      <td>0.391810</td>\n",
       "      <td>0.589241</td>\n",
       "      <td>-0.054354</td>\n",
       "    </tr>\n",
       "    <tr>\n",
       "      <th>2</th>\n",
       "      <td>United Arab Emirates</td>\n",
       "      <td>1.46</td>\n",
       "      <td>1.401775</td>\n",
       "      <td>2.101996</td>\n",
       "      <td>5.945477</td>\n",
       "      <td>0.657978</td>\n",
       "      <td>0.761642</td>\n",
       "      <td>-1.266877</td>\n",
       "      <td>-0.352986</td>\n",
       "    </tr>\n",
       "    <tr>\n",
       "      <th>3</th>\n",
       "      <td>Argentina</td>\n",
       "      <td>1.88</td>\n",
       "      <td>-0.186779</td>\n",
       "      <td>0.906664</td>\n",
       "      <td>-0.181926</td>\n",
       "      <td>0.655736</td>\n",
       "      <td>0.706167</td>\n",
       "      <td>0.229099</td>\n",
       "      <td>-0.105670</td>\n",
       "    </tr>\n",
       "    <tr>\n",
       "      <th>4</th>\n",
       "      <td>Armenia</td>\n",
       "      <td>1.58</td>\n",
       "      <td>-0.461410</td>\n",
       "      <td>0.160952</td>\n",
       "      <td>-0.983118</td>\n",
       "      <td>0.751004</td>\n",
       "      <td>0.456530</td>\n",
       "      <td>0.211553</td>\n",
       "      <td>-0.629524</td>\n",
       "    </tr>\n",
       "  </tbody>\n",
       "</table>\n",
       "</div>"
      ],
      "text/plain": [
       "                   Name  Fertility_rate       GDP  obesity_rate  sex_ratio  \\\n",
       "0                Angola            5.30 -0.621446     -0.858918  -0.195551   \n",
       "1               Albania            1.39 -0.476198     -0.047408  -0.135495   \n",
       "2  United Arab Emirates            1.46  1.401775      2.101996   5.945477   \n",
       "3             Argentina            1.88 -0.186779      0.906664  -0.181926   \n",
       "4               Armenia            1.58 -0.461410      0.160952  -0.983118   \n",
       "\n",
       "   literacy_rate  healthcare  dependency_ratio  female_labor  \n",
       "0      -0.790655   -1.780959         -1.012930      1.602023  \n",
       "1       0.675911    0.391810          0.589241     -0.054354  \n",
       "2       0.657978    0.761642         -1.266877     -0.352986  \n",
       "3       0.655736    0.706167          0.229099     -0.105670  \n",
       "4       0.751004    0.456530          0.211553     -0.629524  "
      ]
     },
     "execution_count": 30,
     "metadata": {},
     "output_type": "execute_result"
    }
   ],
   "source": [
    "from sklearn.preprocessing import StandardScaler\n",
    "\n",
    "raw_data_scaled = raw_data.copy() #복사본으로 똑같은 형태 생성\n",
    "\n",
    "# name, fertility rate(target) 제외하고 scaling하기 위해 정의\n",
    "I = ['GDP','obesity_rate','sex_ratio','literacy_rate','healthcare','dependency_ratio','female_labor']\n",
    "\n",
    "# data scaling\n",
    "scaler = StandardScaler()\n",
    "raw_data_scaled[I] = scaler.fit_transform(raw_data[I]) \n",
    "\n",
    "raw_data_scaled.head()"
   ]
  },
  {
   "cell_type": "markdown",
   "id": "74095581-7e94-4166-b09f-24a3b3ba1187",
   "metadata": {},
   "source": [
    "### - Check multicollinearity"
   ]
  },
  {
   "cell_type": "markdown",
   "id": "c3720a42-9581-4607-8eab-84e2ce1c3dcc",
   "metadata": {},
   "source": [
    "독립변수들 간 corr 확인"
   ]
  },
  {
   "cell_type": "code",
   "execution_count": 31,
   "id": "adf14a8a-5874-4dc7-b6e2-e05e6ebf7eac",
   "metadata": {},
   "outputs": [
    {
     "data": {
      "image/png": "[encoded data removed]",
      "text/plain": [
       "<Figure size 400x300 with 2 Axes>"
      ]
     },
     "metadata": {},
     "output_type": "display_data"
    }
   ],
   "source": [
    "# 경제적 요인 이외의 요인을 분석하기 위해 GDP를 제외한 6개 attribute만 사용 \n",
    "I = ['obesity_rate','sex_ratio','literacy_rate','healthcare','dependency_ratio','female_labor']\n",
    "\n",
    "# heatmap으로 6개 attribute간 상관계수 시각화\n",
    "plt.figure(figsize=(4,3))\n",
    "sns.heatmap(raw_data_scaled[I].corr(numeric_only = True), annot=True)\n",
    "plt.show()"
   ]
  },
  {
   "cell_type": "markdown",
   "id": "4a5d38a1-2a08-47cf-8efb-e62edb0a7bef",
   "metadata": {},
   "source": [
    "특정 attribute 간에 상관관계가 크게 나타나며, 특히 literacy_rate, healthcare의 상관관계가 0.79로 상당히 높은 것을 알 수 있다."
   ]
  },
  {
   "cell_type": "markdown",
   "id": "4fa74407-0cbc-4a81-b630-9a9cafaa1537",
   "metadata": {},
   "source": [
    "독립변수들 간 VIF 확인"
   ]
  },
  {
   "cell_type": "code",
   "execution_count": 32,
   "id": "63f6fa35-ec12-4281-8c5b-07d207663395",
   "metadata": {},
   "outputs": [
    {
     "name": "stdout",
     "output_type": "stream",
     "text": [
      "VIF(healthcare): 3.7747646023239683\n",
      "VIF(literacy_rate): 3.0823847973809757\n",
      "VIF(dependency_ratio): 2.497304280619069\n",
      "VIF(obesity_rate): 2.024359728529609\n",
      "VIF(sex_ratio): 1.6546611036222618\n",
      "VIF(female_labor): 1.1414581762572789\n"
     ]
    }
   ],
   "source": [
    "import statsmodels.api as sm\n",
    "from statsmodels.stats.outliers_influence import variance_inflation_factor\n",
    "\n",
    "VIF_L = []\n",
    "\n",
    "for i in range(6):\n",
    "    VIF_L.append((f\"VIF({I[i]}): {variance_inflation_factor(raw_data_scaled[I], i)}\", variance_inflation_factor(raw_data_scaled[I], i)))\n",
    "\n",
    "VIF_L = sorted(VIF_L, key=lambda x: x[1], reverse=True)\n",
    "\n",
    "for item in VIF_L: print(item[0])"
   ]
  },
  {
   "cell_type": "markdown",
   "id": "df5e833c-55b8-4c2e-b757-85ed6bb0221c",
   "metadata": {},
   "source": [
    "literacy_rate, healthcare의 VIF 모두 10을 넘지는 않지만 상대적으로 높은 편이고, 상관관계가 높은 편이므로 2개를 PCA로 합쳐서 다중공선성 문제를 해결하려 한다. 합치기 전에 두 attribute가 얼마나 비슷한 분포를 가지는지 plot를 통해 확인해보았다."
   ]
  },
  {
   "cell_type": "markdown",
   "id": "25953b10-b566-4892-a15d-2d26416f3ca5",
   "metadata": {},
   "source": [
    "<a id='링크1'></a>\n",
    "서로 상관계수가 높은 healthcare, literacy_rate 분포를 plot으로 확인"
   ]
  },
  {
   "cell_type": "code",
   "execution_count": 33,
   "id": "f17e49cb-186d-43f8-8ae2-fe1b1661966e",
   "metadata": {},
   "outputs": [
    {
     "data": {
      "image/png": "[encoded data removed]",
      "text/plain": [
       "<Figure size 800x400 with 2 Axes>"
      ]
     },
     "metadata": {},
     "output_type": "display_data"
    }
   ],
   "source": [
    "D = ['healthcare','literacy_rate']\n",
    "\n",
    "fig, (ax1, ax2) = plt.subplots(1, 2, figsize=(8, 4))\n",
    "plt.suptitle('Similarity of healthcare, literacy_rate')\n",
    "\n",
    "i = 0\n",
    "for ax in (ax1, ax2):\n",
    "    ax.scatter(raw_data[[D[i]]], raw_data['Fertility_rate'])\n",
    "    ax.set_xlabel(f'{D[i]}')\n",
    "    ax.set_ylabel('Fertility_rate')\n",
    "    plt.xticks(range(0, 101, 20))\n",
    "    plt.yticks(range(0, 10, 10))\n",
    "    i = i+1"
   ]
  },
  {
   "cell_type": "markdown",
   "id": "80401c4e-a898-4bec-8d50-6d37a83c769b",
   "metadata": {},
   "source": [
    "plot 결과 두 attribute 모두 target인 출산율과 반비례 관계를 보이며, 분포가 매우 유사하다는 것을 알 수 있다."
   ]
  },
  {
   "cell_type": "markdown",
   "id": "8e371561-5def-4b1a-bad6-8c4f2eb67266",
   "metadata": {},
   "source": [
    "### - PCA"
   ]
  },
  {
   "cell_type": "markdown",
   "id": "1864ebb0-8f65-4da3-a87b-a4f847297c71",
   "metadata": {},
   "source": [
    "PCA를 적용하여 healthcare, literacy_rate을 하나의 attribute인 literacy_healthcare로 만들었다."
   ]
  },
  {
   "cell_type": "code",
   "execution_count": 34,
   "id": "ff3a6c0a-857b-4a60-b6f5-81c64dc02f8d",
   "metadata": {},
   "outputs": [
    {
     "data": {
      "text/html": [
       "<div>\n",
       "<style scoped>\n",
       "    .dataframe tbody tr th:only-of-type {\n",
       "        vertical-align: middle;\n",
       "    }\n",
       "\n",
       "    .dataframe tbody tr th {\n",
       "        vertical-align: top;\n",
       "    }\n",
       "\n",
       "    .dataframe thead th {\n",
       "        text-align: right;\n",
       "    }\n",
       "</style>\n",
       "<table border=\"1\" class=\"dataframe\">\n",
       "  <thead>\n",
       "    <tr style=\"text-align: right;\">\n",
       "      <th></th>\n",
       "      <th>Name</th>\n",
       "      <th>Fertility_rate</th>\n",
       "      <th>GDP</th>\n",
       "      <th>obesity_rate</th>\n",
       "      <th>sex_ratio</th>\n",
       "      <th>literacy_rate</th>\n",
       "      <th>healthcare</th>\n",
       "      <th>dependency_ratio</th>\n",
       "      <th>female_labor</th>\n",
       "      <th>literacy_healthcare</th>\n",
       "    </tr>\n",
       "  </thead>\n",
       "  <tbody>\n",
       "    <tr>\n",
       "      <th>0</th>\n",
       "      <td>Angola</td>\n",
       "      <td>5.30</td>\n",
       "      <td>-0.621446</td>\n",
       "      <td>-0.858918</td>\n",
       "      <td>-0.195551</td>\n",
       "      <td>-0.790655</td>\n",
       "      <td>-1.780959</td>\n",
       "      <td>-1.012930</td>\n",
       "      <td>1.602023</td>\n",
       "      <td>1.818405</td>\n",
       "    </tr>\n",
       "    <tr>\n",
       "      <th>1</th>\n",
       "      <td>Albania</td>\n",
       "      <td>1.39</td>\n",
       "      <td>-0.476198</td>\n",
       "      <td>-0.047408</td>\n",
       "      <td>-0.135495</td>\n",
       "      <td>0.675911</td>\n",
       "      <td>0.391810</td>\n",
       "      <td>0.589241</td>\n",
       "      <td>-0.054354</td>\n",
       "      <td>-0.754992</td>\n",
       "    </tr>\n",
       "    <tr>\n",
       "      <th>2</th>\n",
       "      <td>United Arab Emirates</td>\n",
       "      <td>1.46</td>\n",
       "      <td>1.401775</td>\n",
       "      <td>2.101996</td>\n",
       "      <td>5.945477</td>\n",
       "      <td>0.657978</td>\n",
       "      <td>0.761642</td>\n",
       "      <td>-1.266877</td>\n",
       "      <td>-0.352986</td>\n",
       "      <td>-1.003823</td>\n",
       "    </tr>\n",
       "    <tr>\n",
       "      <th>3</th>\n",
       "      <td>Argentina</td>\n",
       "      <td>1.88</td>\n",
       "      <td>-0.186779</td>\n",
       "      <td>0.906664</td>\n",
       "      <td>-0.181926</td>\n",
       "      <td>0.655736</td>\n",
       "      <td>0.706167</td>\n",
       "      <td>0.229099</td>\n",
       "      <td>-0.105670</td>\n",
       "      <td>-0.963011</td>\n",
       "    </tr>\n",
       "    <tr>\n",
       "      <th>4</th>\n",
       "      <td>Armenia</td>\n",
       "      <td>1.58</td>\n",
       "      <td>-0.461410</td>\n",
       "      <td>0.160952</td>\n",
       "      <td>-0.983118</td>\n",
       "      <td>0.751004</td>\n",
       "      <td>0.456530</td>\n",
       "      <td>0.211553</td>\n",
       "      <td>-0.629524</td>\n",
       "      <td>-0.853856</td>\n",
       "    </tr>\n",
       "  </tbody>\n",
       "</table>\n",
       "</div>"
      ],
      "text/plain": [
       "                   Name  Fertility_rate       GDP  obesity_rate  sex_ratio  \\\n",
       "0                Angola            5.30 -0.621446     -0.858918  -0.195551   \n",
       "1               Albania            1.39 -0.476198     -0.047408  -0.135495   \n",
       "2  United Arab Emirates            1.46  1.401775      2.101996   5.945477   \n",
       "3             Argentina            1.88 -0.186779      0.906664  -0.181926   \n",
       "4               Armenia            1.58 -0.461410      0.160952  -0.983118   \n",
       "\n",
       "   literacy_rate  healthcare  dependency_ratio  female_labor  \\\n",
       "0      -0.790655   -1.780959         -1.012930      1.602023   \n",
       "1       0.675911    0.391810          0.589241     -0.054354   \n",
       "2       0.657978    0.761642         -1.266877     -0.352986   \n",
       "3       0.655736    0.706167          0.229099     -0.105670   \n",
       "4       0.751004    0.456530          0.211553     -0.629524   \n",
       "\n",
       "   literacy_healthcare  \n",
       "0             1.818405  \n",
       "1            -0.754992  \n",
       "2            -1.003823  \n",
       "3            -0.963011  \n",
       "4            -0.853856  "
      ]
     },
     "execution_count": 34,
     "metadata": {},
     "output_type": "execute_result"
    }
   ],
   "source": [
    "from sklearn.decomposition import PCA\n",
    "\n",
    "pca = PCA(n_components=1)\n",
    "raw_data_scaled['literacy_healthcare'] = pca.fit_transform(raw_data_scaled[['literacy_rate','healthcare']])\n",
    "\n",
    "raw_data_scaled.head()"
   ]
  },
  {
   "cell_type": "code",
   "execution_count": 35,
   "id": "c53ce941-1d4a-41f4-a2cd-a931e6d7cb71",
   "metadata": {},
   "outputs": [
    {
     "name": "stdout",
     "output_type": "stream",
     "text": [
      "explained variance ratio : [0.89533955]\n"
     ]
    }
   ],
   "source": [
    "# explained variance ratio 확인\n",
    "print('explained variance ratio :', pca.explained_variance_ratio_)"
   ]
  },
  {
   "cell_type": "markdown",
   "id": "c76af6aa-3325-47f1-9e22-1d85389fe34d",
   "metadata": {},
   "source": [
    "explained variance ratio 확인 결과 기존 attribute의 약 89%의 variance를 가지고 있기 때문에 PCA가 꽤 잘 되었다고 볼 수 있다."
   ]
  },
  {
   "cell_type": "markdown",
   "id": "53074abd-5e6d-4449-8fdb-d368a8d5dd90",
   "metadata": {},
   "source": [
    "PCA 이후 독립변수 간 corr 재확인"
   ]
  },
  {
   "cell_type": "code",
   "execution_count": 36,
   "id": "38c63454-0cde-4421-b2f6-de8d2fc8ba62",
   "metadata": {},
   "outputs": [
    {
     "data": {
      "image/png": "[encoded data removed]",
      "text/plain": [
       "<Figure size 400x300 with 2 Axes>"
      ]
     },
     "metadata": {},
     "output_type": "display_data"
    }
   ],
   "source": [
    "# 'literacy_rate','healthcare'가 하나의 attribute 'literacy_healthcare'로 줄어들었음\n",
    "I = ['obesity_rate','sex_ratio','dependency_ratio','female_labor', 'literacy_healthcare']\n",
    "\n",
    "plt.figure(figsize=(4,3))\n",
    "sns.heatmap(raw_data_scaled[I].corr(numeric_only = True), annot=True)\n",
    "plt.show()"
   ]
  },
  {
   "cell_type": "markdown",
   "id": "f402ed39-ec27-494d-bcd3-7555e2d8c61d",
   "metadata": {},
   "source": [
    "확실히 가장 높은 상관계수가 0.79였던 기존에 비해 PCA 이후 attribute간 상관관계가 줄었음을 알 수 있다."
   ]
  },
  {
   "cell_type": "markdown",
   "id": "d813d753-97c5-49ad-909c-46c67c7c3b29",
   "metadata": {},
   "source": [
    "data split"
   ]
  },
  {
   "cell_type": "code",
   "execution_count": 37,
   "id": "48775583-ad69-4e84-ae6d-0b6efcd2e895",
   "metadata": {},
   "outputs": [
    {
     "name": "stdout",
     "output_type": "stream",
     "text": [
      "(104, 5) (26, 5) (104,) (26,)\n"
     ]
    }
   ],
   "source": [
    "from sklearn.model_selection import train_test_split\n",
    "\n",
    "# 여기서 target인 Fertility_rate는 scaling되지 않았음\n",
    "X_train, X_test, y_train, y_test = train_test_split(raw_data_scaled[I], raw_data['Fertility_rate'], test_size=0.2, random_state=3)\n",
    "\n",
    "print(X_train.shape, X_test.shape, y_train.shape, y_test.shape)"
   ]
  },
  {
   "cell_type": "markdown",
   "id": "2d72873e-6a60-43b0-a833-b4f54b107fb4",
   "metadata": {},
   "source": [
    "### - Using various models"
   ]
  },
  {
   "cell_type": "markdown",
   "id": "9e18df00-a92f-4694-aa1b-dd56ce55d50d",
   "metadata": {},
   "source": [
    "7개의 모델(LinearRegression, Ridge, Lasso, VotingRegressor, BaggingRegressor, AdaBoostRegressor, GradientBoostingRegressor)를 통해 5개의 독립변수로 출산율을 얼마나 잘 예측할 수 있는지 확인해보고자 한다."
   ]
  },
  {
   "cell_type": "code",
   "execution_count": 38,
   "id": "cfbd546c-9bd1-46ea-8fa5-894b1315d068",
   "metadata": {},
   "outputs": [],
   "source": [
    "from sklearn.linear_model import LinearRegression\n",
    "from sklearn.linear_model import Ridge\n",
    "from sklearn.linear_model import Lasso\n",
    "from sklearn.ensemble import VotingRegressor\n",
    "from sklearn.ensemble import BaggingRegressor\n",
    "from sklearn.ensemble import AdaBoostRegressor\n",
    "from sklearn.ensemble import GradientBoostingRegressor\n",
    "\n",
    "from sklearn.metrics import mean_absolute_error\n",
    "from sklearn.metrics import mean_squared_error\n",
    "from sklearn.metrics import r2_score"
   ]
  },
  {
   "cell_type": "code",
   "execution_count": 39,
   "id": "557702a8-f6a8-4c6c-af86-b541ccfe2584",
   "metadata": {},
   "outputs": [],
   "source": [
    "# 사용할 7가지 모델 초기화\n",
    "linear = LinearRegression()\n",
    "ridge = Ridge(alpha=0.1)\n",
    "lasso = Lasso(alpha=0.1)\n",
    "voting = VotingRegressor([('first', linear), ('second', ridge), ('third', lasso)])\n",
    "bagging = BaggingRegressor(linear, n_estimators=1, max_samples=1.0, bootstrap=True, random_state=0)\n",
    "adaboost = AdaBoostRegressor(random_state=0)\n",
    "gradient = GradientBoostingRegressor(random_state=0)"
   ]
  },
  {
   "cell_type": "markdown",
   "id": "b0414f95-ecdb-4d66-a267-2b566f2afa67",
   "metadata": {},
   "source": [
    "R2를 기준으로 결과를 정렬하여 모델별 성능을 확인하였다. coef의 경우에는 존재하는 모델들은 attribute별 중요도를 보기 위해서 포함했고, coef가 존재하지 않는 모델들은 'No coef'로 표시하였다."
   ]
  },
  {
   "cell_type": "code",
   "execution_count": 40,
   "id": "96de87b7-0ffc-4f4c-889a-953469b9d779",
   "metadata": {},
   "outputs": [
    {
     "data": {
      "text/html": [
       "<div>\n",
       "<style scoped>\n",
       "    .dataframe tbody tr th:only-of-type {\n",
       "        vertical-align: middle;\n",
       "    }\n",
       "\n",
       "    .dataframe tbody tr th {\n",
       "        vertical-align: top;\n",
       "    }\n",
       "\n",
       "    .dataframe thead th {\n",
       "        text-align: right;\n",
       "    }\n",
       "</style>\n",
       "<table border=\"1\" class=\"dataframe\">\n",
       "  <thead>\n",
       "    <tr style=\"text-align: right;\">\n",
       "      <th></th>\n",
       "      <th>name</th>\n",
       "      <th>R2</th>\n",
       "      <th>MAE</th>\n",
       "      <th>MSE</th>\n",
       "      <th>RMSE</th>\n",
       "      <th>coef</th>\n",
       "    </tr>\n",
       "  </thead>\n",
       "  <tbody>\n",
       "    <tr>\n",
       "      <th>0</th>\n",
       "      <td>adaboost</td>\n",
       "      <td>0.9109</td>\n",
       "      <td>0.3650</td>\n",
       "      <td>0.1915</td>\n",
       "      <td>0.4376</td>\n",
       "      <td>No coef</td>\n",
       "    </tr>\n",
       "    <tr>\n",
       "      <th>1</th>\n",
       "      <td>gradient</td>\n",
       "      <td>0.9022</td>\n",
       "      <td>0.3789</td>\n",
       "      <td>0.2103</td>\n",
       "      <td>0.4586</td>\n",
       "      <td>No coef</td>\n",
       "    </tr>\n",
       "    <tr>\n",
       "      <th>2</th>\n",
       "      <td>linear</td>\n",
       "      <td>0.8238</td>\n",
       "      <td>0.5041</td>\n",
       "      <td>0.3787</td>\n",
       "      <td>0.6154</td>\n",
       "      <td>[-0.0557, -0.0431, -0.2599, 0.0584, 0.6215]</td>\n",
       "    </tr>\n",
       "    <tr>\n",
       "      <th>3</th>\n",
       "      <td>ridge</td>\n",
       "      <td>0.8237</td>\n",
       "      <td>0.5042</td>\n",
       "      <td>0.3790</td>\n",
       "      <td>0.6156</td>\n",
       "      <td>[-0.056, -0.043, -0.26, 0.0584, 0.621]</td>\n",
       "    </tr>\n",
       "    <tr>\n",
       "      <th>4</th>\n",
       "      <td>voting</td>\n",
       "      <td>0.8088</td>\n",
       "      <td>0.5282</td>\n",
       "      <td>0.4110</td>\n",
       "      <td>0.6411</td>\n",
       "      <td>No coef</td>\n",
       "    </tr>\n",
       "    <tr>\n",
       "      <th>5</th>\n",
       "      <td>bagging</td>\n",
       "      <td>0.8013</td>\n",
       "      <td>0.5478</td>\n",
       "      <td>0.4272</td>\n",
       "      <td>0.6536</td>\n",
       "      <td>No coef</td>\n",
       "    </tr>\n",
       "    <tr>\n",
       "      <th>6</th>\n",
       "      <td>lasso</td>\n",
       "      <td>0.7735</td>\n",
       "      <td>0.5791</td>\n",
       "      <td>0.4870</td>\n",
       "      <td>0.6979</td>\n",
       "      <td>[-0.0, -0.0, -0.1275, 0.0, 0.6617]</td>\n",
       "    </tr>\n",
       "  </tbody>\n",
       "</table>\n",
       "</div>"
      ],
      "text/plain": [
       "       name      R2     MAE     MSE    RMSE  \\\n",
       "0  adaboost  0.9109  0.3650  0.1915  0.4376   \n",
       "1  gradient  0.9022  0.3789  0.2103  0.4586   \n",
       "2    linear  0.8238  0.5041  0.3787  0.6154   \n",
       "3     ridge  0.8237  0.5042  0.3790  0.6156   \n",
       "4    voting  0.8088  0.5282  0.4110  0.6411   \n",
       "5   bagging  0.8013  0.5478  0.4272  0.6536   \n",
       "6     lasso  0.7735  0.5791  0.4870  0.6979   \n",
       "\n",
       "                                          coef  \n",
       "0                                      No coef  \n",
       "1                                      No coef  \n",
       "2  [-0.0557, -0.0431, -0.2599, 0.0584, 0.6215]  \n",
       "3       [-0.056, -0.043, -0.26, 0.0584, 0.621]  \n",
       "4                                      No coef  \n",
       "5                                      No coef  \n",
       "6           [-0.0, -0.0, -0.1275, 0.0, 0.6617]  "
      ]
     },
     "execution_count": 40,
     "metadata": {},
     "output_type": "execute_result"
    }
   ],
   "source": [
    "name = ['linear','ridge','lasso','voting','bagging','adaboost','gradient']\n",
    "MAE = []\n",
    "MSE = []\n",
    "RMSE = []\n",
    "R2 = []\n",
    "coef = []\n",
    "\n",
    "for i, model in enumerate([linear, ridge, lasso, voting, bagging, adaboost, gradient]):\n",
    "    \n",
    "    # model fitting\n",
    "    model.fit(X_train, y_train)\n",
    "    y_pred = model.predict(X_test)\n",
    "    \n",
    "    # 7개 model에 대해 MAE, MSE, RMSE, R2 계산\n",
    "    MAE.append(np.round(mean_absolute_error(y_test, y_pred), 4))\n",
    "    MSE.append(np.round(mean_squared_error(y_test, y_pred), 4))\n",
    "    RMSE.append(np.round(mean_squared_error(y_test, y_pred, squared=False), 4))\n",
    "    R2.append(np.round(r2_score(y_test, y_pred), 4))\n",
    "    \n",
    "    # coef 존재하는 model에 대해서 coef 계산\n",
    "    try: coef.append(np.round(model.coef_, 4))\n",
    "    except: coef.append(\"No coef\")\n",
    "\n",
    "# 결과 정리를 위한 dataframe 생성\n",
    "results = pd.DataFrame({'name': name, 'R2': R2, 'MAE': MAE, 'MSE': MSE, 'RMSE': RMSE, 'coef': coef}) \n",
    "results = results.sort_values('R2', ascending = False)\n",
    "results = results.reset_index(drop = True)\n",
    "results"
   ]
  },
  {
   "cell_type": "markdown",
   "id": "2fd4c42f-b758-42e1-bfbb-6d134322f739",
   "metadata": {},
   "source": [
    "### - 결과 시각화, 결론"
   ]
  },
  {
   "cell_type": "markdown",
   "id": "a30b46c6-18c5-475c-9ce9-c560aede3c39",
   "metadata": {},
   "source": [
    "모델별 R2 시각화"
   ]
  },
  {
   "cell_type": "code",
   "execution_count": 41,
   "id": "556d3cf7-6857-496c-a089-b8cfe62a19e1",
   "metadata": {},
   "outputs": [
    {
     "data": {
      "image/png": "[encoded data removed]",
      "text/plain": [
       "<Figure size 640x480 with 1 Axes>"
      ]
     },
     "metadata": {},
     "output_type": "display_data"
    }
   ],
   "source": [
    "x = np.arange(len(results))\n",
    "y = results['R2']\n",
    "plt.bar(x, y)\n",
    "plt.ylabel('R2')\n",
    "plt.xticks(x, results['name'])\n",
    "plt.show()"
   ]
  },
  {
   "cell_type": "markdown",
   "id": "9dbeabcb-5349-4483-a375-20020f540ff4",
   "metadata": {},
   "source": [
    "시각화 결과 AdaBoostRegressor와 GradientBoostingRegressor의 R2 score가 모두 0.9를 넘어가면서 가장 우수한 성능을 보였으며, 나머지 5개의 모델들은 서로 비슷한 성능을 보였다."
   ]
  },
  {
   "cell_type": "markdown",
   "id": "32a7e28c-c884-41d8-aaa9-81e03d616ae9",
   "metadata": {},
   "source": [
    "다음으로는 coef가 존재하는 모델들(linear, ridge, lasso)들의 coef의 평균을 시각화하여 Feature importance를 확인하고, 이를 통해 출산율과 가장 관련 있는 feature들을 고르기로 했다."
   ]
  },
  {
   "cell_type": "code",
   "execution_count": 42,
   "id": "97f6589d-62ce-426a-a841-4e1b349e539d",
   "metadata": {},
   "outputs": [
    {
     "data": {
      "image/png": "[encoded data removed]",
      "text/plain": [
       "<Figure size 900x500 with 1 Axes>"
      ]
     },
     "metadata": {},
     "output_type": "display_data"
    }
   ],
   "source": [
    "x = np.arange(5)\n",
    "i = [i for i, x in enumerate(results['coef']) if str(x) != 'No coef']\n",
    "y = pd.Series((abs(results['coef'][i[0]]) + abs(results['coef'][i[1]]) + abs(results['coef'][i[2]]))/3)\n",
    "plt.figure(figsize=(9,5))\n",
    "plt.bar(x, y)\n",
    "plt.ylabel('Importance')\n",
    "plt.xticks(x, I)\n",
    "plt.show()"
   ]
  },
  {
   "cell_type": "markdown",
   "id": "d6a271d3-39c8-4cbf-a0da-fe909cb85114",
   "metadata": {},
   "source": [
    "결론"
   ]
  },
  {
   "cell_type": "markdown",
   "id": "ba99cab1-9c49-4b84-8d0c-6e5f4cbaaf91",
   "metadata": {},
   "source": [
    "<a id='링크2'></a>\n",
    "\n",
    "출산율과 가장 관련 있는 feature는 literacy_healthcare(PCA), dependency_ratio이다. \n",
    "\n",
    "이 feature들 중 PCA로 결합한 2개의 특성 healthcare과 literacy_rate는 출산율과 반비례한다는 것을 앞서 ([링크1](#링크1))을 통해 확인했다. 추가 조사 결과, 이 두 feature가 서로 상관관계가 높은 이유는 좋은 의료 수준(healthcare)과 높은 문해율(literacy_rate)은 모두 선진국에서 나타나는 현상이기 때문이라고 볼 수 있다. 다음의 자료는 선진국에서 오히려 출산율이 낮게 나올 수 있는 이유들을 제시한다.\n",
    "\n",
    "https://www.stlouisfed.org/on-the-economy/2016/december/link-fertility-income\n",
    "\n",
    "1. 선진국은 어른들이 경제 활동 등을 하는 데 더 많은 시간을 쓰기 때문에 아이를 낳고 기를 시간이 부족할 수 있다.\n",
    "\n",
    "2. 선진국은 질 높은 교육 등을 위해 돈이 많이 필요해서 출산을 적게 하게 될 수도 있다.\n",
    "\n",
    "3. 선진국은 의료시설, 복지 등이 잘되어 있어 굳이 자식들이 부모를 부양할 필요가 적을 수 있다.\n",
    "\n",
    "이것은 사회적 경향성이기 때문에 출산율을 높이기 위해 의료 수준이나 문해율을 낮추자는 접근은 잘못된 접근이라고 할 수 있다. 다만 출산율에 걸림돌이 될 수 있는 '경제 활동 등을 하는 데 더 많은 시간을 쓰기 때문에 아이를 낳고 기를 시간이 부족할 수 있다' 등의 특징은 눈여겨볼 필요가 있다.\n",
    "\n",
    "다음으로 두번째로 출산율과 관련 있는 dependency_ratio를 보자. "
   ]
  },
  {
   "cell_type": "code",
   "execution_count": 43,
   "id": "0fd39131-4b97-4b18-94c2-dd96082c0551",
   "metadata": {},
   "outputs": [
    {
     "data": {
      "image/png": "[encoded data removed]",
      "text/plain": [
       "<Figure size 300x300 with 1 Axes>"
      ]
     },
     "metadata": {},
     "output_type": "display_data"
    }
   ],
   "source": [
    "plt.figure(figsize=(3,3))\n",
    "plt.scatter(raw_data['dependency_ratio'], raw_data['Fertility_rate'])\n",
    "plt.xlabel('dependency_ratio')\n",
    "plt.ylabel('Fertility_rate')\n",
    "plt.show()"
   ]
  },
  {
   "cell_type": "markdown",
   "id": "299d70b3-4e9c-4502-b9e5-4cb440b53c62",
   "metadata": {},
   "source": [
    "부양비, 즉 경제활동인구의 비율이 적을수록 출산율이 높다는 것을 알 수 있다. 즉, 경제활동인구도 아이를 낳고 기르는 부담을 줄일 수 있다면 출산율을 높일 수 있을 것이다. 선진국의 특징 중 앞서 주목해야 한다고 언급했던 \"경제 활동 등을 하는 데 더 많은 시간을 쓰기 때문에 아이를 낳고 기를 시간이 부족할 수 있다\"는 특징과 같은 맥락이다. 경제활동인구의 부담을 줄이기 위해 육아 휴직 제도의 적용을 확대하거나, 일을 하면서도 아이를 맡길 수 있는 아동 복지센터를 늘리는 등의 정책을 시행하면 저출산 문제를 효과적으로 해결할 수 있을 것이다."
   ]
  },
  {
   "cell_type": "markdown",
   "id": "d5197d43-b674-4a37-9508-9f74b0c1ac15",
   "metadata": {
    "tags": []
   },
   "source": [
    "# [2. Clustering]"
   ]
  },
  {
   "cell_type": "markdown",
   "id": "1e012522-fbad-47bd-bd3f-7ebd96baa1b5",
   "metadata": {},
   "source": [
    "2. Unsupervised Learning - 한국과 비슷한 상황에 놓여있는 국가들은 어떤 정책을 시행하고 있을까?\n",
    "\n",
    " - 사용 기법: k-means\n",
    "\n",
    " - 개요: 1번 가설에서 출산율과 가장 연관있는 2개의 factor들을 찾아, 그 factor에 대해 클러스터링(k-means)을 할 계획이다. 클러스터링을 통해 현재 한국과 유사한 상황에 놓여있는 국가들의 군집을 찾고, 그 군집 중에서도 한국과 상황이 가장 비슷한 5개국 정도를 찾을 것이다. 한국과 가장 유사한 5개국이 저출산을 해결하기 위해 어떤 정책들을 시행하고 있는지 참고하면, 한국의 실정에 맞는 해결책을 찾기 위한 영감을 찾을 수 있을 것이다."
   ]
  },
  {
   "cell_type": "markdown",
   "id": "6e893fb1-8c6d-4527-a5de-931ecd5dd5e0",
   "metadata": {},
   "source": [
    "1번 가설에서 출산율과 가장 관련 있었던 feature인 healthcare, dependency_ratio를 기준으로 클러스터링을 하여 한국과 가장 유사한 국가들을 찾아보기로 하였다. (literacy_rate는 healthcare과 상관관계가 높아서 healthcare만 선택하였다.)"
   ]
  },
  {
   "cell_type": "code",
   "execution_count": 44,
   "id": "82b816c0-91b1-43bc-b9d5-1908c0943f4b",
   "metadata": {},
   "outputs": [],
   "source": [
    "import warnings\n",
    "warnings.filterwarnings(action='ignore')"
   ]
  },
  {
   "cell_type": "code",
   "execution_count": 45,
   "id": "4dcebe31-ac94-4657-be48-5a238f09f35c",
   "metadata": {},
   "outputs": [
    {
     "data": {
      "text/html": [
       "<div>\n",
       "<style scoped>\n",
       "    .dataframe tbody tr th:only-of-type {\n",
       "        vertical-align: middle;\n",
       "    }\n",
       "\n",
       "    .dataframe tbody tr th {\n",
       "        vertical-align: top;\n",
       "    }\n",
       "\n",
       "    .dataframe thead th {\n",
       "        text-align: right;\n",
       "    }\n",
       "</style>\n",
       "<table border=\"1\" class=\"dataframe\">\n",
       "  <thead>\n",
       "    <tr style=\"text-align: right;\">\n",
       "      <th></th>\n",
       "      <th>Name</th>\n",
       "      <th>healthcare</th>\n",
       "      <th>dependency_ratio</th>\n",
       "    </tr>\n",
       "  </thead>\n",
       "  <tbody>\n",
       "    <tr>\n",
       "      <th>0</th>\n",
       "      <td>Angola</td>\n",
       "      <td>-1.780959</td>\n",
       "      <td>-1.012930</td>\n",
       "    </tr>\n",
       "    <tr>\n",
       "      <th>1</th>\n",
       "      <td>Albania</td>\n",
       "      <td>0.391810</td>\n",
       "      <td>0.589241</td>\n",
       "    </tr>\n",
       "    <tr>\n",
       "      <th>2</th>\n",
       "      <td>United Arab Emirates</td>\n",
       "      <td>0.761642</td>\n",
       "      <td>-1.266877</td>\n",
       "    </tr>\n",
       "  </tbody>\n",
       "</table>\n",
       "</div>"
      ],
      "text/plain": [
       "                   Name  healthcare  dependency_ratio\n",
       "0                Angola   -1.780959         -1.012930\n",
       "1               Albania    0.391810          0.589241\n",
       "2  United Arab Emirates    0.761642         -1.266877"
      ]
     },
     "execution_count": 45,
     "metadata": {},
     "output_type": "execute_result"
    }
   ],
   "source": [
    "raw_data_scaled[['Name', 'healthcare', 'dependency_ratio']].head(3)"
   ]
  },
  {
   "cell_type": "markdown",
   "id": "db309742-92b4-43da-b3e8-ef1b4c95c02c",
   "metadata": {},
   "source": [
    "### - silhouette score"
   ]
  },
  {
   "cell_type": "markdown",
   "id": "927104fa-7cfc-4620-8304-cd56b557de67",
   "metadata": {},
   "source": [
    "silhouette score 확인 결과, 클러스터 수가 3개일 때 점수가 가장 높았다."
   ]
  },
  {
   "cell_type": "code",
   "execution_count": 46,
   "id": "c5f04d2c-a78a-4e4d-9bf3-4c37e3639b6c",
   "metadata": {},
   "outputs": [
    {
     "name": "stdout",
     "output_type": "stream",
     "text": [
      "2 Clusters: 0.529\n",
      "3 Clusters: 0.54\n",
      "4 Clusters: 0.476\n",
      "5 Clusters: 0.459\n"
     ]
    }
   ],
   "source": [
    "from sklearn.cluster import KMeans\n",
    "from sklearn.metrics import silhouette_score\n",
    "\n",
    "# 클러스터 수가 2, 3, 4, 5개일 때 각각 silhouette score 계산\n",
    "for i in [2,3,4,5]:\n",
    "    kmeans = KMeans(n_clusters=i, n_init = 5, random_state=0)\n",
    "    score = silhouette_score(raw_data_scaled[['dependency_ratio', 'healthcare']], kmeans.fit_predict(raw_data_scaled[['dependency_ratio', 'healthcare']]))\n",
    "    print(f\"{i} Clusters:\", round(score, 3))"
   ]
  },
  {
   "cell_type": "markdown",
   "id": "5842fdb0-28d9-40c0-9f37-f62617b88c58",
   "metadata": {},
   "source": [
    "### - k means"
   ]
  },
  {
   "cell_type": "markdown",
   "id": "47c8efe6-6f02-445c-a240-99c52d0228f4",
   "metadata": {},
   "source": [
    "클러스터 수를 3개로 하여 k means 클러스터링을 진행하고, 결과를 확인하였다."
   ]
  },
  {
   "cell_type": "code",
   "execution_count": 47,
   "id": "68a8311f-b5af-4359-9eff-becaf9d762b9",
   "metadata": {},
   "outputs": [],
   "source": [
    "kmeans = KMeans(n_clusters=3, verbose=0, n_init=5, random_state=0)\n",
    "kmeans.fit(raw_data_scaled[['dependency_ratio', 'healthcare']])\n",
    "raw_data_scaled['cluster'] = kmeans.predict(raw_data_scaled[['dependency_ratio', 'healthcare']])"
   ]
  },
  {
   "cell_type": "code",
   "execution_count": 48,
   "id": "88c8a52f-2000-4395-9bf8-63ecde8f2ffe",
   "metadata": {},
   "outputs": [
    {
     "name": "stdout",
     "output_type": "stream",
     "text": [
      "- Cluster_centers:\n",
      "\tcenter x and y: -0.51 0.21\n",
      "\tcenter x and y: 1.24 0.83\n",
      "\tcenter x and y: -0.89 -1.45\n",
      "- Labels: [0 1 2]\n",
      "- inertia: 48.43657129424603\n"
     ]
    }
   ],
   "source": [
    "# 군집 중심, 군집 레이블, inertia값 확인\n",
    "print(\"- Cluster_centers:\")\n",
    "for x, y in kmeans.cluster_centers_:\n",
    "    print(\"\\tcenter x and y:\", round(x,2), round(y,2))\n",
    "print(\"- Labels:\", np.unique(kmeans.labels_))\n",
    "print(\"- inertia:\", kmeans.inertia_) # 최소 inertia"
   ]
  },
  {
   "cell_type": "markdown",
   "id": "41d74bed-1e01-4fc5-8ce0-9dae5a6b0bcc",
   "metadata": {},
   "source": [
    "### - 결과 시각화, 결론"
   ]
  },
  {
   "cell_type": "code",
   "execution_count": 49,
   "id": "ba3e6cbf-e2d2-4c5c-bf7b-3de9a293aee9",
   "metadata": {},
   "outputs": [
    {
     "data": {
      "image/png": "[encoded data removed]",
      "text/plain": [
       "<Figure size 400x400 with 1 Axes>"
      ]
     },
     "metadata": {},
     "output_type": "display_data"
    }
   ],
   "source": [
    "# 군집 기준으로 색깔 다르게 해서 군집 확인하기\n",
    "plt.figure(figsize=(4, 4))\n",
    "plt.scatter(raw_data_scaled['dependency_ratio'], raw_data_scaled['healthcare'], c=raw_data_scaled['cluster'], marker='o')\n",
    "\n",
    "# 한국의 인덱스 찾아서 빨간 점으로 표시\n",
    "Korea = raw_data_scaled.index[raw_data_scaled['Name'] == 'South Korea'].tolist()[0]\n",
    "plt.scatter(raw_data_scaled['dependency_ratio'][Korea], raw_data_scaled['healthcare'][Korea], marker='o', color = 'red')\n",
    "\n",
    "plt.title(\"K-Means Clustering\")\n",
    "plt.xlabel(\"dependency_ratio\")\n",
    "plt.ylabel('healthcare')\n",
    "plt.xlim([-2, 5])\n",
    "plt.ylim([-2, 5])\n",
    "plt.show()"
   ]
  },
  {
   "cell_type": "code",
   "execution_count": 50,
   "id": "67cf4a00-a8f6-4e76-9dbc-757e4e38c137",
   "metadata": {},
   "outputs": [
    {
     "data": {
      "text/html": [
       "<div>\n",
       "<style scoped>\n",
       "    .dataframe tbody tr th:only-of-type {\n",
       "        vertical-align: middle;\n",
       "    }\n",
       "\n",
       "    .dataframe tbody tr th {\n",
       "        vertical-align: top;\n",
       "    }\n",
       "\n",
       "    .dataframe thead th {\n",
       "        text-align: right;\n",
       "    }\n",
       "</style>\n",
       "<table border=\"1\" class=\"dataframe\">\n",
       "  <thead>\n",
       "    <tr style=\"text-align: right;\">\n",
       "      <th></th>\n",
       "      <th>Name</th>\n",
       "      <th>cluster</th>\n",
       "    </tr>\n",
       "  </thead>\n",
       "  <tbody>\n",
       "    <tr>\n",
       "      <th>65</th>\n",
       "      <td>South Korea</td>\n",
       "      <td>1</td>\n",
       "    </tr>\n",
       "  </tbody>\n",
       "</table>\n",
       "</div>"
      ],
      "text/plain": [
       "           Name  cluster\n",
       "65  South Korea        1"
      ]
     },
     "execution_count": 50,
     "metadata": {},
     "output_type": "execute_result"
    }
   ],
   "source": [
    "# 한국이 어떤 군집에 속하는지 확인\n",
    "raw_data_scaled.loc[raw_data_scaled['Name'] == 'South Korea'][['Name', 'cluster']]"
   ]
  },
  {
   "cell_type": "markdown",
   "id": "d8bbdede-a505-454a-a674-199b81c946e5",
   "metadata": {},
   "source": [
    "결론"
   ]
  },
  {
   "cell_type": "markdown",
   "id": "4af8f68d-67c9-4868-9201-15c3f8ea08ab",
   "metadata": {},
   "source": [
    "클러스터링 결과, 한국은 군집 1(청록색)에 속했으며, 한국은 별도로 빨간색으로 표시했다. 군집 1의 특징을 보면 다른 군집(0, 2)에 비해 dependency_ratio, healthcare 모두 높은 편에 속한다. 즉 경제활동인구의 비율이 낮으며, 의료수준이 상대적으로 높은 국가임을 의미한다. 같은 군집에 속한 국가들 중 한국과 가장 가깝게 위치한 국가들을 확인하여 해당 국가들의 저출산 정책을 참고하고자 한다."
   ]
  },
  {
   "cell_type": "code",
   "execution_count": 51,
   "id": "5fb3efcc-badb-4a7b-b9c1-5ed15e29a0c5",
   "metadata": {},
   "outputs": [
    {
     "data": {
      "text/html": [
       "<div>\n",
       "<style scoped>\n",
       "    .dataframe tbody tr th:only-of-type {\n",
       "        vertical-align: middle;\n",
       "    }\n",
       "\n",
       "    .dataframe tbody tr th {\n",
       "        vertical-align: top;\n",
       "    }\n",
       "\n",
       "    .dataframe thead th {\n",
       "        text-align: right;\n",
       "    }\n",
       "</style>\n",
       "<table border=\"1\" class=\"dataframe\">\n",
       "  <thead>\n",
       "    <tr style=\"text-align: right;\">\n",
       "      <th></th>\n",
       "      <th>Name</th>\n",
       "      <th>healthcare</th>\n",
       "      <th>dependency_ratio</th>\n",
       "      <th>cluster</th>\n",
       "      <th>distance</th>\n",
       "    </tr>\n",
       "  </thead>\n",
       "  <tbody>\n",
       "    <tr>\n",
       "      <th>1</th>\n",
       "      <td>Israel</td>\n",
       "      <td>1.223934</td>\n",
       "      <td>0.511672</td>\n",
       "      <td>1</td>\n",
       "      <td>0.167</td>\n",
       "    </tr>\n",
       "    <tr>\n",
       "      <th>2</th>\n",
       "      <td>Iceland</td>\n",
       "      <td>1.177704</td>\n",
       "      <td>0.814561</td>\n",
       "      <td>1</td>\n",
       "      <td>0.250</td>\n",
       "    </tr>\n",
       "    <tr>\n",
       "      <th>3</th>\n",
       "      <td>Luxembourg</td>\n",
       "      <td>1.103738</td>\n",
       "      <td>0.490433</td>\n",
       "      <td>1</td>\n",
       "      <td>0.277</td>\n",
       "    </tr>\n",
       "    <tr>\n",
       "      <th>4</th>\n",
       "      <td>Singapore</td>\n",
       "      <td>1.529046</td>\n",
       "      <td>0.252185</td>\n",
       "      <td>1</td>\n",
       "      <td>0.419</td>\n",
       "    </tr>\n",
       "    <tr>\n",
       "      <th>5</th>\n",
       "      <td>Ireland</td>\n",
       "      <td>0.918821</td>\n",
       "      <td>0.677892</td>\n",
       "      <td>1</td>\n",
       "      <td>0.428</td>\n",
       "    </tr>\n",
       "  </tbody>\n",
       "</table>\n",
       "</div>"
      ],
      "text/plain": [
       "         Name  healthcare  dependency_ratio  cluster  distance\n",
       "1      Israel    1.223934          0.511672        1     0.167\n",
       "2     Iceland    1.177704          0.814561        1     0.250\n",
       "3  Luxembourg    1.103738          0.490433        1     0.277\n",
       "4   Singapore    1.529046          0.252185        1     0.419\n",
       "5     Ireland    0.918821          0.677892        1     0.428"
      ]
     },
     "execution_count": 51,
     "metadata": {},
     "output_type": "execute_result"
    }
   ],
   "source": [
    "# 한국과 가장 가까운(비슷한) 국가 5개 확인\n",
    "\n",
    "from sklearn.metrics import pairwise_distances\n",
    "\n",
    "Korea_neighbors = raw_data_scaled[['Name', 'healthcare', 'dependency_ratio', 'cluster']]\n",
    "Korea_neighbors['distance'] = np.round(pairwise_distances(Korea_neighbors[['dependency_ratio', 'healthcare']]), 3)[Korea]\n",
    "Korea_neighbors = Korea_neighbors.sort_values('distance')\n",
    "Korea_neighbors = Korea_neighbors.loc[raw_data_scaled['cluster'] == 1]\n",
    "Korea_neighbors = Korea_neighbors.reset_index(drop = True)\n",
    "\n",
    "Korea_neighbors[1:6]"
   ]
  },
  {
   "cell_type": "markdown",
   "id": "b1c40a7b-088c-4cc5-8692-192f846dba80",
   "metadata": {},
   "source": [
    "확인 결과, 대한민국과 의료 수준과 부양비율이 가장 비슷한 5개국은 이스라엘, 아이슬란드, 룩셈부르크, 아일랜드이다. 해당 국가들이 저출산에 어떻게 대처하는지에 대한 정책을 참고하면 한국의 상황에 맞는 정책들에 대한 영감을 얻을 수 있을 것이다."
   ]
  },
  {
   "cell_type": "markdown",
   "id": "dee3cf4b-3666-46c0-840a-da41778e62e0",
   "metadata": {
    "tags": []
   },
   "source": [
    "# [3. t-Test]"
   ]
  },
  {
   "cell_type": "markdown",
   "id": "6bf2e000-d4ea-442a-826e-5eb7bf5e616e",
   "metadata": {},
   "source": [
    "3. Statistics - 현재 시행중인 경제적 지원 중심 정책은 효과가 있을까?\n",
    "\n",
    " - 사용 기법: Independent t-test\n",
    "\n",
    " - 개요: 현재 시행 중인 경제적 지원 중심의 정책도 효과가 있는지 검증해야 지원량을 줄일지 늘릴지 등의 판단을 할 수 있을 것이다. 국가들을 GDP가 높은 국가/GDP가 낮은 국가로 구분한 샘플로 나눠서 t-test를 할 것이다. 이를 통해 경제력이 출산율에 유의미한 영향력을 미치는지 확인해보고자 한다. 만일 경제력이 높은 국가들에서 출산율이 높게 나타난다면, 경제적 지원 중심 정책의 효과가 크다고 볼 수 있을 것이다."
   ]
  },
  {
   "cell_type": "markdown",
   "id": "c607fa66-9e82-4f04-b2e1-b88ed7ccfa54",
   "metadata": {},
   "source": [
    "### - Creating samples"
   ]
  },
  {
   "cell_type": "markdown",
   "id": "136541aa-d7b7-455f-96d8-b6d1ae45d660",
   "metadata": {},
   "source": [
    "샘플을 생성하기 위해 각 국가의 출산율, GDP만 모아서 GDP 순으로 정렬하였다."
   ]
  },
  {
   "cell_type": "code",
   "execution_count": 52,
   "id": "40e3326c-d277-4bcb-9a02-a0ed1d4dd97b",
   "metadata": {},
   "outputs": [
    {
     "data": {
      "text/html": [
       "<div>\n",
       "<style scoped>\n",
       "    .dataframe tbody tr th:only-of-type {\n",
       "        vertical-align: middle;\n",
       "    }\n",
       "\n",
       "    .dataframe tbody tr th {\n",
       "        vertical-align: top;\n",
       "    }\n",
       "\n",
       "    .dataframe thead th {\n",
       "        text-align: right;\n",
       "    }\n",
       "</style>\n",
       "<table border=\"1\" class=\"dataframe\">\n",
       "  <thead>\n",
       "    <tr style=\"text-align: right;\">\n",
       "      <th></th>\n",
       "      <th>Name</th>\n",
       "      <th>Fertility_rate</th>\n",
       "      <th>GDP</th>\n",
       "    </tr>\n",
       "  </thead>\n",
       "  <tbody>\n",
       "    <tr>\n",
       "      <th>0</th>\n",
       "      <td>Luxembourg</td>\n",
       "      <td>1.38</td>\n",
       "      <td>127046.0</td>\n",
       "    </tr>\n",
       "    <tr>\n",
       "      <th>1</th>\n",
       "      <td>Norway</td>\n",
       "      <td>1.55</td>\n",
       "      <td>106594.0</td>\n",
       "    </tr>\n",
       "    <tr>\n",
       "      <th>2</th>\n",
       "      <td>Ireland</td>\n",
       "      <td>1.72</td>\n",
       "      <td>105362.0</td>\n",
       "    </tr>\n",
       "    <tr>\n",
       "      <th>3</th>\n",
       "      <td>Switzerland</td>\n",
       "      <td>1.52</td>\n",
       "      <td>92410.0</td>\n",
       "    </tr>\n",
       "    <tr>\n",
       "      <th>4</th>\n",
       "      <td>Qatar</td>\n",
       "      <td>1.80</td>\n",
       "      <td>88046.0</td>\n",
       "    </tr>\n",
       "  </tbody>\n",
       "</table>\n",
       "</div>"
      ],
      "text/plain": [
       "          Name  Fertility_rate       GDP\n",
       "0   Luxembourg            1.38  127046.0\n",
       "1       Norway            1.55  106594.0\n",
       "2      Ireland            1.72  105362.0\n",
       "3  Switzerland            1.52   92410.0\n",
       "4        Qatar            1.80   88046.0"
      ]
     },
     "execution_count": 52,
     "metadata": {},
     "output_type": "execute_result"
    }
   ],
   "source": [
    "a=fertility_rate_raw\n",
    "b=GDP_raw\n",
    "GDP = pd.merge(left = a , right = b, how = \"inner\", on = \"Name\")\n",
    "GDP = GDP.sort_values('GDP', ascending = False)\n",
    "GDP = GDP.reset_index(drop = True)\n",
    "GDP.head()"
   ]
  },
  {
   "cell_type": "markdown",
   "id": "8c825975-d2ea-4108-a1b2-8b004d03b0b8",
   "metadata": {},
   "source": [
    "159개 국가 중 GDP가 높은 국가들(1위 ~ 80위)의 샘플과 GDP가 낮은 국가들(81위 ~ 159위)의 샘플을 추출하였다.(서로 독립)"
   ]
  },
  {
   "cell_type": "code",
   "execution_count": 53,
   "id": "4d1d0e29-8127-4aa5-9ee9-ec8b805cc609",
   "metadata": {},
   "outputs": [],
   "source": [
    "high_GDP = GDP[:80]['Fertility_rate']\n",
    "low_GDP = GDP[80:]['Fertility_rate']"
   ]
  },
  {
   "cell_type": "markdown",
   "id": "cd228e3a-de69-4b40-ad76-2d34552cc4a7",
   "metadata": {},
   "source": [
    "### - 결과 시각화, 결론"
   ]
  },
  {
   "cell_type": "markdown",
   "id": "a13ea460-dee5-4672-85ba-57c05dd956e9",
   "metadata": {},
   "source": [
    "먼저 GDP가 높은/낮은 두 샘플의 출산율 분포를 시각화하였다."
   ]
  },
  {
   "cell_type": "code",
   "execution_count": 54,
   "id": "7c92aa7a-b52c-4855-81b6-715552a88f2c",
   "metadata": {},
   "outputs": [
    {
     "data": {
      "image/png": "[encoded data removed]",
      "text/plain": [
       "<Figure size 800x400 with 2 Axes>"
      ]
     },
     "metadata": {},
     "output_type": "display_data"
    }
   ],
   "source": [
    "labels = ['high_GDP_group', 'low_GDP_group']\n",
    "\n",
    "fig, (ax1, ax2) = plt.subplots(1, 2, figsize=(8, 4), sharey=True)\n",
    "plt.suptitle('high_GDP_group VS low_GDP_group')\n",
    "\n",
    "i = 0\n",
    "for (ax, data) in zip([ax1, ax2], [high_GDP, low_GDP]):\n",
    "    ax.boxplot(list(data))\n",
    "    ax.set_xlabel(f'{labels[i]}')\n",
    "    ax.set_ylabel('fertility rate')\n",
    "    i = i+1"
   ]
  },
  {
   "cell_type": "markdown",
   "id": "6a287c46-1e83-4f8d-ac81-9b4fd63bc7a5",
   "metadata": {},
   "source": [
    "시각적으로 봤을때는 GDP가 낮은 샘플의 출산율이 더 높아보인다. Independent t-test를 통해 실제로 그런지 알아보았다."
   ]
  },
  {
   "cell_type": "markdown",
   "id": "30fffd84-f8ac-4a16-85ad-6c39af7c221a",
   "metadata": {},
   "source": [
    "t test"
   ]
  },
  {
   "cell_type": "markdown",
   "id": "9604fd4a-2dba-415c-b246-fe539907c8cc",
   "metadata": {},
   "source": [
    "2개의 서로 독립적인 샘플(high_GDP_group, low_GDP_group)에 대하여 다음의 3가지 Independent t-test를 진행하였다."
   ]
  },
  {
   "cell_type": "code",
   "execution_count": 55,
   "id": "0ff174f5-633a-4c78-8bb9-5e9cdb38da44",
   "metadata": {},
   "outputs": [],
   "source": [
    "from scipy import stats"
   ]
  },
  {
   "cell_type": "code",
   "execution_count": 56,
   "id": "16fa73c0-65a4-40d9-bb2a-b9327117d750",
   "metadata": {},
   "outputs": [
    {
     "name": "stdout",
     "output_type": "stream",
     "text": [
      "귀무가설 H0: High_출산율 == Low_출산율\n",
      "statistic: -10.35\n",
      "p-value:1.8e-19\n",
      "\n",
      "귀무가설 H0: High_출산율 <= Low_출산율\n",
      "statistic: -10.35\n",
      "\n",
      "귀무가설 H0: High_출산율 >= Low_출산율\n",
      "statistic: -10.35\n",
      "p-value:9e-20\n",
      "\n"
     ]
    }
   ],
   "source": [
    "equal = stats.ttest_ind(high_GDP, low_GDP)\n",
    "greater = stats.ttest_ind(high_GDP, low_GDP, alternative='greater')\n",
    "less = stats.ttest_ind(high_GDP, low_GDP, alternative='less')\n",
    "\n",
    "# two-sided Independent t-test(귀무가설 H0: High_출산율 == Low_출산율)\n",
    "print('귀무가설 H0: High_출산율 == Low_출산율')\n",
    "print(f'statistic: {round(equal.statistic, 2)}')\n",
    "print(f'p-value:{round(equal.pvalue, 20)}')\n",
    "print()\n",
    "      \n",
    "# one-sided Independent t-test(귀무가설 H0: High_출산율 <= Low_출산율)\n",
    "print('귀무가설 H0: High_출산율 <= Low_출산율')\n",
    "print(f'statistic: {round(greater.statistic, 2)}')\n",
    "#print(f'p-value:{round(greater.pvalue, 20)}')\n",
    "print()\n",
    "\n",
    "# one-sided Independent t-test(귀무가설 H0: High_출산율 >= Low_출산율)\n",
    "print('귀무가설 H0: High_출산율 >= Low_출산율')\n",
    "print(f'statistic: {round(less.statistic, 2)}')\n",
    "print(f'p-value:{round(less.pvalue, 20)}')\n",
    "print()"
   ]
  },
  {
   "cell_type": "markdown",
   "id": "89b0aa0e-fd0f-4245-bf76-881366f5e6cd",
   "metadata": {},
   "source": [
    "결론"
   ]
  },
  {
   "cell_type": "markdown",
   "id": "76513f0c-722b-41ff-b671-91ae46c6ca9f",
   "metadata": {},
   "source": [
    "두번째 귀무가설 \"H0: High_출산율 <= Low_출산율\"이 아주 높은 p-value(1)로 accept된 것으로 보아, 오히려 GDP가 높은 국가들이 대체로 출산율이 낮다는 것을 알 수 있다. 이것의 이유는 앞서 언급한 의료 수준과 문해율처럼([링크2](#링크2)) 선진국(GDP가 높은 국가들)에서 나타나는 경향성이라고 볼 수 있다.\n",
    "\n",
    "물론 그렇다고 해서 관련 경제적 지원을 줄이는 것이 더 좋다는 것은 아니다. 다만 경제적 지원'만' 하는 것이 아니라 가설1 에서도 언급한 것처럼 육아 휴직 제도의 적용을 확대하거나, 일을 하면서도 아이를 맡길 수 있는 아동 복지센터 등에 지원을 하는 등의 폭넓은 정책을 시행하는 것이 중요할 것이다. 결국 금전적 지원 성향의 정책만 추진하는 것은 근본적으로 저출산 문제를 해결할 수 없다는 것이다."
   ]
  }
 ],
 "metadata": {
  "kernelspec": {
   "display_name": "Python 3 (ipykernel)",
   "language": "python",
   "name": "python3"
  },
  "language_info": {
   "codemirror_mode": {
    "name": "ipython",
    "version": 3
   },
   "file_extension": ".py",
   "mimetype": "text/x-python",
   "name": "python",
   "nbconvert_exporter": "python",
   "pygments_lexer": "ipython3",
   "version": "3.10.11"
  }
 },
 "nbformat": 4,
 "nbformat_minor": 5
}
